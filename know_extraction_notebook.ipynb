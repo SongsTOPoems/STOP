{
 "cells": [
  {
   "cell_type": "markdown",
   "id": "fe8ed951-c44a-407f-8cdf-0ea71ccbd755",
   "metadata": {},
   "source": [
    "<h1 style=\"color:red\"; font-size:30px\">KNOWLEDGE EXTRACTION</h1>"
   ]
  },
  {
   "cell_type": "markdown",
   "id": "3ea61719-11e9-4a71-8db1-3e5f4245fece",
   "metadata": {},
   "source": [
    "<p>The main goal of our project is to make a <b>comparison</b>, from a semantic poin of view, between the <b>Fabrizio De André music album</b>, with the title <b>\"Non al denaro non all'amore né al cielo\"</b>, and the <b>Edgar Lee Masters' Spoon River anthology poems</b>.</p> \n",
    "<p>Fabrizio De André for its fifth album, published in 1971, decided to give a personal interpretation of nine of the Spoon River's poems, developing in particular the <b>envy</b> and the <b>science</b> topics.<br>\n",
    "During an interview made by Fernanda Pivano, who translated and reviewed together with Cesare Pavese the first italian edition of the Spoon River's anthology, Fabrizio De André said:<br>\n",
    "   <em>“Spoon River l’ho letto da ragazzo, avrò avuto 18 anni. Mi era piaciuto [...] forse perché in questi personaggi si trova qualcosa di me. Poi mi è capitato di rileggerlo, due anni fa [1969, ndr], e mi sono reso conto che non era invecchiato per niente. Soprattutto mi ha colpito un fatto: nella vita, si è costretti alla competizione, magari si è costretti a pensare il falso o a non essere sinceri, nella morte, invece, i personaggi di Spoon River si esprimono con estrema sincerità, perché non hanno più da aspettarsi niente, non hanno più niente da pensare. Così parlano come da vivi non sono mai stati capaci di fare”.</em>\n",
    "<p>Our main research questions are: <br>\n",
    "<b><em>\"Is it possible to extract in an automatic way the main themes treated in each of the nine Spoon River poems and in the De André corresponding songs?\"<br>\n",
    "\"What are the differences between them?\" <br> \"Are the results that we gather from this topic extraction in line with the personal interpretation of De André about his own music album?\"</em></b></p>"
   ]
  },
  {
   "cell_type": "markdown",
   "id": "eb3dd118-6dd2-46dd-a11f-9fd2988cb507",
   "metadata": {},
   "source": [
    "<h2 style=\"color:red\">Methodology</h2>"
   ]
  },
  {
   "cell_type": "markdown",
   "id": "82a2630e-20c1-465c-b6c1-155dac8b59b0",
   "metadata": {},
   "source": [
    "<p>To accomplish this knowledge extraction task we decide to use <b><a href=\"https://maartengr.github.io/BERTopic/index.html\">BERTopic</a></b>, which is a a topic modeling technique that leverages BERT embeddings and <a href=\"https://maartengr.github.io/BERTopic/api/ctfidf.html\">c-TF-IDF</a> to create dense clusters allowing for easily interpretable topics whilst keeping important words in the topic descriptions.</p>"
   ]
  },
  {
   "cell_type": "markdown",
   "id": "2b9e872a-a6d4-4b5d-b11f-6b4cbaf289e0",
   "metadata": {},
   "source": [
    "<p>We decided to use as corpus for our research the entire Spoon River anthology, consisting of 244 poems in the last 1916 edition, and due to its reduced dimension we found more interesting to use an <a href=\"https://maartengr.github.io/BERTopic/getting_started/embeddings/embeddings.html\">embedding model</a>, that allowed us to leverage pre-trained embeddings suitable for our use case, and to create topics, even if we had little data available.</p>\n",
    "<p>We used a general purpose trained model, <b><a href=\"https://www.sbert.net/docs/pretrained_models.html\">all-MiniLM-L6-v2</a></b> in particular, which has been trained on a large and diverse dataset of over 1 billion training pairs and offers good quality and high speed.</p>"
   ]
  },
  {
   "cell_type": "code",
   "execution_count": 2,
   "id": "f90411bd-a86a-4636-80cb-9900df851887",
   "metadata": {},
   "outputs": [],
   "source": [
    "import numpy as np\n",
    "import pandas as pd\n",
    "from copy import deepcopy\n",
    "from bertopic import BERTopic\n",
    "\n",
    "from bertopic import BERTopic\n",
    "topic_model = BERTopic(embedding_model=\"all-MiniLM-L6-v2\")"
   ]
  },
  {
   "cell_type": "markdown",
   "id": "f559e918-d6cd-46ef-bbf0-878135060b08",
   "metadata": {},
   "source": [
    "Then through the method <a href=\"https://maartengr.github.io/BERTopic/api/bertopic.html#bertopic._bertopic.BERTopic.fit\"><code>  fit(documents, embeddings=None, y=None)</code></a> we fitted the trained model on our collection of documents, formed by not the entire poems but single verses. <br> Before using the method <code> fit() </code>, we have pre-processed our corpus removing the punctuation and changing all the characters to lowercase ones through the following functions:"
   ]
  },
  {
   "cell_type": "code",
   "execution_count": 9,
   "id": "42f7f8f4-9a87-4f8b-bc6f-78747143cf0b",
   "metadata": {},
   "outputs": [],
   "source": [
    "#in this string we put the texts of all the Spoon River Anthology poems\n",
    "\n",
    "poems='''\n",
    "  The Hill\n",
    "  Where are Elmer, Herman, Bert, Tom and Charley,\n",
    "  The weak of will, the strong of arm, the clown, the boozer, the fighter?\n",
    "  All, all are sleeping on the hill.\n",
    "  One passed in a fever,\n",
    "  One was burned in a mine,\n",
    "  One was killed in a brawl,\n",
    "  One died in a jail,\n",
    "  One fell from a bridge toiling for children and wife--\n",
    "  All, all are sleeping, sleeping, sleeping on the hill.\n",
    "  Where are Ella, Kate, Mag, Lizzie and Edith,\n",
    "  The tender heart, the simple soul, the loud, the proud, the happy one?--\n",
    "  All, all are sleeping on the hill.\n",
    "  One died in shameful child-birth,\n",
    "  One of a thwarted love,\n",
    "  One at the hands of a brute in a brothel,\n",
    "  One of a broken pride, in the search for heart's desire;\n",
    "  One after life in far-away London and Paris\n",
    "  Was brought to her little space by Ella and Kate and Mag--\n",
    "  All, all are sleeping, sleeping, sleeping on the hill.\n",
    "  Where are Uncle Isaac and Aunt Emily,\n",
    "  And old Towny Kincaid and Sevigne Houghton,\n",
    "  And Major Walker who had talked\n",
    "  With venerable men of the revolution?--\n",
    "  All, all are sleeping on the hill.\n",
    "  They brought them dead sons from the war,\n",
    "  And daughters whom life had crushed,\n",
    "  And their children fatherless, crying--\n",
    "  All, all are sleeping, sleeping, sleeping on the hill.\n",
    "  Where is Old Fiddler Jones\n",
    "  Who played with life all his ninety years,\n",
    "  Braving the sleet with bared breast,\n",
    "  Drinking, rioting, thinking neither of wife nor kin,\n",
    "  Nor gold, nor love, nor heaven?\n",
    "  Lo! he babbles of the fish-frys of long ago,\n",
    "  Of the horse-races of long ago at Clary's Grove,\n",
    "  Of what Abe Lincoln said\n",
    "  One time at Springfield.\n",
    "  Hod Putt\n",
    "  HERE I lie close to the grave\n",
    "  Of Old Bill Piersol,\n",
    "  (...)'''\n"
   ]
  },
  {
   "cell_type": "code",
   "execution_count": 10,
   "id": "f7984f5a-1f4d-4508-8e36-1372970be59a",
   "metadata": {},
   "outputs": [],
   "source": [
    "#through a simple split we obtain a list of strings, in which each string is a verse.\n",
    "verses = poems.split(\"\\n\")"
   ]
  },
  {
   "cell_type": "code",
   "execution_count": 13,
   "id": "a6ab76b5-38ef-48d6-b8ef-a4dd9c8d61fa",
   "metadata": {},
   "outputs": [],
   "source": [
    "import nltk, nltk.tokenize, nltk.corpus, nltk.stem\n",
    "from nltk.tokenize import word_tokenize, RegexpTokenizer\n",
    "from nltk.corpus import stopwords, wordnet\n",
    "\n",
    "#lowercase text\n",
    "def to_lower(text):\n",
    "    return ' '.join([w.lower() for w in word_tokenize(text)])\n",
    "\n",
    "#remove stopwords\n",
    "def remove_stopwords(text):\n",
    "    no_stop = text.split()\n",
    "    stopwordz = stopwords.words('english')\n",
    "    for word in no_stop:\n",
    "        for stopword in stopwordz:\n",
    "            if word == stopword:\n",
    "                no_stop.remove(word)\n",
    "    return ' '.join(no_stop)\n",
    "\n",
    "#remove punctuation\n",
    "def strip_punctuation(text):\n",
    "    tokenizer = RegexpTokenizer(r'\\w+')\n",
    "    return ' '.join(tokenizer.tokenize(text))\n",
    "\n",
    "#preprocess text\n",
    "def preprocess(text):\n",
    "    lower_text = to_lower(text)\n",
    "    text_no_stopwords = remove_stopwords(lower_text)\n",
    "    text_no_punct = strip_punctuation(text_no_stopwords)\n",
    "    return text_no_punct\n",
    "\n",
    "#application of the function preprocess(text) to our corpus \n",
    "verses_no_punct=[]\n",
    "for x in verses:\n",
    "    x_preprocessed=preprocess(x)\n",
    "    verses_no_punct.append(x_preprocessed)"
   ]
  },
  {
   "cell_type": "markdown",
   "id": "7d8d6afd-5630-4095-8912-951c977a351c",
   "metadata": {},
   "source": [
    "<p>Then we passed as parameter of the method <code> fit() </code> the list of pre-processed strings containing the verses of the Spoon River poems.</p>"
   ]
  },
  {
   "cell_type": "code",
   "execution_count": null,
   "id": "9f1bba85-11bb-4056-aaae-76b1f61ce9bc",
   "metadata": {},
   "outputs": [],
   "source": [
    "topic_model.fit(verses_no_punct)"
   ]
  },
  {
   "cell_type": "markdown",
   "id": "c5fdce6d-2e48-40ea-acb1-df71af65b74c",
   "metadata": {},
   "source": [
    "<p>Using the method<a href=\"https://maartengr.github.io/BERTopic/api/bertopic.html#bertopic._bertopic.BERTopic.get_topic_freq\"> <code>topic_model.get_topic_freq(topic=none)</code></a> is possible to obtain the number and the frequence of all the retrieved topics.<br> We have found 88 different topics for the entire Spoon River anthology. It is important to point out that the <code>topic -1</code> represents always the outliers so it can be ignored.</p>"
   ]
  },
  {
   "cell_type": "code",
   "execution_count": 9,
   "id": "e5769b75-c7cf-478a-8633-a9765b3a7935",
   "metadata": {},
   "outputs": [
    {
     "data": {
      "text/html": [
       "<div>\n",
       "<style scoped>\n",
       "    .dataframe tbody tr th:only-of-type {\n",
       "        vertical-align: middle;\n",
       "    }\n",
       "\n",
       "    .dataframe tbody tr th {\n",
       "        vertical-align: top;\n",
       "    }\n",
       "\n",
       "    .dataframe thead th {\n",
       "        text-align: right;\n",
       "    }\n",
       "</style>\n",
       "<table border=\"1\" class=\"dataframe\">\n",
       "  <thead>\n",
       "    <tr style=\"text-align: right;\">\n",
       "      <th></th>\n",
       "      <th>Topic</th>\n",
       "      <th>Count</th>\n",
       "    </tr>\n",
       "  </thead>\n",
       "  <tbody>\n",
       "    <tr>\n",
       "      <th>0</th>\n",
       "      <td>-1</td>\n",
       "      <td>1616</td>\n",
       "    </tr>\n",
       "    <tr>\n",
       "      <th>1</th>\n",
       "      <td>0</td>\n",
       "      <td>118</td>\n",
       "    </tr>\n",
       "    <tr>\n",
       "      <th>2</th>\n",
       "      <td>1</td>\n",
       "      <td>114</td>\n",
       "    </tr>\n",
       "    <tr>\n",
       "      <th>3</th>\n",
       "      <td>2</td>\n",
       "      <td>103</td>\n",
       "    </tr>\n",
       "    <tr>\n",
       "      <th>4</th>\n",
       "      <td>3</td>\n",
       "      <td>92</td>\n",
       "    </tr>\n",
       "    <tr>\n",
       "      <th>...</th>\n",
       "      <td>...</td>\n",
       "      <td>...</td>\n",
       "    </tr>\n",
       "    <tr>\n",
       "      <th>84</th>\n",
       "      <td>83</td>\n",
       "      <td>11</td>\n",
       "    </tr>\n",
       "    <tr>\n",
       "      <th>85</th>\n",
       "      <td>84</td>\n",
       "      <td>11</td>\n",
       "    </tr>\n",
       "    <tr>\n",
       "      <th>86</th>\n",
       "      <td>85</td>\n",
       "      <td>10</td>\n",
       "    </tr>\n",
       "    <tr>\n",
       "      <th>87</th>\n",
       "      <td>86</td>\n",
       "      <td>10</td>\n",
       "    </tr>\n",
       "    <tr>\n",
       "      <th>88</th>\n",
       "      <td>87</td>\n",
       "      <td>10</td>\n",
       "    </tr>\n",
       "  </tbody>\n",
       "</table>\n",
       "<p>89 rows × 2 columns</p>\n",
       "</div>"
      ],
      "text/plain": [
       "    Topic  Count\n",
       "0      -1   1616\n",
       "1       0    118\n",
       "2       1    114\n",
       "3       2    103\n",
       "4       3     92\n",
       "..    ...    ...\n",
       "84     83     11\n",
       "85     84     11\n",
       "86     85     10\n",
       "87     86     10\n",
       "88     87     10\n",
       "\n",
       "[89 rows x 2 columns]"
      ]
     },
     "execution_count": 9,
     "metadata": {},
     "output_type": "execute_result"
    }
   ],
   "source": [
    "topic_model.get_topic_freq()"
   ]
  },
  {
   "cell_type": "markdown",
   "id": "6831c28c-a65f-4c8a-8e7e-a2eb88145d9f",
   "metadata": {},
   "source": [
    "<p>Our intuition has been to use the method <a href=\"https://maartengr.github.io/BERTopic/api/bertopic.html#bertopic._bertopic.BERTopic.find_topics\"><code>find_topics(search_term, top_n=5)</code></a>using as parameter an entire poem or an entire song, in order to see which of the topics retrieved for the entire Spoon River anthology would have been associated to that specific poem or song.<br>\n",
    "Furthermore the method <a href=\"https://maartengr.github.io/BERTopic/api/bertopic.html#bertopic._bertopic.BERTopic.get_topic\"><code>get_topic(topic)</code></a> returns top n words for a specific topic.</p> \n",
    "<p>We have used this method for all the nine songs of the music album \"Non al denaro non all'amore né al cielo\" and for the nine poems of the Spoon River anthology from which De André took inspiration.<br>\n",
    "In the following cells it is possible to check the results that we obtained.</p>"
   ]
  },
  {
   "cell_type": "markdown",
   "id": "340a7c31-a8df-4e36-b88c-0385428900ed",
   "metadata": {},
   "source": [
    "<h2 style=\"color:red\">Results </h2>"
   ]
  },
  {
   "cell_type": "markdown",
   "id": "df028c13-ee22-4319-acd2-433470ca18df",
   "metadata": {},
   "source": [
    "<h4 style=\"color:red\">1a - La collina</h4>"
   ]
  },
  {
   "cell_type": "code",
   "execution_count": 22,
   "id": "96513ad2-ba15-465c-9ac6-cb1186e3bdac",
   "metadata": {
    "scrolled": true
   },
   "outputs": [
    {
     "data": {
      "text/plain": [
       "([25, 69, 43, 2, 5],\n",
       " [0.367177523713194,\n",
       "  0.3585694716629595,\n",
       "  0.3569291820125505,\n",
       "  0.29981799710945534,\n",
       "  0.2573903827852931])"
      ]
     },
     "execution_count": 22,
     "metadata": {},
     "output_type": "execute_result"
    }
   ],
   "source": [
    "topic_model.find_topics(\"\"\"They sleep on the hill Where has Elmer gone he, who let himself die of fever where Herman who was burned in a mine cave. Where are Bert and Tom the first killed in a brawl and the other who came out of prision already dead. What will be of Charley who fell while working from the bridge flew, and flew on the road. They sleep, they sleep on the hill they sleep, they sleep on the hill. Where are Ella and Kate both died by mistake one of abortion, the other of love. And Maggie killed in a brothel by the caresses of an animal and Edith and consumed by a strange evil. And Lizzie, who pursued life far away, and from England she was brought back in this small piece of land. They sleep, they sleep on the hill they sleep, they sleep on the hill. Where are the Generals who were honored in the battles with cemeteries of crosses on their chests, where the children of the war who have left for an ideal for a scam, for a badly ended love, they have sent home their remains in the flags tightly tied so that they could still seem integer. They sleep, they sleep on the hill they sleep, they sleep on the hill. Where is Jones the player who was surprised by his ninety years and who would have still played with life. He, who offered his face to the wind the throat to the wine and never a thought not money, not to heaven nor to love. He, it still seems possible to hear him chatting about dirty things eat on the street in the wrong hours, it seems again possible to hear him tell the merchant of liquors \"You, who sell it, what better thing do you buy for yourself?\"\"\")"
   ]
  },
  {
   "cell_type": "code",
   "execution_count": 23,
   "id": "d56080a6-a8bb-41cc-9d57-7b4fc19bc9a3",
   "metadata": {},
   "outputs": [
    {
     "data": {
      "text/plain": [
       "[('hill', 0.13118030038898457),\n",
       " ('hills', 0.1300899616858994),\n",
       " ('mountains', 0.11492382712001638),\n",
       " ('mountain', 0.08619287034001229),\n",
       " ('river', 0.07524063020438908),\n",
       " ('slopes', 0.06730202658370817),\n",
       " ('valleys', 0.06730202658370817),\n",
       " ('road', 0.04960744456542515),\n",
       " ('golden', 0.04612162308684979),\n",
       " ('fields', 0.044670311920375155)]"
      ]
     },
     "execution_count": 23,
     "metadata": {},
     "output_type": "execute_result"
    }
   ],
   "source": [
    "topic_model.get_topic(25)"
   ]
  },
  {
   "cell_type": "code",
   "execution_count": 24,
   "id": "a274eb58-07b4-4613-ae07-dcefcbc3f4fb",
   "metadata": {},
   "outputs": [
    {
     "data": {
      "text/plain": [
       "[('sleeping', 0.4966235898801303),\n",
       " ('sleep', 0.31495806882989147),\n",
       " ('hill', 0.22651008390147648),\n",
       " ('are', 0.17243720104450572),\n",
       " ('side', 0.10675244260920477),\n",
       " ('maternal', 0.07776776833365001),\n",
       " ('ancestors', 0.07776776833365001),\n",
       " ('pekin', 0.07776776833365001),\n",
       " ('cells', 0.07776776833365001),\n",
       " ('existent', 0.07776776833365001)]"
      ]
     },
     "execution_count": 24,
     "metadata": {},
     "output_type": "execute_result"
    }
   ],
   "source": [
    "topic_model.get_topic(69)"
   ]
  },
  {
   "cell_type": "code",
   "execution_count": 25,
   "id": "62700115-86ac-4aab-be3d-ec0ad7824ff4",
   "metadata": {},
   "outputs": [
    {
     "data": {
      "text/plain": [
       "[('grave', 0.32061178500602866),\n",
       " ('graven', 0.09952108186314292),\n",
       " ('cemetery', 0.09952108186314292),\n",
       " ('funeral', 0.09952108186314292),\n",
       " ('buried', 0.09099289614927777),\n",
       " ('close', 0.0660550357120441),\n",
       " ('ach', 0.05708485122363671),\n",
       " ('graves', 0.05708485122363671),\n",
       " ('lays', 0.05708485122363671),\n",
       " ('denied', 0.05708485122363671)]"
      ]
     },
     "execution_count": 25,
     "metadata": {},
     "output_type": "execute_result"
    }
   ],
   "source": [
    "topic_model.get_topic(43)"
   ]
  },
  {
   "cell_type": "code",
   "execution_count": 26,
   "id": "67ba1aab-7bef-4279-80d7-ae76955351c3",
   "metadata": {},
   "outputs": [
    {
     "data": {
      "text/plain": [
       "[('ernest', 0.05872945577089072),\n",
       " ('hyde', 0.04716911160679473),\n",
       " ('tom', 0.04716911160679473),\n",
       " ('roy', 0.04716911160679473),\n",
       " ('hamilton', 0.04716911160679473),\n",
       " ('john', 0.046912609423265236),\n",
       " ('willie', 0.04163665974656238),\n",
       " ('george', 0.036603542204094675),\n",
       " ('enoch', 0.034393315055644975),\n",
       " ('dunlap', 0.034393315055644975)]"
      ]
     },
     "execution_count": 26,
     "metadata": {},
     "output_type": "execute_result"
    }
   ],
   "source": [
    "topic_model.get_topic(2)"
   ]
  },
  {
   "cell_type": "code",
   "execution_count": 27,
   "id": "18b08529-b45a-425b-8f49-5e4ccc044210",
   "metadata": {},
   "outputs": [
    {
     "data": {
      "text/plain": [
       "[('mrs', 0.12549066161559208),\n",
       " ('emily', 0.10871180982468169),\n",
       " ('daisy', 0.09722465569157962),\n",
       " ('fraser', 0.08969516648210586),\n",
       " ('sparks', 0.08502380969267992),\n",
       " ('williams', 0.07195681067424449),\n",
       " ('mary', 0.05979677765473724),\n",
       " ('mcneely', 0.046590775639149304),\n",
       " ('armstrong', 0.042139557185294746),\n",
       " ('hannah', 0.042139557185294746)]"
      ]
     },
     "execution_count": 27,
     "metadata": {},
     "output_type": "execute_result"
    }
   ],
   "source": [
    "topic_model.get_topic(5)"
   ]
  },
  {
   "cell_type": "markdown",
   "id": "37f12eeb-66aa-4e87-84ac-e113ad13b55e",
   "metadata": {},
   "source": [
    "<h4 style=\" color:red\">1b - The hill</h4>"
   ]
  },
  {
   "cell_type": "code",
   "execution_count": 18,
   "id": "46699b44-020f-4280-9633-a4767fec8a6d",
   "metadata": {},
   "outputs": [
    {
     "data": {
      "text/plain": [
       "([25, 69, 43, 2, 21],\n",
       " [0.3281639032251219,\n",
       "  0.3017498246450462,\n",
       "  0.26493756191017714,\n",
       "  0.22501265206921192,\n",
       "  0.1962193752340611])"
      ]
     },
     "execution_count": 18,
     "metadata": {},
     "output_type": "execute_result"
    }
   ],
   "source": [
    "topic_model.find_topics(\"\"\"The Hill Whe re are Elmer, Herman, Bert, Tom and Charley, The weak of will, the strong of arm, the clown, the boozer, the fighter? All, all are sleeping on the hill. One passed in a fever, One was burned in a mine, One was killed in a brawl, One died in a jail, One fell from a bridge toiling for children and wife — All, all are sleeping, sleeping, sleeping on the hill. Where are Ella, Kate, Mag, Lizzie and Edith, The tender heart, the simple soul, the loud, the proud, the happy one? — All, all are sleeping on the hill. One died in shameful child-birth, One of a thwarted love, One at the hands of a brute in a brothel, One of a broken pride, in the search for heart's desire, One after life in far-away London and Paris Was brought to her little space by Ella and Kate and Mag — All, all are sleeping, sleeping, sleeping on the hill. Where are Uncle Isaac and Aunt Emily, And old Towny Kincaid and Sevigne Houghton, And Major Walker who had talked With venerable men of the revolution? — All, all are sleeping on the hill. They brought them dead sons from the war, And daughters whom life had crushed, And their children fatherless, crying — All, all are sleeping, sleeping, sleeping on the hill. Where is Old Fiddler Jones Who played with life all his ninety years, Braving the sleet with bared breast, Drinking, rioting, thinking neither of wife nor kin, Nor gold, nor love, nor heaven? Lo! he babbles of the fish-frys of long ago, Of the horse-races of long ago at Clary's Grove, Of what Abe Lincoln said One time at Springfield.\"\"\")"
   ]
  },
  {
   "cell_type": "code",
   "execution_count": 19,
   "id": "17b5de6d-9d7f-4347-a5fd-65f8f8141a3f",
   "metadata": {},
   "outputs": [
    {
     "data": {
      "text/plain": [
       "[('hill', 0.13118030038898457),\n",
       " ('hills', 0.1300899616858994),\n",
       " ('mountains', 0.11492382712001638),\n",
       " ('mountain', 0.08619287034001229),\n",
       " ('river', 0.07524063020438908),\n",
       " ('slopes', 0.06730202658370817),\n",
       " ('valleys', 0.06730202658370817),\n",
       " ('road', 0.04960744456542515),\n",
       " ('golden', 0.04612162308684979),\n",
       " ('fields', 0.044670311920375155)]"
      ]
     },
     "execution_count": 19,
     "metadata": {},
     "output_type": "execute_result"
    }
   ],
   "source": [
    "topic_model.get_topic(25)"
   ]
  },
  {
   "cell_type": "code",
   "execution_count": 20,
   "id": "e49f96a3-30ca-44c4-9d09-aa418a767117",
   "metadata": {},
   "outputs": [
    {
     "data": {
      "text/plain": [
       "[('sleeping', 0.4966235898801303),\n",
       " ('sleep', 0.31495806882989147),\n",
       " ('hill', 0.22651008390147648),\n",
       " ('are', 0.17243720104450572),\n",
       " ('side', 0.10675244260920477),\n",
       " ('maternal', 0.07776776833365001),\n",
       " ('ancestors', 0.07776776833365001),\n",
       " ('pekin', 0.07776776833365001),\n",
       " ('cells', 0.07776776833365001),\n",
       " ('existent', 0.07776776833365001)]"
      ]
     },
     "execution_count": 20,
     "metadata": {},
     "output_type": "execute_result"
    }
   ],
   "source": [
    "topic_model.get_topic(69)"
   ]
  },
  {
   "cell_type": "code",
   "execution_count": 21,
   "id": "428e3b6a-9671-491e-bcdf-1c86b6591f96",
   "metadata": {},
   "outputs": [
    {
     "data": {
      "text/plain": [
       "[('grave', 0.32061178500602866),\n",
       " ('graven', 0.09952108186314292),\n",
       " ('cemetery', 0.09952108186314292),\n",
       " ('funeral', 0.09952108186314292),\n",
       " ('buried', 0.09099289614927777),\n",
       " ('close', 0.0660550357120441),\n",
       " ('ach', 0.05708485122363671),\n",
       " ('graves', 0.05708485122363671),\n",
       " ('lays', 0.05708485122363671),\n",
       " ('denied', 0.05708485122363671)]"
      ]
     },
     "execution_count": 21,
     "metadata": {},
     "output_type": "execute_result"
    }
   ],
   "source": [
    "topic_model.get_topic(43)"
   ]
  },
  {
   "cell_type": "code",
   "execution_count": 28,
   "id": "5b58ab30-6f85-450f-8868-e39bc68f1c79",
   "metadata": {},
   "outputs": [
    {
     "data": {
      "text/plain": [
       "[('ernest', 0.05872945577089072),\n",
       " ('hyde', 0.04716911160679473),\n",
       " ('tom', 0.04716911160679473),\n",
       " ('roy', 0.04716911160679473),\n",
       " ('hamilton', 0.04716911160679473),\n",
       " ('john', 0.046912609423265236),\n",
       " ('willie', 0.04163665974656238),\n",
       " ('george', 0.036603542204094675),\n",
       " ('enoch', 0.034393315055644975),\n",
       " ('dunlap', 0.034393315055644975)]"
      ]
     },
     "execution_count": 28,
     "metadata": {},
     "output_type": "execute_result"
    }
   ],
   "source": [
    "topic_model.get_topic(2)"
   ]
  },
  {
   "cell_type": "code",
   "execution_count": 29,
   "id": "e2dd3a4b-349c-4090-a1db-cda8d65580c2",
   "metadata": {},
   "outputs": [
    {
     "data": {
      "text/plain": [
       "[('village', 0.31640243125569956),\n",
       " ('town', 0.07049988155057592),\n",
       " ('galilee', 0.04847140774681572),\n",
       " ('atheist', 0.04847140774681572),\n",
       " ('really', 0.033217127508145705),\n",
       " ('in', 0.02987682984030964),\n",
       " ('dreariness', 0.027802984533791975),\n",
       " ('weaver', 0.027802984533791975),\n",
       " ('merriment', 0.027802984533791975),\n",
       " ('appearing', 0.027802984533791975)]"
      ]
     },
     "execution_count": 29,
     "metadata": {},
     "output_type": "execute_result"
    }
   ],
   "source": [
    "topic_model.get_topic(21)"
   ]
  },
  {
   "cell_type": "markdown",
   "id": "43497f81-8448-4426-aba5-20af9a09eefc",
   "metadata": {},
   "source": [
    "<h4 style=\"color:red\">2a - Un matto</h4>"
   ]
  },
  {
   "cell_type": "code",
   "execution_count": 30,
   "id": "4e0681c3-c181-443a-ac3b-e4e41d0b38c8",
   "metadata": {},
   "outputs": [
    {
     "data": {
      "text/plain": [
       "([65, 48, 21, 43, 17],\n",
       " [0.29533787186261506,\n",
       "  0.26303399699793106,\n",
       "  0.25293205877252384,\n",
       "  0.2501332931492248,\n",
       "  0.24855019463792818])"
      ]
     },
     "execution_count": 30,
     "metadata": {},
     "output_type": "execute_result"
    }
   ],
   "source": [
    "topic_model.find_topics(\"\"\"A madman(behind every idiot there is a village) Try and have a world in your heart and you can’t express it in words, and daylight divides the piazza between a village that laughs at you, the idiot, who passes, and not even the night leaves you alone: the others dream about themselves and you dream about them. And yes, even you would go and seek the words that are certain to make you heard: to amaze for half an hour all you need is a history book, and I tried to learn the encyclopedia by heart, and after mackerel, mackintosh and maculate (1), the others continued, until reading mad. And without knowing to whom I owed my life I gave it back in a mental hospital: here on the hill I sleep unwillingly and yet now there’s light in my thoughts, here in the semi-darkness I now invent words but I miss a light, the light of the sun. My bones still give to life: they still give it flowery grass. But life has remained in the mute voices of those who lost the idiot and who cry for him on the hill of those who still whisper with the same irony: “A pitiful death snatched him from madness\".\"\"\")"
   ]
  },
  {
   "cell_type": "code",
   "execution_count": 31,
   "id": "110da45f-5020-471a-b707-fd2275b0ac54",
   "metadata": {},
   "outputs": [
    {
     "data": {
      "text/plain": [
       "[('dreams', 0.4298658477876101),\n",
       " ('dream', 0.16602979664254366),\n",
       " ('dreamed', 0.14392279530977592),\n",
       " ('pageant', 0.08255347715418233),\n",
       " ('abruptly', 0.08255347715418233),\n",
       " ('mirrored', 0.08255347715418233),\n",
       " ('glassed', 0.08255347715418233),\n",
       " ('slept', 0.08255347715418233),\n",
       " ('borne', 0.08255347715418233),\n",
       " ('leafy', 0.07196139765488796)]"
      ]
     },
     "execution_count": 31,
     "metadata": {},
     "output_type": "execute_result"
    }
   ],
   "source": [
    "topic_model.get_topic(65)"
   ]
  },
  {
   "cell_type": "code",
   "execution_count": 32,
   "id": "42245012-e7ba-4c36-b4d1-d08c0fd1ac31",
   "metadata": {},
   "outputs": [
    {
     "data": {
      "text/plain": [
       "[('memory', 0.2528549455114603),\n",
       " ('memories', 0.19701242270268846),\n",
       " ('forget', 0.08909506376319462),\n",
       " ('page', 0.08146030702887726),\n",
       " ('stand', 0.07959693393903268),\n",
       " ('forgotten', 0.06852023353501803),\n",
       " ('remember', 0.06321373637786508),\n",
       " ('shines', 0.05110453347639859),\n",
       " ('urns', 0.05110453347639859),\n",
       " ('rupturing', 0.05110453347639859)]"
      ]
     },
     "execution_count": 32,
     "metadata": {},
     "output_type": "execute_result"
    }
   ],
   "source": [
    "topic_model.get_topic(48)"
   ]
  },
  {
   "cell_type": "code",
   "execution_count": 33,
   "id": "7f860461-091a-4a12-ba6c-c480ce6fa08c",
   "metadata": {},
   "outputs": [
    {
     "data": {
      "text/plain": [
       "[('village', 0.31640243125569956),\n",
       " ('town', 0.07049988155057592),\n",
       " ('galilee', 0.04847140774681572),\n",
       " ('atheist', 0.04847140774681572),\n",
       " ('really', 0.033217127508145705),\n",
       " ('in', 0.02987682984030964),\n",
       " ('dreariness', 0.027802984533791975),\n",
       " ('weaver', 0.027802984533791975),\n",
       " ('merriment', 0.027802984533791975),\n",
       " ('appearing', 0.027802984533791975)]"
      ]
     },
     "execution_count": 33,
     "metadata": {},
     "output_type": "execute_result"
    }
   ],
   "source": [
    "topic_model.get_topic(21)"
   ]
  },
  {
   "cell_type": "code",
   "execution_count": 34,
   "id": "c41e1b19-3e93-4659-94b4-dadfec2ecb11",
   "metadata": {},
   "outputs": [
    {
     "data": {
      "text/plain": [
       "[('grave', 0.32061178500602866),\n",
       " ('graven', 0.09952108186314292),\n",
       " ('cemetery', 0.09952108186314292),\n",
       " ('funeral', 0.09952108186314292),\n",
       " ('buried', 0.09099289614927777),\n",
       " ('close', 0.0660550357120441),\n",
       " ('ach', 0.05708485122363671),\n",
       " ('graves', 0.05708485122363671),\n",
       " ('lays', 0.05708485122363671),\n",
       " ('denied', 0.05708485122363671)]"
      ]
     },
     "execution_count": 34,
     "metadata": {},
     "output_type": "execute_result"
    }
   ],
   "source": [
    "topic_model.get_topic(43)"
   ]
  },
  {
   "cell_type": "code",
   "execution_count": 35,
   "id": "228a362f-c03a-4981-aba4-82ef880179b0",
   "metadata": {},
   "outputs": [
    {
     "data": {
      "text/plain": [
       "[('write', 0.13361456655916268),\n",
       " ('read', 0.12571654939042506),\n",
       " ('books', 0.11053285532882966),\n",
       " ('letter', 0.09809028058634237),\n",
       " ('letters', 0.06320196234999097),\n",
       " ('wrote', 0.061174121743173854),\n",
       " ('newspapers', 0.05901876343478673),\n",
       " ('studied', 0.05901876343478673),\n",
       " ('reading', 0.0557890219264284),\n",
       " ('chains', 0.046083653670617904)]"
      ]
     },
     "execution_count": 35,
     "metadata": {},
     "output_type": "execute_result"
    }
   ],
   "source": [
    "topic_model.get_topic(17)"
   ]
  },
  {
   "cell_type": "markdown",
   "id": "25a7d29b-fb5b-4277-9caa-d4bf0c3a8b78",
   "metadata": {},
   "source": [
    "<h4 style=\"color:red\">2b - Frank Drummer</h4>"
   ]
  },
  {
   "cell_type": "code",
   "execution_count": 37,
   "id": "5ae57ad6-e3ca-4831-b26b-7f09a7105f7c",
   "metadata": {},
   "outputs": [
    {
     "data": {
      "text/plain": [
       "([48, 20, 65, 2, 66],\n",
       " [0.32912258547430884,\n",
       "  0.29779427169339073,\n",
       "  0.2931649312090999,\n",
       "  0.29126423135717056,\n",
       "  0.27591233261544335])"
      ]
     },
     "execution_count": 37,
     "metadata": {},
     "output_type": "execute_result"
    }
   ],
   "source": [
    "topic_model.find_topics(\"\"\"Frank Drummer Out of a cell into this darkened space— The end at twenty-five! My tongue could not speak what stirred within me, And the village thought me a fool. Yet at the start there was a clear vision, A high and urgent purpose in my soul Which drove me on trying to memorize The Encyclopedia Britannica!\"\"\")"
   ]
  },
  {
   "cell_type": "code",
   "execution_count": 38,
   "id": "d524cd50-52b8-4ef8-8d9a-aa54bf693b5e",
   "metadata": {},
   "outputs": [
    {
     "data": {
      "text/plain": [
       "[('memory', 0.2528549455114603),\n",
       " ('memories', 0.19701242270268846),\n",
       " ('forget', 0.08909506376319462),\n",
       " ('page', 0.08146030702887726),\n",
       " ('stand', 0.07959693393903268),\n",
       " ('forgotten', 0.06852023353501803),\n",
       " ('remember', 0.06321373637786508),\n",
       " ('shines', 0.05110453347639859),\n",
       " ('urns', 0.05110453347639859),\n",
       " ('rupturing', 0.05110453347639859)]"
      ]
     },
     "execution_count": 38,
     "metadata": {},
     "output_type": "execute_result"
    }
   ],
   "source": [
    "topic_model.get_topic(48)"
   ]
  },
  {
   "cell_type": "code",
   "execution_count": 39,
   "id": "9883fc12-30f6-4a6a-a9c3-ec1832952b34",
   "metadata": {},
   "outputs": [
    {
     "data": {
      "text/plain": [
       "[('voice', 0.09473506868566467),\n",
       " ('song', 0.08524436636465511),\n",
       " ('music', 0.0816994643909253),\n",
       " ('singing', 0.06535957151274026),\n",
       " ('sound', 0.06291414521019748),\n",
       " ('trumpets', 0.060805679417289885),\n",
       " ('rumbled', 0.04433640613808263),\n",
       " ('strings', 0.04433640613808263),\n",
       " ('mingled', 0.04433640613808263),\n",
       " ('waves', 0.0405371196115266)]"
      ]
     },
     "execution_count": 39,
     "metadata": {},
     "output_type": "execute_result"
    }
   ],
   "source": [
    "topic_model.get_topic(20)"
   ]
  },
  {
   "cell_type": "code",
   "execution_count": 40,
   "id": "aa0fae04-135e-48cb-8d35-417eb4d1e5c5",
   "metadata": {},
   "outputs": [
    {
     "data": {
      "text/plain": [
       "[('dreams', 0.4298658477876101),\n",
       " ('dream', 0.16602979664254366),\n",
       " ('dreamed', 0.14392279530977592),\n",
       " ('pageant', 0.08255347715418233),\n",
       " ('abruptly', 0.08255347715418233),\n",
       " ('mirrored', 0.08255347715418233),\n",
       " ('glassed', 0.08255347715418233),\n",
       " ('slept', 0.08255347715418233),\n",
       " ('borne', 0.08255347715418233),\n",
       " ('leafy', 0.07196139765488796)]"
      ]
     },
     "execution_count": 40,
     "metadata": {},
     "output_type": "execute_result"
    }
   ],
   "source": [
    "topic_model.get_topic(65)"
   ]
  },
  {
   "cell_type": "code",
   "execution_count": 41,
   "id": "697e20a1-6892-4093-b8e9-ca8900d342db",
   "metadata": {},
   "outputs": [
    {
     "data": {
      "text/plain": [
       "[('ernest', 0.05872945577089072),\n",
       " ('hyde', 0.04716911160679473),\n",
       " ('tom', 0.04716911160679473),\n",
       " ('roy', 0.04716911160679473),\n",
       " ('hamilton', 0.04716911160679473),\n",
       " ('john', 0.046912609423265236),\n",
       " ('willie', 0.04163665974656238),\n",
       " ('george', 0.036603542204094675),\n",
       " ('enoch', 0.034393315055644975),\n",
       " ('dunlap', 0.034393315055644975)]"
      ]
     },
     "execution_count": 41,
     "metadata": {},
     "output_type": "execute_result"
    }
   ],
   "source": [
    "topic_model.get_topic(2)"
   ]
  },
  {
   "cell_type": "code",
   "execution_count": 42,
   "id": "228cbf25-64f7-4acb-8cf3-9a377b0245d3",
   "metadata": {},
   "outputs": [
    {
     "data": {
      "text/plain": [
       "[('darkness', 0.31342885429973166),\n",
       " ('light', 0.16073044667956157),\n",
       " ('bellowing', 0.12959594300048652),\n",
       " ('dark', 0.10900946244207413),\n",
       " ('fantastic', 0.08130266689427047),\n",
       " ('leading', 0.08130266689427047),\n",
       " ('plate', 0.08130266689427047),\n",
       " ('quenches', 0.08130266689427047),\n",
       " ('skipping', 0.08130266689427047),\n",
       " ('lantern', 0.08130266689427047)]"
      ]
     },
     "execution_count": 42,
     "metadata": {},
     "output_type": "execute_result"
    }
   ],
   "source": [
    "topic_model.get_topic(66)"
   ]
  },
  {
   "cell_type": "markdown",
   "id": "9b7e314c-b149-4f47-85cb-e849ed71e0a7",
   "metadata": {},
   "source": [
    "<h4 style=\"color:red\">3a - Un giudice</h4>"
   ]
  },
  {
   "cell_type": "code",
   "execution_count": 43,
   "id": "d603a208-3755-49c7-8725-0dea9658195e",
   "metadata": {},
   "outputs": [
    {
     "data": {
      "text/plain": [
       "([7, 73, 63, 68, 81],\n",
       " [0.34104475773599574,\n",
       "  0.3356424567543312,\n",
       "  0.2555459585970836,\n",
       "  0.2551527459439523,\n",
       "  0.24919341246923343])"
      ]
     },
     "execution_count": 43,
     "metadata": {},
     "output_type": "execute_result"
    }
   ],
   "source": [
    "topic_model.find_topics(\"\"\"A judge What does it mean to be five foot tall, it’s revealed in the eyes and the comments of people, or the curiosity of an irreverent girl who approaches only on account of her impertinent doubt: she wants to discover whether it’s true what they say about dwarfs, that they’re better endowed with the least apparent virtue which, of all the virtues, is the most indecent. Years pass, as do months, and, if you count them, so do minutes, it’s sad to find yourself an adult without having grown up; backbiting insists, it beats its tongue on a drum until it says that a dwarf is certainly a skunk because his heart is too close to his arsehole. It was in the sleepless nights watched over by the light of ill feeling that I studied for my exams, I became an attorney to take the road that from the pews of a cathedral led to the vestry then to the bench of a court, a judge at last, the arbiter on earth of good and bad. And so my height no longer bestowed good humour on he who, standing in the dock, called me “Your Honour”, and entrusting him to the executioner was entirely my pleasure, before genuflecting in the hour of farewell not knowing at all the height of God.\"\"\")"
   ]
  },
  {
   "cell_type": "code",
   "execution_count": 44,
   "id": "ee964e9c-9634-44c4-ad2e-a18000e43577",
   "metadata": {},
   "outputs": [
    {
     "data": {
      "text/plain": [
       "[('court', 0.15678098002478263),\n",
       " ('judge', 0.1422452404022924),\n",
       " ('county', 0.10458982787210781),\n",
       " ('house', 0.06421800110020533),\n",
       " ('somers', 0.056633466891432026),\n",
       " ('circuit', 0.05452017737092927),\n",
       " ('jury', 0.04089013302819695),\n",
       " ('superintendent', 0.04089013302819695),\n",
       " ('attorney', 0.04089013302819695),\n",
       " ('state', 0.04089013302819695)]"
      ]
     },
     "execution_count": 44,
     "metadata": {},
     "output_type": "execute_result"
    }
   ],
   "source": [
    "topic_model.get_topic(7)"
   ]
  },
  {
   "cell_type": "code",
   "execution_count": 45,
   "id": "d8710d20-2af8-421d-96ee-2ecf0def3867",
   "metadata": {},
   "outputs": [
    {
     "data": {
      "text/plain": [
       "[('jesus', 0.17530766426934144),\n",
       " ('blasphemer', 0.1585590117819565),\n",
       " ('unto', 0.1585590117819565),\n",
       " ('confucius', 0.1585590117819565),\n",
       " ('christ', 0.12796803899508435),\n",
       " ('thou', 0.112499022367387),\n",
       " ('said', 0.10636596923788441),\n",
       " ('god', 0.10214359192199404),\n",
       " ('crop', 0.09094874601731952),\n",
       " ('shalt', 0.09094874601731952)]"
      ]
     },
     "execution_count": 45,
     "metadata": {},
     "output_type": "execute_result"
    }
   ],
   "source": [
    "topic_model.get_topic(73)"
   ]
  },
  {
   "cell_type": "code",
   "execution_count": 46,
   "id": "38671374-51e3-4b7f-8e1c-77f0b950e217",
   "metadata": {},
   "outputs": [
    {
     "data": {
      "text/plain": [
       "[('cursed', 0.37092317280697473),\n",
       " ('god', 0.24723987378041634),\n",
       " ('particular', 0.14392279530977592),\n",
       " ('curse', 0.12288009207447904),\n",
       " ('alienated', 0.08255347715418233),\n",
       " ('betrayed', 0.08255347715418233),\n",
       " ('cursing', 0.08255347715418233),\n",
       " ('damned', 0.08255347715418233),\n",
       " ('sex', 0.08255347715418233),\n",
       " ('gravitation', 0.07196139765488796)]"
      ]
     },
     "execution_count": 46,
     "metadata": {},
     "output_type": "execute_result"
    }
   ],
   "source": [
    "topic_model.get_topic(63)"
   ]
  },
  {
   "cell_type": "code",
   "execution_count": 47,
   "id": "24ae0f4b-d477-47ef-84ba-3c961da454b4",
   "metadata": {},
   "outputs": [
    {
     "data": {
      "text/plain": [
       "[('wisdom', 0.5686322224635225),\n",
       " ('material', 0.1012448304721104),\n",
       " ('gifted', 0.1012448304721104),\n",
       " ('boasted', 0.1012448304721104),\n",
       " ('brotherhood', 0.1012448304721104),\n",
       " ('intelligence', 0.1012448304721104),\n",
       " ('pope', 0.1012448304721104),\n",
       " ('dreamers', 0.1012448304721104),\n",
       " ('serpent', 0.1012448304721104),\n",
       " ('thuribles', 0.1012448304721104)]"
      ]
     },
     "execution_count": 47,
     "metadata": {},
     "output_type": "execute_result"
    }
   ],
   "source": [
    "topic_model.get_topic(68)"
   ]
  },
  {
   "cell_type": "code",
   "execution_count": 48,
   "id": "f15e3db3-d58c-4a69-b7bd-62fa9de7994b",
   "metadata": {},
   "outputs": [
    {
     "data": {
      "text/plain": [
       "[('hatred', 0.23460732134272475),\n",
       " ('admonitions', 0.11665165250047502),\n",
       " ('hooted', 0.11665165250047502),\n",
       " ('termagant', 0.11665165250047502),\n",
       " ('slew', 0.11665165250047502),\n",
       " ('bullying', 0.11665165250047502),\n",
       " ('intangible', 0.11665165250047502),\n",
       " ('yahoos', 0.11665165250047502),\n",
       " ('degradation', 0.11665165250047502),\n",
       " ('nemesis', 0.11665165250047502)]"
      ]
     },
     "execution_count": 48,
     "metadata": {},
     "output_type": "execute_result"
    }
   ],
   "source": [
    "topic_model.get_topic(81)"
   ]
  },
  {
   "cell_type": "markdown",
   "id": "59742c67-0b8a-48d2-aea9-2a9455f308e8",
   "metadata": {},
   "source": [
    "<h4 style=\"color:red\">3b - Judge Selah Lively</h4>"
   ]
  },
  {
   "cell_type": "code",
   "execution_count": 49,
   "id": "2a4e24e0-18eb-4a73-abae-115aa03e7f7d",
   "metadata": {},
   "outputs": [
    {
     "data": {
      "text/plain": [
       "([7, 73, 30, 18, 81],\n",
       " [0.3146689623877266,\n",
       "  0.19578106477257035,\n",
       "  0.17839136350939439,\n",
       "  0.17501414684833366,\n",
       "  0.16618117744291616])"
      ]
     },
     "execution_count": 49,
     "metadata": {},
     "output_type": "execute_result"
    }
   ],
   "source": [
    "topic_model.find_topics(\"\"\"Judge Selah Lively Suppose you stood just five feet two, And had worked your way as a grocery clerk, Studying law by candle light Until you became an attorney at law? And then suppose through your diligence, And regular church attendance, You became attorney for Thomas Rhodes, Collecting notes and mortgages, And representing all the widows In the Probate Court? And through it all They jeered at your size, and laughed at your clothes And your polished boots? And then suppose You became the County Judge? And Jefferson Howard and Kinsey Keene, And Harmon Whitney, and all the giants Who had sneered at you, were forced to stand Before the bar and say \"Your Honor\"— Well, don’t you think it was natural That I made it hard for them?\"\"\")"
   ]
  },
  {
   "cell_type": "code",
   "execution_count": 50,
   "id": "a6cfaa42-fca9-49a2-bc00-5a19c2d0cbab",
   "metadata": {},
   "outputs": [
    {
     "data": {
      "text/plain": [
       "[('court', 0.15678098002478263),\n",
       " ('judge', 0.1422452404022924),\n",
       " ('county', 0.10458982787210781),\n",
       " ('house', 0.06421800110020533),\n",
       " ('somers', 0.056633466891432026),\n",
       " ('circuit', 0.05452017737092927),\n",
       " ('jury', 0.04089013302819695),\n",
       " ('superintendent', 0.04089013302819695),\n",
       " ('attorney', 0.04089013302819695),\n",
       " ('state', 0.04089013302819695)]"
      ]
     },
     "execution_count": 50,
     "metadata": {},
     "output_type": "execute_result"
    }
   ],
   "source": [
    "topic_model.get_topic(7)"
   ]
  },
  {
   "cell_type": "code",
   "execution_count": 51,
   "id": "5dcd3ffd-1398-439c-8abe-9d6fb5f3db19",
   "metadata": {},
   "outputs": [
    {
     "data": {
      "text/plain": [
       "[('jesus', 0.17530766426934144),\n",
       " ('blasphemer', 0.1585590117819565),\n",
       " ('unto', 0.1585590117819565),\n",
       " ('confucius', 0.1585590117819565),\n",
       " ('christ', 0.12796803899508435),\n",
       " ('thou', 0.112499022367387),\n",
       " ('said', 0.10636596923788441),\n",
       " ('god', 0.10214359192199404),\n",
       " ('crop', 0.09094874601731952),\n",
       " ('shalt', 0.09094874601731952)]"
      ]
     },
     "execution_count": 51,
     "metadata": {},
     "output_type": "execute_result"
    }
   ],
   "source": [
    "topic_model.get_topic(73)"
   ]
  },
  {
   "cell_type": "code",
   "execution_count": 52,
   "id": "bc8d6ff5-342a-44e9-8674-a67d35067a13",
   "metadata": {},
   "outputs": [
    {
     "data": {
      "text/plain": [
       "[('rhodes', 0.4468913299099764),\n",
       " ('thomas', 0.2513378589707059),\n",
       " ('slave', 0.0971969572503649),\n",
       " ('bank', 0.07733472583714027),\n",
       " ('old', 0.06757489881765152),\n",
       " ('editor', 0.047039192097970806),\n",
       " ('croquet', 0.040651333447135236),\n",
       " ('gingham', 0.040651333447135236),\n",
       " ('lloyd', 0.040651333447135236),\n",
       " ('driver', 0.040651333447135236)]"
      ]
     },
     "execution_count": 52,
     "metadata": {},
     "output_type": "execute_result"
    }
   ],
   "source": [
    "topic_model.get_topic(30)"
   ]
  },
  {
   "cell_type": "code",
   "execution_count": 53,
   "id": "5502dbd1-dc0a-4621-8b37-68a9418171d6",
   "metadata": {},
   "outputs": [
    {
     "data": {
      "text/plain": [
       "[('church', 0.22971500885858617),\n",
       " ('congregation', 0.062281545422563915),\n",
       " ('bell', 0.0581592668799112),\n",
       " ('sunday', 0.05497656044206294),\n",
       " ('faith', 0.05238804262992883),\n",
       " ('christian', 0.048330890677251215),\n",
       " ('prayer', 0.045412532500657445),\n",
       " ('sermons', 0.045412532500657445),\n",
       " ('presbyterian', 0.041521030281709274),\n",
       " ('ruled', 0.041521030281709274)]"
      ]
     },
     "execution_count": 53,
     "metadata": {},
     "output_type": "execute_result"
    }
   ],
   "source": [
    "topic_model.get_topic(18)"
   ]
  },
  {
   "cell_type": "code",
   "execution_count": 54,
   "id": "e10ec473-46dd-4b79-80d4-5da4bb5ddeb4",
   "metadata": {},
   "outputs": [
    {
     "data": {
      "text/plain": [
       "[('hatred', 0.23460732134272475),\n",
       " ('admonitions', 0.11665165250047502),\n",
       " ('hooted', 0.11665165250047502),\n",
       " ('termagant', 0.11665165250047502),\n",
       " ('slew', 0.11665165250047502),\n",
       " ('bullying', 0.11665165250047502),\n",
       " ('intangible', 0.11665165250047502),\n",
       " ('yahoos', 0.11665165250047502),\n",
       " ('degradation', 0.11665165250047502),\n",
       " ('nemesis', 0.11665165250047502)]"
      ]
     },
     "execution_count": 54,
     "metadata": {},
     "output_type": "execute_result"
    }
   ],
   "source": [
    "topic_model.get_topic(81)"
   ]
  },
  {
   "cell_type": "markdown",
   "id": "7e5a268d-0640-4251-a54c-e08eb7dabeb5",
   "metadata": {},
   "source": [
    "<h4 style=\"color:red\">4a - Un blasfemo</h4>"
   ]
  },
  {
   "cell_type": "code",
   "execution_count": 55,
   "id": "67adde0e-a99b-4325-8db3-f41d9a87b680",
   "metadata": {},
   "outputs": [
    {
     "data": {
      "text/plain": [
       "([73, 63, 65, 61, 4],\n",
       " [0.3794195440627878,\n",
       "  0.29734084135619954,\n",
       "  0.2715857609867122,\n",
       "  0.2655382977467361,\n",
       "  0.26027193899061474])"
      ]
     },
     "execution_count": 55,
     "metadata": {},
     "output_type": "execute_result"
    }
   ],
   "source": [
    "topic_model.find_topics(\"\"\"A blasphemous I never bowed again not even over a flower, nor did I blush when stealing love from the moment that winter convinced me that God wouldn’t have blushed stealing mine. They arrested me one day for women and wine, they didn’t have any laws for punishing a blasphemer, it wasn’t death that killed me, but two bigoted guards, who sought my soul with the power of blows. Because I said that God deceived the first man, he obliged him to travel through life as an idiot, in the enchanted garden he forced him to dream, to ignore the fact that in the world there’s good and bad. When he saw that man stretched his fingers to steal the mystery of a forbidden apple for fear that he no longer had any masters he stopped him with death and invented the seasons. And if it was two guards who stopped my life, it’s right here on earth the forbidden apple, and not God, but someone who invented him for us, obliges us to dream in an enchanted garden, obliges us to dream in an enchanted garden.\"\"\")"
   ]
  },
  {
   "cell_type": "code",
   "execution_count": 56,
   "id": "a12de671-2ab3-493a-9de4-29ae8995f4d6",
   "metadata": {},
   "outputs": [
    {
     "data": {
      "text/plain": [
       "[('jesus', 0.17530766426934144),\n",
       " ('blasphemer', 0.1585590117819565),\n",
       " ('unto', 0.1585590117819565),\n",
       " ('confucius', 0.1585590117819565),\n",
       " ('christ', 0.12796803899508435),\n",
       " ('thou', 0.112499022367387),\n",
       " ('said', 0.10636596923788441),\n",
       " ('god', 0.10214359192199404),\n",
       " ('crop', 0.09094874601731952),\n",
       " ('shalt', 0.09094874601731952)]"
      ]
     },
     "execution_count": 56,
     "metadata": {},
     "output_type": "execute_result"
    }
   ],
   "source": [
    "topic_model.get_topic(73)"
   ]
  },
  {
   "cell_type": "code",
   "execution_count": 57,
   "id": "d451d3fe-83a1-4065-8449-de050e2ae4f1",
   "metadata": {},
   "outputs": [
    {
     "data": {
      "text/plain": [
       "[('cursed', 0.37092317280697473),\n",
       " ('god', 0.24723987378041634),\n",
       " ('particular', 0.14392279530977592),\n",
       " ('curse', 0.12288009207447904),\n",
       " ('alienated', 0.08255347715418233),\n",
       " ('betrayed', 0.08255347715418233),\n",
       " ('cursing', 0.08255347715418233),\n",
       " ('damned', 0.08255347715418233),\n",
       " ('sex', 0.08255347715418233),\n",
       " ('gravitation', 0.07196139765488796)]"
      ]
     },
     "execution_count": 57,
     "metadata": {},
     "output_type": "execute_result"
    }
   ],
   "source": [
    "topic_model.get_topic(63)"
   ]
  },
  {
   "cell_type": "code",
   "execution_count": 58,
   "id": "75a03fb7-02dd-463f-9ec7-c0b05d27a06a",
   "metadata": {},
   "outputs": [
    {
     "data": {
      "text/plain": [
       "[('dreams', 0.4298658477876101),\n",
       " ('dream', 0.16602979664254366),\n",
       " ('dreamed', 0.14392279530977592),\n",
       " ('pageant', 0.08255347715418233),\n",
       " ('abruptly', 0.08255347715418233),\n",
       " ('mirrored', 0.08255347715418233),\n",
       " ('glassed', 0.08255347715418233),\n",
       " ('slept', 0.08255347715418233),\n",
       " ('borne', 0.08255347715418233),\n",
       " ('leafy', 0.07196139765488796)]"
      ]
     },
     "execution_count": 58,
     "metadata": {},
     "output_type": "execute_result"
    }
   ],
   "source": [
    "topic_model.get_topic(65)"
   ]
  },
  {
   "cell_type": "code",
   "execution_count": 59,
   "id": "c5215aec-5af7-4592-8791-3944310dc6c0",
   "metadata": {},
   "outputs": [
    {
     "data": {
      "text/plain": [
       "[('thief', 0.29167396707473886),\n",
       " ('stole', 0.1619028240170501),\n",
       " ('theft', 0.12641867155588424),\n",
       " ('steal', 0.11558557078421772),\n",
       " ('apple', 0.10793521601136673),\n",
       " ('stealing', 0.10202857163121593),\n",
       " ('proctor', 0.07251318939218718),\n",
       " ('husbands', 0.07251318939218718),\n",
       " ('regard', 0.07251318939218718),\n",
       " ('prestige', 0.07251318939218718)]"
      ]
     },
     "execution_count": 59,
     "metadata": {},
     "output_type": "execute_result"
    }
   ],
   "source": [
    "topic_model.get_topic(61)"
   ]
  },
  {
   "cell_type": "code",
   "execution_count": 60,
   "id": "de6c1850-00ad-4d39-b682-c124c58e7cdb",
   "metadata": {},
   "outputs": [
    {
     "data": {
      "text/plain": [
       "[('soul', 0.21098824295264204),\n",
       " ('souls', 0.092059138048087),\n",
       " ('your', 0.05062477628038193),\n",
       " ('body', 0.037047573728712084),\n",
       " ('cured', 0.028593816174848942),\n",
       " ('snared', 0.022326925286719413),\n",
       " ('angel', 0.022326925286719413),\n",
       " ('beloved', 0.01645688495129856),\n",
       " ('miles', 0.01645688495129856),\n",
       " ('truth', 0.016396226568882)]"
      ]
     },
     "execution_count": 60,
     "metadata": {},
     "output_type": "execute_result"
    }
   ],
   "source": [
    "topic_model.get_topic(4)"
   ]
  },
  {
   "cell_type": "markdown",
   "id": "046882d4-0cf7-4217-b756-cf765e57b506",
   "metadata": {},
   "source": [
    "<h4 style=\"color:red\">4b - Wendell P. Bloyd</h4>"
   ]
  },
  {
   "cell_type": "code",
   "execution_count": 64,
   "id": "de239e48-67bc-4da1-af6e-7e5c9bac3d38",
   "metadata": {},
   "outputs": [
    {
     "data": {
      "text/plain": [
       "([73, 63, 82, 81, 4],\n",
       " [0.26664065240983337,\n",
       "  0.23380105960797132,\n",
       "  0.1690176498108017,\n",
       "  0.15354344394301347,\n",
       "  0.15345244452955986])"
      ]
     },
     "execution_count": 64,
     "metadata": {},
     "output_type": "execute_result"
    }
   ],
   "source": [
    "topic_model.find_topics('''Wendell P. Bloyd They first charged me with disorderly conduct, There being no statute on blasphemy. Later they locked me up as insane Where I was beaten to death by a Catholic guard. My offense was this: I said God lied to Adam, and destined him to lead the life of a fool, Ignorant that there is evil in the world as well as good. And when Adam outwitted God by eating the apple And saw through the lie, God drove him out of Eden to keep him from taking The fruit of immortal life. For Christ's sake, you sensible people, Here's what God Himself says about it in the book of Genesis: \"And the Lord God said, behold the man Is become as one of us\" (a little envy, you see), \"To know good and evil\" (The all-is-good lie exposed): \"And now lest he put forth his hand and take Also of the tree of life and eat, and live forever: Therefore the Lord God sent Him forth from the Garden of Eden.\" The reason I believe God crucified His Own Son To get out of the wretched tangle is, because it sounds just like Him.''')"
   ]
  },
  {
   "cell_type": "code",
   "execution_count": 65,
   "id": "e9b4e5b8-43b9-4eaf-ac20-783639f936b3",
   "metadata": {},
   "outputs": [
    {
     "data": {
      "text/plain": [
       "[('jesus', 0.17530766426934144),\n",
       " ('blasphemer', 0.1585590117819565),\n",
       " ('unto', 0.1585590117819565),\n",
       " ('confucius', 0.1585590117819565),\n",
       " ('christ', 0.12796803899508435),\n",
       " ('thou', 0.112499022367387),\n",
       " ('said', 0.10636596923788441),\n",
       " ('god', 0.10214359192199404),\n",
       " ('crop', 0.09094874601731952),\n",
       " ('shalt', 0.09094874601731952)]"
      ]
     },
     "execution_count": 65,
     "metadata": {},
     "output_type": "execute_result"
    }
   ],
   "source": [
    "topic_model.get_topic(73)"
   ]
  },
  {
   "cell_type": "code",
   "execution_count": 66,
   "id": "ce16e45f-7f93-4ca2-b066-3c08a8b863b1",
   "metadata": {},
   "outputs": [
    {
     "data": {
      "text/plain": [
       "[('cursed', 0.37092317280697473),\n",
       " ('god', 0.24723987378041634),\n",
       " ('particular', 0.14392279530977592),\n",
       " ('curse', 0.12288009207447904),\n",
       " ('alienated', 0.08255347715418233),\n",
       " ('betrayed', 0.08255347715418233),\n",
       " ('cursing', 0.08255347715418233),\n",
       " ('damned', 0.08255347715418233),\n",
       " ('sex', 0.08255347715418233),\n",
       " ('gravitation', 0.07196139765488796)]"
      ]
     },
     "execution_count": 66,
     "metadata": {},
     "output_type": "execute_result"
    }
   ],
   "source": [
    "topic_model.get_topic(63)"
   ]
  },
  {
   "cell_type": "code",
   "execution_count": 68,
   "id": "5696eeab-44d5-4087-b9d2-a4e24190743f",
   "metadata": {},
   "outputs": [
    {
     "data": {
      "text/plain": [
       "[('tereus', 0.2958224438830051),\n",
       " ('wrath', 0.2664675748584034),\n",
       " ('procne', 0.15839504144503908),\n",
       " ('cabanis', 0.1332337874292017),\n",
       " ('avenger', 0.09936992620410835),\n",
       " ('pagan', 0.09936992620410835),\n",
       " ('valor', 0.09936992620410835),\n",
       " ('chronicles', 0.09936992620410835),\n",
       " ('carnivorous', 0.09936992620410835),\n",
       " ('believer', 0.09936992620410835)]"
      ]
     },
     "execution_count": 68,
     "metadata": {},
     "output_type": "execute_result"
    }
   ],
   "source": [
    "topic_model.get_topic(82)"
   ]
  },
  {
   "cell_type": "code",
   "execution_count": 69,
   "id": "9691044f-bc36-443c-b98d-693b1c805a4c",
   "metadata": {},
   "outputs": [
    {
     "data": {
      "text/plain": [
       "[('hatred', 0.23460732134272475),\n",
       " ('admonitions', 0.11665165250047502),\n",
       " ('hooted', 0.11665165250047502),\n",
       " ('termagant', 0.11665165250047502),\n",
       " ('slew', 0.11665165250047502),\n",
       " ('bullying', 0.11665165250047502),\n",
       " ('intangible', 0.11665165250047502),\n",
       " ('yahoos', 0.11665165250047502),\n",
       " ('degradation', 0.11665165250047502),\n",
       " ('nemesis', 0.11665165250047502)]"
      ]
     },
     "execution_count": 69,
     "metadata": {},
     "output_type": "execute_result"
    }
   ],
   "source": [
    "topic_model.get_topic(81)"
   ]
  },
  {
   "cell_type": "code",
   "execution_count": 70,
   "id": "e288c6be-1265-4dd9-b139-390a21eea09a",
   "metadata": {},
   "outputs": [
    {
     "data": {
      "text/plain": [
       "[('soul', 0.21098824295264204),\n",
       " ('souls', 0.092059138048087),\n",
       " ('your', 0.05062477628038193),\n",
       " ('body', 0.037047573728712084),\n",
       " ('cured', 0.028593816174848942),\n",
       " ('snared', 0.022326925286719413),\n",
       " ('angel', 0.022326925286719413),\n",
       " ('beloved', 0.01645688495129856),\n",
       " ('miles', 0.01645688495129856),\n",
       " ('truth', 0.016396226568882)]"
      ]
     },
     "execution_count": 70,
     "metadata": {},
     "output_type": "execute_result"
    }
   ],
   "source": [
    "topic_model.get_topic(4)"
   ]
  },
  {
   "cell_type": "markdown",
   "id": "f7eabd7e-da17-4d91-85b9-e6c5c0d08d0e",
   "metadata": {},
   "source": [
    "<h4 style=\"color:red\">5a - Un malato di cuore</h4>"
   ]
  },
  {
   "cell_type": "code",
   "execution_count": 71,
   "id": "c0bf0b28-030f-49b4-9a0c-28c1e84cc0bc",
   "metadata": {},
   "outputs": [
    {
     "data": {
      "text/plain": [
       "([42, 4, 54, 65, 40],\n",
       " [0.39710606794902226,\n",
       "  0.34043799251497847,\n",
       "  0.3348089893528298,\n",
       "  0.3073504152502683,\n",
       "  0.29594852496252605])"
      ]
     },
     "execution_count": 71,
     "metadata": {},
     "output_type": "execute_result"
    }
   ],
   "source": [
    "topic_model.find_topics(\"\"\"A heart patient \"I began to dream with them then the soul suddenly flew away.\" As a boy spying the kids playing at the foolish rhythm of your sick heart and you feel the urge to go out and try what you miss to run on the lawn, and you keep your urge for you, and linger thinking how the hell do they regain their breath. As a man feeling the wasted time spent letting your eyes narrating the life to you, and never being able to drink from the cup in one gulp but in small intermittent sips, and never being able to drink from the cup in one gulp but in small intermittent sips. Yet I have donated a smile and it still returns in every summer of its own when I guided her, or perhaps I was guided to count her hair with sweaty hands. I don't think I asked promises to her eyes, I don't think I chose silence or voice, when the heart stunned and now no, I don't remember if it was too much shock or too much happiness, and my heart went crazy and now no, I don't remember, from which horizon the light started to blur. And in the mild magic of the grass between long caresses on the face, her pearl-colored thighs remained maybe an uncaught flower . But that I kissed her, this yes, I remember with my heart on the lips, but that kissed her, by God, yes I remember, and my heart remained on her lips. \"And the soul suddenly flew away but I would not dream with them no you can not dream with them.\"\"\")"
   ]
  },
  {
   "cell_type": "code",
   "execution_count": 72,
   "id": "95c678b7-8807-40f1-b0aa-24ebe4863c22",
   "metadata": {},
   "outputs": [
    {
     "data": {
      "text/plain": [
       "[('heart', 0.3049919769890169),\n",
       " ('hearts', 0.13130633566452135),\n",
       " ('took', 0.05699483627837379),\n",
       " ('poor', 0.04732687700612575),\n",
       " ('slowed', 0.046660661000190014),\n",
       " ('wounds', 0.046660661000190014),\n",
       " ('cored', 0.046660661000190014),\n",
       " ('bullet', 0.046660661000190014),\n",
       " ('pulse', 0.046660661000190014),\n",
       " ('brimming', 0.046660661000190014)]"
      ]
     },
     "execution_count": 72,
     "metadata": {},
     "output_type": "execute_result"
    }
   ],
   "source": [
    "topic_model.get_topic(42)"
   ]
  },
  {
   "cell_type": "code",
   "execution_count": 73,
   "id": "14f0cbc5-f268-4392-9ef5-aaa6c041947d",
   "metadata": {},
   "outputs": [
    {
     "data": {
      "text/plain": [
       "[('soul', 0.21098824295264204),\n",
       " ('souls', 0.092059138048087),\n",
       " ('your', 0.05062477628038193),\n",
       " ('body', 0.037047573728712084),\n",
       " ('cured', 0.028593816174848942),\n",
       " ('snared', 0.022326925286719413),\n",
       " ('angel', 0.022326925286719413),\n",
       " ('beloved', 0.01645688495129856),\n",
       " ('miles', 0.01645688495129856),\n",
       " ('truth', 0.016396226568882)]"
      ]
     },
     "execution_count": 73,
     "metadata": {},
     "output_type": "execute_result"
    }
   ],
   "source": [
    "topic_model.get_topic(4)"
   ]
  },
  {
   "cell_type": "code",
   "execution_count": 74,
   "id": "58f75b85-244e-44db-a090-b59a3f98306b",
   "metadata": {},
   "outputs": [
    {
     "data": {
      "text/plain": [
       "[('spirit', 0.459948962202499),\n",
       " ('spirits', 0.2374409484841526),\n",
       " ('aflame', 0.06624661746940556),\n",
       " ('audacity', 0.06624661746940556),\n",
       " ('surely', 0.06624661746940556),\n",
       " ('swarmed', 0.06624661746940556),\n",
       " ('excess', 0.06624661746940556),\n",
       " ('girded', 0.06624661746940556),\n",
       " ('vanquished', 0.06624661746940556),\n",
       " ('through', 0.06570699460035699)]"
      ]
     },
     "execution_count": 74,
     "metadata": {},
     "output_type": "execute_result"
    }
   ],
   "source": [
    "topic_model.get_topic(54)"
   ]
  },
  {
   "cell_type": "code",
   "execution_count": 75,
   "id": "e2751c8b-8e87-4472-a3cf-7551637127fe",
   "metadata": {},
   "outputs": [
    {
     "data": {
      "text/plain": [
       "[('dreams', 0.4298658477876101),\n",
       " ('dream', 0.16602979664254366),\n",
       " ('dreamed', 0.14392279530977592),\n",
       " ('pageant', 0.08255347715418233),\n",
       " ('abruptly', 0.08255347715418233),\n",
       " ('mirrored', 0.08255347715418233),\n",
       " ('glassed', 0.08255347715418233),\n",
       " ('slept', 0.08255347715418233),\n",
       " ('borne', 0.08255347715418233),\n",
       " ('leafy', 0.07196139765488796)]"
      ]
     },
     "execution_count": 75,
     "metadata": {},
     "output_type": "execute_result"
    }
   ],
   "source": [
    "topic_model.get_topic(65)"
   ]
  },
  {
   "cell_type": "code",
   "execution_count": 76,
   "id": "1a1a2243-73d2-41ed-b539-0ae53877a9d3",
   "metadata": {},
   "outputs": [
    {
     "data": {
      "text/plain": [
       "[('tears', 0.27626048808019465),\n",
       " ('cries', 0.14988801085785192),\n",
       " ('crying', 0.11991040868628153),\n",
       " ('wept', 0.07795818079279529),\n",
       " ('cry', 0.06656004987367614),\n",
       " ('heard', 0.053424213408934336),\n",
       " ('cried', 0.05174311130776788),\n",
       " ('sitters', 0.04471646679184876),\n",
       " ('steer', 0.04471646679184876),\n",
       " ('yells', 0.04471646679184876)]"
      ]
     },
     "execution_count": 76,
     "metadata": {},
     "output_type": "execute_result"
    }
   ],
   "source": [
    "topic_model.get_topic(40)"
   ]
  },
  {
   "cell_type": "markdown",
   "id": "4d43a1b6-02a7-4b08-90e4-4cc14ede9132",
   "metadata": {},
   "source": [
    "<h4 style=\"color:red\">5b - Francis Turner</h4>"
   ]
  },
  {
   "cell_type": "code",
   "execution_count": 77,
   "id": "9ef425ac-290f-4ecf-af3b-7566dd4b561b",
   "metadata": {},
   "outputs": [
    {
     "data": {
      "text/plain": [
       "([24, 23, 5, 72, 44],\n",
       " [0.32913700714074146,\n",
       "  0.29186976112118235,\n",
       "  0.28598674461727175,\n",
       "  0.2781177049736428,\n",
       "  0.27726121609299237])"
      ]
     },
     "execution_count": 77,
     "metadata": {},
     "output_type": "execute_result"
    }
   ],
   "source": [
    "topic_model.find_topics(\"\"\"Francis Turner I could not run or play in boyhood. In manhood I could only sip the cup, Not drink- For scarlet-fever left my heart diseased. Yet I lie here Soothed by a secret none but Mary knows: There is a garden of acacia, Catalpa trees, and arbors sweet with vines– There on that afternoon in June By Mary’s side– Kissing her with my soul upon my lips It suddenly took flight.\"\"\")"
   ]
  },
  {
   "cell_type": "code",
   "execution_count": 78,
   "id": "c923f3bc-ed8a-4a35-a8ef-142549849960",
   "metadata": {},
   "outputs": [
    {
     "data": {
      "text/plain": [
       "[('bouquet', 0.1048626986209719),\n",
       " ('blossoms', 0.08874673316490153),\n",
       " ('clover', 0.08389015889677753),\n",
       " ('flowers', 0.08389015889677753),\n",
       " ('flower', 0.07127776865026758),\n",
       " ('weed', 0.06656004987367614),\n",
       " ('fragrant', 0.05197212052853019),\n",
       " ('petals', 0.05197212052853019),\n",
       " ('bloom', 0.05197212052853019),\n",
       " ('roses', 0.047518512433511725)]"
      ]
     },
     "execution_count": 78,
     "metadata": {},
     "output_type": "execute_result"
    }
   ],
   "source": [
    "topic_model.get_topic(24)"
   ]
  },
  {
   "cell_type": "code",
   "execution_count": 79,
   "id": "8ba5c083-b299-483b-bbc4-d911440da14c",
   "metadata": {},
   "outputs": [
    {
     "data": {
      "text/plain": [
       "[('wine', 0.19970637692544196),\n",
       " ('drink', 0.10384690955714),\n",
       " ('rum', 0.07728914672920581),\n",
       " ('drinks', 0.07728914672920581),\n",
       " ('thirsting', 0.056355311416478523),\n",
       " ('drank', 0.056355311416478523),\n",
       " ('drinking', 0.05152609781947055),\n",
       " ('cup', 0.05152609781947055),\n",
       " ('bread', 0.04811569870386228),\n",
       " ('dying', 0.03861991330766338)]"
      ]
     },
     "execution_count": 79,
     "metadata": {},
     "output_type": "execute_result"
    }
   ],
   "source": [
    "topic_model.get_topic(23)"
   ]
  },
  {
   "cell_type": "code",
   "execution_count": 80,
   "id": "f205cb67-78a9-4831-8283-e89683a7fbd9",
   "metadata": {},
   "outputs": [
    {
     "data": {
      "text/plain": [
       "[('mrs', 0.12549066161559208),\n",
       " ('emily', 0.10871180982468169),\n",
       " ('daisy', 0.09722465569157962),\n",
       " ('fraser', 0.08969516648210586),\n",
       " ('sparks', 0.08502380969267992),\n",
       " ('williams', 0.07195681067424449),\n",
       " ('mary', 0.05979677765473724),\n",
       " ('mcneely', 0.046590775639149304),\n",
       " ('armstrong', 0.042139557185294746),\n",
       " ('hannah', 0.042139557185294746)]"
      ]
     },
     "execution_count": 80,
     "metadata": {},
     "output_type": "execute_result"
    }
   ],
   "source": [
    "topic_model.get_topic(5)"
   ]
  },
  {
   "cell_type": "code",
   "execution_count": 81,
   "id": "93936b21-7645-47fc-8a23-8890339a8042",
   "metadata": {},
   "outputs": [
    {
     "data": {
      "text/plain": [
       "[('secret', 0.48172501843375043),\n",
       " ('cried', 0.10705471305055424),\n",
       " ('knows', 0.10705471305055424),\n",
       " ('withdrew', 0.09251682784520433),\n",
       " ('disease', 0.09251682784520433),\n",
       " ('sower', 0.09251682784520433),\n",
       " ('soothed', 0.09251682784520433),\n",
       " ('smiling', 0.09251682784520433),\n",
       " ('hides', 0.09251682784520433),\n",
       " ('learning', 0.09251682784520433)]"
      ]
     },
     "execution_count": 81,
     "metadata": {},
     "output_type": "execute_result"
    }
   ],
   "source": [
    "topic_model.get_topic(72)"
   ]
  },
  {
   "cell_type": "code",
   "execution_count": 82,
   "id": "d408cf3e-95b5-4388-8726-fec6b2237e4f",
   "metadata": {},
   "outputs": [
    {
     "data": {
      "text/plain": [
       "[('sorrow', 0.37461224992669784),\n",
       " ('despair', 0.06926710367623833),\n",
       " ('hear', 0.051117297025066864),\n",
       " ('murmur', 0.04922913775249405),\n",
       " ('ovid', 0.04922913775249405),\n",
       " ('sorrows', 0.04922913775249405),\n",
       " ('answered', 0.04922913775249405),\n",
       " ('ours', 0.04922913775249405),\n",
       " ('misery', 0.04922913775249405),\n",
       " ('maiden', 0.04922913775249405)]"
      ]
     },
     "execution_count": 82,
     "metadata": {},
     "output_type": "execute_result"
    }
   ],
   "source": [
    "topic_model.get_topic(44)"
   ]
  },
  {
   "cell_type": "markdown",
   "id": "6c5b7384-8789-418a-87dc-6c18faf9536e",
   "metadata": {},
   "source": [
    "<h4 style=\"color:red\">6a - Un medico</h4>"
   ]
  },
  {
   "cell_type": "code",
   "execution_count": 83,
   "id": "e22172ae-4be7-4e71-9517-62d7f7e546dc",
   "metadata": {},
   "outputs": [
    {
     "data": {
      "text/plain": [
       "([44, 4, 63, 35, 68],\n",
       " [0.25053430233105256,\n",
       "  0.24563216974101698,\n",
       "  0.22617547026135515,\n",
       "  0.20090975260428537,\n",
       "  0.19531136710424413])"
      ]
     },
     "execution_count": 83,
     "metadata": {},
     "output_type": "execute_result"
    }
   ],
   "source": [
    "topic_model.find_topics('''A doctor As a child I wanted to cure the cherries when they were red I thought they were injured for me health had left them with the snow flowers they had lost. A dream, it was a dream but it wasn’t brief for this reason I swore I’d become a doctor and not for a God, nor even for a game: so that the cherries could bloom again, so that the cherries could bloom again. And when at long last I was a doctor I didn’t want to betray the child for the man and many came, they were called people cherries that were ill in every season. And colleagues who agreed, the colleagues who were happy in reading in my heart my wish to love sent me their best clients with the diagnosis on their face and it was the same for everyone: ill from hunger, unable to pay. And then I understood, I was obliged to understand, that being a doctor is just a trade that science isn’t something you can give to people if you don’t want to go down with the same illness, if you don’t want the system to take you for hunger. And the system surely will take you for hunger in your children, in your wife who now despises you, and so those snow flowers are closed in a bottle, the label said: the elixir of youth. And a judge, a judge with the face of a man sent me to shed sunsets in prison useless to me and to my fingers branded forever a swindler and a cheat doctor professor swindler cheat.''')"
   ]
  },
  {
   "cell_type": "code",
   "execution_count": 84,
   "id": "9d6672eb-67b6-41b5-b64d-2c0c7a7ea67c",
   "metadata": {},
   "outputs": [
    {
     "data": {
      "text/plain": [
       "[('sorrow', 0.37461224992669784),\n",
       " ('despair', 0.06926710367623833),\n",
       " ('hear', 0.051117297025066864),\n",
       " ('murmur', 0.04922913775249405),\n",
       " ('ovid', 0.04922913775249405),\n",
       " ('sorrows', 0.04922913775249405),\n",
       " ('answered', 0.04922913775249405),\n",
       " ('ours', 0.04922913775249405),\n",
       " ('misery', 0.04922913775249405),\n",
       " ('maiden', 0.04922913775249405)]"
      ]
     },
     "execution_count": 84,
     "metadata": {},
     "output_type": "execute_result"
    }
   ],
   "source": [
    "topic_model.get_topic(44)"
   ]
  },
  {
   "cell_type": "code",
   "execution_count": 85,
   "id": "f4b7d967-0093-4631-b67b-9fb43d8a8e04",
   "metadata": {},
   "outputs": [
    {
     "data": {
      "text/plain": [
       "[('soul', 0.21098824295264204),\n",
       " ('souls', 0.092059138048087),\n",
       " ('your', 0.05062477628038193),\n",
       " ('body', 0.037047573728712084),\n",
       " ('cured', 0.028593816174848942),\n",
       " ('snared', 0.022326925286719413),\n",
       " ('angel', 0.022326925286719413),\n",
       " ('beloved', 0.01645688495129856),\n",
       " ('miles', 0.01645688495129856),\n",
       " ('truth', 0.016396226568882)]"
      ]
     },
     "execution_count": 85,
     "metadata": {},
     "output_type": "execute_result"
    }
   ],
   "source": [
    "topic_model.get_topic(4)"
   ]
  },
  {
   "cell_type": "code",
   "execution_count": 86,
   "id": "dbe6459f-e8c1-48be-bce6-eda347f75725",
   "metadata": {},
   "outputs": [
    {
     "data": {
      "text/plain": [
       "[('cursed', 0.37092317280697473),\n",
       " ('god', 0.24723987378041634),\n",
       " ('particular', 0.14392279530977592),\n",
       " ('curse', 0.12288009207447904),\n",
       " ('alienated', 0.08255347715418233),\n",
       " ('betrayed', 0.08255347715418233),\n",
       " ('cursing', 0.08255347715418233),\n",
       " ('damned', 0.08255347715418233),\n",
       " ('sex', 0.08255347715418233),\n",
       " ('gravitation', 0.07196139765488796)]"
      ]
     },
     "execution_count": 86,
     "metadata": {},
     "output_type": "execute_result"
    }
   ],
   "source": [
    "topic_model.get_topic(63)"
   ]
  },
  {
   "cell_type": "code",
   "execution_count": 87,
   "id": "03be3703-58db-4517-a9ee-eee424e1c08a",
   "metadata": {},
   "outputs": [
    {
     "data": {
      "text/plain": [
       "[('fever', 0.09869229505421667),\n",
       " ('worried', 0.09216006905585929),\n",
       " ('sick', 0.0901905769974283),\n",
       " ('aching', 0.07196139765488796),\n",
       " ('feverish', 0.07196139765488796),\n",
       " ('pain', 0.058077802313153674),\n",
       " ('deep', 0.05105724861289103),\n",
       " ('ribs', 0.04127673857709117),\n",
       " ('chested', 0.04127673857709117),\n",
       " ('cough', 0.04127673857709117)]"
      ]
     },
     "execution_count": 87,
     "metadata": {},
     "output_type": "execute_result"
    }
   ],
   "source": [
    "topic_model.get_topic(35)"
   ]
  },
  {
   "cell_type": "code",
   "execution_count": 88,
   "id": "d49b65b5-3d7d-41e3-9b40-ccd91b39f099",
   "metadata": {},
   "outputs": [
    {
     "data": {
      "text/plain": [
       "[('wisdom', 0.5686322224635225),\n",
       " ('material', 0.1012448304721104),\n",
       " ('gifted', 0.1012448304721104),\n",
       " ('boasted', 0.1012448304721104),\n",
       " ('brotherhood', 0.1012448304721104),\n",
       " ('intelligence', 0.1012448304721104),\n",
       " ('pope', 0.1012448304721104),\n",
       " ('dreamers', 0.1012448304721104),\n",
       " ('serpent', 0.1012448304721104),\n",
       " ('thuribles', 0.1012448304721104)]"
      ]
     },
     "execution_count": 88,
     "metadata": {},
     "output_type": "execute_result"
    }
   ],
   "source": [
    "topic_model.get_topic(68)"
   ]
  },
  {
   "cell_type": "markdown",
   "id": "1d575fef-d733-4f22-ad2e-1d1b3b4e50c5",
   "metadata": {},
   "source": [
    "<h4 style=\"color:red\">6b - Doctor Siegfried Iseman</h4>"
   ]
  },
  {
   "cell_type": "code",
   "execution_count": 90,
   "id": "7f6fa520-8e88-440b-a855-4ad581f75e65",
   "metadata": {},
   "outputs": [
    {
     "data": {
      "text/plain": [
       "([18, 68, 73, 44, 7],\n",
       " [0.2877696755934911,\n",
       "  0.21515142424468858,\n",
       "  0.20850120352047807,\n",
       "  0.1532385740914287,\n",
       "  0.135067502220163])"
      ]
     },
     "execution_count": 90,
     "metadata": {},
     "output_type": "execute_result"
    }
   ],
   "source": [
    "topic_model.find_topics(''' Dr. Siegfried Iseman I said when they handed me my diploma, I said to myself I will be good And wise and brave and helpful to others; I said I will carry the Christian creed Into the practice of medicine! Somehow the world and the other doctors Know what's in your heart as soon as you make This high-souled resolution. And the way of it is they starve you out. And no one comes to you but the poor. And you find too late that being a doctor Is just a way of making a living. And when you are poor and have to carry The Christian creed and wife and children All on your back, it is too much! That's why I made the Elixir of Youth, Which landed me in the jail at Peoria Branded a swindler and a crook By the upright Federal Judge!''')"
   ]
  },
  {
   "cell_type": "code",
   "execution_count": 91,
   "id": "d42cd4fe-a1ba-4d39-a24d-9519028532f5",
   "metadata": {},
   "outputs": [
    {
     "data": {
      "text/plain": [
       "[('church', 0.22971500885858617),\n",
       " ('congregation', 0.062281545422563915),\n",
       " ('bell', 0.0581592668799112),\n",
       " ('sunday', 0.05497656044206294),\n",
       " ('faith', 0.05238804262992883),\n",
       " ('christian', 0.048330890677251215),\n",
       " ('prayer', 0.045412532500657445),\n",
       " ('sermons', 0.045412532500657445),\n",
       " ('presbyterian', 0.041521030281709274),\n",
       " ('ruled', 0.041521030281709274)]"
      ]
     },
     "execution_count": 91,
     "metadata": {},
     "output_type": "execute_result"
    }
   ],
   "source": [
    "topic_model.get_topic(18)"
   ]
  },
  {
   "cell_type": "code",
   "execution_count": 92,
   "id": "08a66d00-603a-4d80-a901-0e5f87ecb1d9",
   "metadata": {},
   "outputs": [
    {
     "data": {
      "text/plain": [
       "[('wisdom', 0.5686322224635225),\n",
       " ('material', 0.1012448304721104),\n",
       " ('gifted', 0.1012448304721104),\n",
       " ('boasted', 0.1012448304721104),\n",
       " ('brotherhood', 0.1012448304721104),\n",
       " ('intelligence', 0.1012448304721104),\n",
       " ('pope', 0.1012448304721104),\n",
       " ('dreamers', 0.1012448304721104),\n",
       " ('serpent', 0.1012448304721104),\n",
       " ('thuribles', 0.1012448304721104)]"
      ]
     },
     "execution_count": 92,
     "metadata": {},
     "output_type": "execute_result"
    }
   ],
   "source": [
    "topic_model.get_topic(68)"
   ]
  },
  {
   "cell_type": "code",
   "execution_count": 93,
   "id": "bcc1cb78-e65a-4164-825f-9c10a99f96f8",
   "metadata": {},
   "outputs": [
    {
     "data": {
      "text/plain": [
       "[('jesus', 0.17530766426934144),\n",
       " ('blasphemer', 0.1585590117819565),\n",
       " ('unto', 0.1585590117819565),\n",
       " ('confucius', 0.1585590117819565),\n",
       " ('christ', 0.12796803899508435),\n",
       " ('thou', 0.112499022367387),\n",
       " ('said', 0.10636596923788441),\n",
       " ('god', 0.10214359192199404),\n",
       " ('crop', 0.09094874601731952),\n",
       " ('shalt', 0.09094874601731952)]"
      ]
     },
     "execution_count": 93,
     "metadata": {},
     "output_type": "execute_result"
    }
   ],
   "source": [
    "topic_model.get_topic(73)"
   ]
  },
  {
   "cell_type": "code",
   "execution_count": 94,
   "id": "8caac780-0b15-400d-8406-ce86de6d078a",
   "metadata": {},
   "outputs": [
    {
     "data": {
      "text/plain": [
       "[('sorrow', 0.37461224992669784),\n",
       " ('despair', 0.06926710367623833),\n",
       " ('hear', 0.051117297025066864),\n",
       " ('murmur', 0.04922913775249405),\n",
       " ('ovid', 0.04922913775249405),\n",
       " ('sorrows', 0.04922913775249405),\n",
       " ('answered', 0.04922913775249405),\n",
       " ('ours', 0.04922913775249405),\n",
       " ('misery', 0.04922913775249405),\n",
       " ('maiden', 0.04922913775249405)]"
      ]
     },
     "execution_count": 94,
     "metadata": {},
     "output_type": "execute_result"
    }
   ],
   "source": [
    "topic_model.get_topic(44)"
   ]
  },
  {
   "cell_type": "code",
   "execution_count": 95,
   "id": "71c71fbe-6df8-4a17-9069-e76fe0349bfd",
   "metadata": {},
   "outputs": [
    {
     "data": {
      "text/plain": [
       "[('court', 0.15678098002478263),\n",
       " ('judge', 0.1422452404022924),\n",
       " ('county', 0.10458982787210781),\n",
       " ('house', 0.06421800110020533),\n",
       " ('somers', 0.056633466891432026),\n",
       " ('circuit', 0.05452017737092927),\n",
       " ('jury', 0.04089013302819695),\n",
       " ('superintendent', 0.04089013302819695),\n",
       " ('attorney', 0.04089013302819695),\n",
       " ('state', 0.04089013302819695)]"
      ]
     },
     "execution_count": 95,
     "metadata": {},
     "output_type": "execute_result"
    }
   ],
   "source": [
    "topic_model.get_topic(7)"
   ]
  },
  {
   "cell_type": "markdown",
   "id": "30879672-3e5e-41ee-ada9-18bb5f2d19cc",
   "metadata": {},
   "source": [
    "<h4 style=\"color:red\">7a - Un chimico</h4>"
   ]
  },
  {
   "cell_type": "code",
   "execution_count": 96,
   "id": "24939c37-58b0-4ec1-8fb2-40c38c885d55",
   "metadata": {},
   "outputs": [
    {
     "data": {
      "text/plain": [
       "([4, 44, 56, 24, 49],\n",
       " [0.3328861376241531,\n",
       "  0.2916833585587474,\n",
       "  0.29047791009318,\n",
       "  0.2893245384303019,\n",
       "  0.2724787431404516])"
      ]
     },
     "execution_count": 96,
     "metadata": {},
     "output_type": "execute_result"
    }
   ],
   "source": [
    "topic_model.find_topics('''A chemist Only death took me up the hill: a corpse among the many that give phosphorous to the air for bivouacs of fi res that say will-of-the-wisp that leave no ashes, that don’t melt the frost. Only death took me up the hill. As a chemist one day I had the power to marry the elements and make them react, but I never managed to understand how men could combine through love, entrusting joy and pain to a game. Look at the smile, look at the colour how they play on the face of those who seek love: but the same smile, the same colour where are they on the face of those who’ve had love, where are they on the face of those who’ve had love. It’s strange to leave without suffering, without the face of a woman you have to remember. But maybe your dying is different you who leave yourselves to love who surrender to April. What is there that’s different in your dying. Spring doesn’t knock, it enters self-assured like smoke it penetrates every crack it has lips of meat, hair of corn such fear, such desire that it takes you by the hand. Such fear, such desire that it takes you far. But look at hydrogen keeping silent in the sea look at oxygen sleeping silently at his side: only a law that I can understand was able to marry them without making them explode only a law that I can understand. I was a chemist and, no, I didn’t want to marry. I didn’t know with whom and whom I would have generated. I died in an experiment that went wrong just like the idiots who die of love. And someone will say there’s a better way.''')"
   ]
  },
  {
   "cell_type": "code",
   "execution_count": 97,
   "id": "12ab0906-ffc7-479c-b93b-c8ea36a98c82",
   "metadata": {},
   "outputs": [
    {
     "data": {
      "text/plain": [
       "[('soul', 0.21098824295264204),\n",
       " ('souls', 0.092059138048087),\n",
       " ('your', 0.05062477628038193),\n",
       " ('body', 0.037047573728712084),\n",
       " ('cured', 0.028593816174848942),\n",
       " ('snared', 0.022326925286719413),\n",
       " ('angel', 0.022326925286719413),\n",
       " ('beloved', 0.01645688495129856),\n",
       " ('miles', 0.01645688495129856),\n",
       " ('truth', 0.016396226568882)]"
      ]
     },
     "execution_count": 97,
     "metadata": {},
     "output_type": "execute_result"
    }
   ],
   "source": [
    "topic_model.get_topic(4)"
   ]
  },
  {
   "cell_type": "code",
   "execution_count": 98,
   "id": "bfa1653b-522a-494c-9118-6fe80b396ba5",
   "metadata": {},
   "outputs": [
    {
     "data": {
      "text/plain": [
       "[('sorrow', 0.37461224992669784),\n",
       " ('despair', 0.06926710367623833),\n",
       " ('hear', 0.051117297025066864),\n",
       " ('murmur', 0.04922913775249405),\n",
       " ('ovid', 0.04922913775249405),\n",
       " ('sorrows', 0.04922913775249405),\n",
       " ('answered', 0.04922913775249405),\n",
       " ('ours', 0.04922913775249405),\n",
       " ('misery', 0.04922913775249405),\n",
       " ('maiden', 0.04922913775249405)]"
      ]
     },
     "execution_count": 98,
     "metadata": {},
     "output_type": "execute_result"
    }
   ],
   "source": [
    "topic_model.get_topic(44)"
   ]
  },
  {
   "cell_type": "code",
   "execution_count": 99,
   "id": "2c261c03-e268-4d25-bfd6-083d8ce28905",
   "metadata": {},
   "outputs": [
    {
     "data": {
      "text/plain": [
       "[('love', 0.3983435410711366),\n",
       " ('soiling', 0.07350652075372398),\n",
       " ('disillusionment', 0.07350652075372398),\n",
       " ('improvisation', 0.07350652075372398),\n",
       " ('softened', 0.07350652075372398),\n",
       " ('thirsted', 0.07350652075372398),\n",
       " ('thwarted', 0.07350652075372398),\n",
       " ('feelings', 0.07350652075372398),\n",
       " ('passions', 0.07350652075372398),\n",
       " ('craved', 0.07350652075372398)]"
      ]
     },
     "execution_count": 99,
     "metadata": {},
     "output_type": "execute_result"
    }
   ],
   "source": [
    "topic_model.get_topic(56)"
   ]
  },
  {
   "cell_type": "code",
   "execution_count": 100,
   "id": "86653fdb-4d34-4994-bbee-556202bffd16",
   "metadata": {},
   "outputs": [
    {
     "data": {
      "text/plain": [
       "[('bouquet', 0.1048626986209719),\n",
       " ('blossoms', 0.08874673316490153),\n",
       " ('clover', 0.08389015889677753),\n",
       " ('flowers', 0.08389015889677753),\n",
       " ('flower', 0.07127776865026758),\n",
       " ('weed', 0.06656004987367614),\n",
       " ('fragrant', 0.05197212052853019),\n",
       " ('petals', 0.05197212052853019),\n",
       " ('bloom', 0.05197212052853019),\n",
       " ('roses', 0.047518512433511725)]"
      ]
     },
     "execution_count": 100,
     "metadata": {},
     "output_type": "execute_result"
    }
   ],
   "source": [
    "topic_model.get_topic(24)"
   ]
  },
  {
   "cell_type": "code",
   "execution_count": 101,
   "id": "d801870a-86fd-4e3a-96ff-35ff45994bc4",
   "metadata": {},
   "outputs": [
    {
     "data": {
      "text/plain": [
       "[('fire', 0.25587820012639023),\n",
       " ('flame', 0.1738702372532694),\n",
       " ('burned', 0.1037686229015898),\n",
       " ('anarch', 0.05159592322136396),\n",
       " ('burnt', 0.05159592322136396),\n",
       " ('sovereign', 0.05159592322136396),\n",
       " ('crooned', 0.05159592322136396),\n",
       " ('devastating', 0.05159592322136396),\n",
       " ('bon', 0.05159592322136396),\n",
       " ('spurt', 0.05159592322136396)]"
      ]
     },
     "execution_count": 101,
     "metadata": {},
     "output_type": "execute_result"
    }
   ],
   "source": [
    "topic_model.get_topic(49)"
   ]
  },
  {
   "cell_type": "markdown",
   "id": "14b461e4-7835-4145-ba4f-c9a2830ce386",
   "metadata": {},
   "source": [
    "<h4 style=\"color:red\">7b - Trainor the Druggist</h4>"
   ]
  },
  {
   "cell_type": "code",
   "execution_count": 102,
   "id": "16d5de19-e346-47ff-8b85-6617a5fec483",
   "metadata": {},
   "outputs": [
    {
     "data": {
      "text/plain": [
       "([79, 78, 9, 34, 51],\n",
       " [0.2684017378494531,\n",
       "  0.23899681217119234,\n",
       "  0.23422218882289697,\n",
       "  0.2323545881506211,\n",
       "  0.22826655685677533])"
      ]
     },
     "execution_count": 102,
     "metadata": {},
     "output_type": "execute_result"
    }
   ],
   "source": [
    "topic_model.find_topics(''' Trainor the Druggist Only the chemist can tell, and not always the chemist, What will result from compounding Fluids or solids. And who can tell How men and women will interact On each other, or what children will result? There were Benjamin Pantier and his wife, Good in themselves, but evil toward each other: He oxygen, she hydrogen, Their son, a devastating fire. I Trainor, the druggist, a mixer of chemicals, Killed while making an experiment, Lived unwedded.''')"
   ]
  },
  {
   "cell_type": "code",
   "execution_count": 103,
   "id": "4246f387-c0a2-4d17-af85-b26f8487444c",
   "metadata": {},
   "outputs": [
    {
     "data": {
      "text/plain": [
       "[('pantier', 0.5970950236403818),\n",
       " ('benjamin', 0.4748818969683052),\n",
       " ('reuben', 0.17324040176176728),\n",
       " ('ben', 0.15839504144503908),\n",
       " ('variations', 0.09936992620410835),\n",
       " ('worthless', 0.09936992620410835),\n",
       " ('determinants', 0.09936992620410835),\n",
       " ('son', 0.08772381706614234),\n",
       " ('headed', 0.08662020088088364),\n",
       " ('threw', 0.08662020088088364)]"
      ]
     },
     "execution_count": 103,
     "metadata": {},
     "output_type": "execute_result"
    }
   ],
   "source": [
    "topic_model.get_topic(79)"
   ]
  },
  {
   "cell_type": "code",
   "execution_count": 104,
   "id": "beafd4af-50e9-4967-a610-b59e09c89212",
   "metadata": {},
   "outputs": [
    {
     "data": {
      "text/plain": [
       "[('blood', 0.7964767105908968),\n",
       " ('fountain', 0.13087746378102078),\n",
       " ('purer', 0.13087746378102078),\n",
       " ('champion', 0.13087746378102078),\n",
       " ('commissioned', 0.13087746378102078),\n",
       " ('vanquish', 0.13087746378102078),\n",
       " ('trash', 0.13087746378102078),\n",
       " ('honorable', 0.11408514262360286),\n",
       " ('blooded', 0.11408514262360286),\n",
       " ('filled', 0.11408514262360286)]"
      ]
     },
     "execution_count": 104,
     "metadata": {},
     "output_type": "execute_result"
    }
   ],
   "source": [
    "topic_model.get_topic(78)"
   ]
  },
  {
   "cell_type": "code",
   "execution_count": 105,
   "id": "306c9a84-113d-4733-ba86-14788bf3dd55",
   "metadata": {},
   "outputs": [
    {
     "data": {
      "text/plain": [
       "[('married', 0.1231391183391663),\n",
       " ('husband', 0.09895619737644475),\n",
       " ('wife', 0.09393130574467423),\n",
       " ('marriage', 0.06863740273372707),\n",
       " ('divorce', 0.06863740273372707),\n",
       " ('years', 0.03732074245757388),\n",
       " ('affairs', 0.034018115255037944),\n",
       " ('marital', 0.034018115255037944),\n",
       " ('unwedded', 0.034018115255037944),\n",
       " ('we', 0.03277665234622944)]"
      ]
     },
     "execution_count": 105,
     "metadata": {},
     "output_type": "execute_result"
    }
   ],
   "source": [
    "topic_model.get_topic(9)"
   ]
  },
  {
   "cell_type": "code",
   "execution_count": 106,
   "id": "6b1f1828-79d7-4f08-9e53-7e788b831d3f",
   "metadata": {},
   "outputs": [
    {
     "data": {
      "text/plain": [
       "[('father', 0.2854358214259432),\n",
       " ('mother', 0.1826362634571423),\n",
       " ('malloy', 0.121018272497593),\n",
       " ('fathers', 0.07087107344799572),\n",
       " ('inherited', 0.054504731221037064),\n",
       " ('my', 0.05089034284627892),\n",
       " ('fortune', 0.047039192097970806),\n",
       " ('menard', 0.040651333447135236),\n",
       " ('countries', 0.040651333447135236),\n",
       " ('effect', 0.040651333447135236)]"
      ]
     },
     "execution_count": 106,
     "metadata": {},
     "output_type": "execute_result"
    }
   ],
   "source": [
    "topic_model.get_topic(34)"
   ]
  },
  {
   "cell_type": "code",
   "execution_count": 107,
   "id": "6f37d0c2-5ff2-41e9-86de-a63c08e3e4eb",
   "metadata": {},
   "outputs": [
    {
     "data": {
      "text/plain": [
       "[('men', 0.2790397585779288),\n",
       " ('women', 0.1953356986425619),\n",
       " ('woman', 0.11161104989047584),\n",
       " ('other', 0.09452022046761588),\n",
       " ('neither', 0.05581019961216054),\n",
       " ('are', 0.055084105889217104),\n",
       " ('white', 0.051590605330854515),\n",
       " ('pioneer', 0.049684963102054176),\n",
       " ('tastes', 0.049684963102054176),\n",
       " ('endowed', 0.049684963102054176)]"
      ]
     },
     "execution_count": 107,
     "metadata": {},
     "output_type": "execute_result"
    }
   ],
   "source": [
    "topic_model.get_topic(51)"
   ]
  },
  {
   "cell_type": "markdown",
   "id": "4c19a61a-7559-4180-b53c-ec7cc77e5c11",
   "metadata": {},
   "source": [
    "<h4 style=\"color:red\">8a - Un ottico</h4>"
   ]
  },
  {
   "cell_type": "code",
   "execution_count": 108,
   "id": "051e1632-f62c-4b9b-85e3-9d400ab25b5e",
   "metadata": {},
   "outputs": [
    {
     "data": {
      "text/plain": [
       "([1, 65, 32, 66, 44],\n",
       " [0.3811272125760501,\n",
       "  0.37399110064306146,\n",
       "  0.355155688052623,\n",
       "  0.35270439642193113,\n",
       "  0.29716033892082105])"
      ]
     },
     "execution_count": 108,
     "metadata": {},
     "output_type": "execute_result"
    }
   ],
   "source": [
    "topic_model.find_topics('''An optician Colour-blind long-sighted, beggars of sight the merchant of light, your optician, now only wants special clients who don’t know what to do with normal eyes. No longer an optician, but a lens dealer for improvising happy eyes, because the pupils who are used to copying invent worlds on which they can watch. Follow with me these dreaming eyes, fleeing from the orbit and not wanting to return. “I see that I climb to steal the sun so as to have no more nights, I closed it in my eyes so as not to let it fall in nets of sunsets, and who will be cold will be cold along my glance they’ll need to warm up.” “I see the rivers inside my veins, they seek, they seek, they seek, they seek, they seek their sea, they break the banks, the banks, the banks, the banks, they fi nd skies, skies, skies, skies to photograph. Blood that runs without imagination brings tumours of melancholy.” “I see gendarmes graze women bent over the dew, red the tongues from the pollen of flowers but where’s the queen bee? Maybe she’s flown to dawn’s nests, maybe she’s flown, maybe she no longer flies.” “I see friends still on the road, they aren’t in a hurry, they still steal happiness from sleep and a bit of night from dawn, and then the light, light that transforms the world into a toy.” We’ll make glasses this way! We’ll make glasses this way!''')"
   ]
  },
  {
   "cell_type": "code",
   "execution_count": 109,
   "id": "656e7a16-683f-460b-a991-3f7ba5c8224e",
   "metadata": {},
   "outputs": [
    {
     "data": {
      "text/plain": [
       "[('eyes', 0.09959869363980786),\n",
       " ('eye', 0.08868976695859787),\n",
       " ('vision', 0.05336978227924318),\n",
       " ('face', 0.05170006236087284),\n",
       " ('smiles', 0.03419498346566964),\n",
       " ('brow', 0.02870765893806075),\n",
       " ('faces', 0.02735598677253571),\n",
       " ('look', 0.02378610639258431),\n",
       " ('laugh', 0.022777203378824537),\n",
       " ('beauty', 0.021530744203545563)]"
      ]
     },
     "execution_count": 109,
     "metadata": {},
     "output_type": "execute_result"
    }
   ],
   "source": [
    "topic_model.get_topic(1)"
   ]
  },
  {
   "cell_type": "code",
   "execution_count": 110,
   "id": "efb33d2b-618f-4475-9611-5063b8b3792b",
   "metadata": {},
   "outputs": [
    {
     "data": {
      "text/plain": [
       "[('dreams', 0.4298658477876101),\n",
       " ('dream', 0.16602979664254366),\n",
       " ('dreamed', 0.14392279530977592),\n",
       " ('pageant', 0.08255347715418233),\n",
       " ('abruptly', 0.08255347715418233),\n",
       " ('mirrored', 0.08255347715418233),\n",
       " ('glassed', 0.08255347715418233),\n",
       " ('slept', 0.08255347715418233),\n",
       " ('borne', 0.08255347715418233),\n",
       " ('leafy', 0.07196139765488796)]"
      ]
     },
     "execution_count": 110,
     "metadata": {},
     "output_type": "execute_result"
    }
   ],
   "source": [
    "topic_model.get_topic(65)"
   ]
  },
  {
   "cell_type": "code",
   "execution_count": 111,
   "id": "f8c40b0e-4873-43ef-a59d-0ad89de074c4",
   "metadata": {
    "scrolled": true
   },
   "outputs": [
    {
     "data": {
      "text/plain": [
       "[('sun', 0.30289139126360226),\n",
       " ('sky', 0.11705603566992213),\n",
       " ('light', 0.11512785483094176),\n",
       " ('stars', 0.07219969019688542),\n",
       " ('sunlight', 0.061916325463884786),\n",
       " ('cold', 0.048133126797923614),\n",
       " ('oxygen', 0.04159671329474303),\n",
       " ('hasty', 0.04159671329474303),\n",
       " ('whippoorwill', 0.04159671329474303),\n",
       " ('dip', 0.04159671329474303)]"
      ]
     },
     "execution_count": 111,
     "metadata": {},
     "output_type": "execute_result"
    }
   ],
   "source": [
    "topic_model.get_topic(32)"
   ]
  },
  {
   "cell_type": "code",
   "execution_count": 112,
   "id": "0474ae72-5f93-4a8e-ad5c-128724deec8c",
   "metadata": {},
   "outputs": [
    {
     "data": {
      "text/plain": [
       "[('darkness', 0.31342885429973166),\n",
       " ('light', 0.16073044667956157),\n",
       " ('bellowing', 0.12959594300048652),\n",
       " ('dark', 0.10900946244207413),\n",
       " ('fantastic', 0.08130266689427047),\n",
       " ('leading', 0.08130266689427047),\n",
       " ('plate', 0.08130266689427047),\n",
       " ('quenches', 0.08130266689427047),\n",
       " ('skipping', 0.08130266689427047),\n",
       " ('lantern', 0.08130266689427047)]"
      ]
     },
     "execution_count": 112,
     "metadata": {},
     "output_type": "execute_result"
    }
   ],
   "source": [
    "topic_model.get_topic(66)"
   ]
  },
  {
   "cell_type": "code",
   "execution_count": 113,
   "id": "078b7b91-ea38-4cbe-aff4-2bf3b1a00971",
   "metadata": {},
   "outputs": [
    {
     "data": {
      "text/plain": [
       "[('sorrow', 0.37461224992669784),\n",
       " ('despair', 0.06926710367623833),\n",
       " ('hear', 0.051117297025066864),\n",
       " ('murmur', 0.04922913775249405),\n",
       " ('ovid', 0.04922913775249405),\n",
       " ('sorrows', 0.04922913775249405),\n",
       " ('answered', 0.04922913775249405),\n",
       " ('ours', 0.04922913775249405),\n",
       " ('misery', 0.04922913775249405),\n",
       " ('maiden', 0.04922913775249405)]"
      ]
     },
     "execution_count": 113,
     "metadata": {},
     "output_type": "execute_result"
    }
   ],
   "source": [
    "topic_model.get_topic(44)"
   ]
  },
  {
   "cell_type": "markdown",
   "id": "74be0866-5264-43af-9d15-6e4d894fa5c3",
   "metadata": {},
   "source": [
    "<h4 style=\"color:red\">8b - Dippold the Optician</h4>"
   ]
  },
  {
   "cell_type": "code",
   "execution_count": 114,
   "id": "fe1463d4-a010-4c8e-9a51-7b5e2de8eadb",
   "metadata": {},
   "outputs": [
    {
     "data": {
      "text/plain": [
       "([32, 1, 65, 87, 66],\n",
       " [0.34706318481041676,\n",
       "  0.33640667587533346,\n",
       "  0.2949498005196969,\n",
       "  0.28739028383579784,\n",
       "  0.28105400072377834])"
      ]
     },
     "execution_count": 114,
     "metadata": {},
     "output_type": "execute_result"
    }
   ],
   "source": [
    "topic_model.find_topics('''Dippold the Optician What do you see now? Globes of red, yellow, purple. Just a moment! And now? My father and mother and sisters. Yes! And now? Knights at arms, beautiful women, kind faces. Try this. A field of grain—a city. Very good! And now? A young woman with angels bending over her. A heavier lens! And now? Many women with bright eyes and open lips. Try this. Just a goblet on a table. Oh I see! Try this lens! Just an open space—I see nothing in particular. Well, now! Pine trees, a lake, a summer sky. That’s better. And now? A book. Read a page for me. I can’t. My eyes are carried beyond the page. Try this lens. Depths of air. Excellent! And now? Light, just light, making everything below it a toy world. Very well, we’ll make the glasses accordingly.''')"
   ]
  },
  {
   "cell_type": "code",
   "execution_count": 115,
   "id": "13cd8f77-5bd4-41bd-a1e0-4dc04fb62737",
   "metadata": {},
   "outputs": [
    {
     "data": {
      "text/plain": [
       "[('sun', 0.30289139126360226),\n",
       " ('sky', 0.11705603566992213),\n",
       " ('light', 0.11512785483094176),\n",
       " ('stars', 0.07219969019688542),\n",
       " ('sunlight', 0.061916325463884786),\n",
       " ('cold', 0.048133126797923614),\n",
       " ('oxygen', 0.04159671329474303),\n",
       " ('hasty', 0.04159671329474303),\n",
       " ('whippoorwill', 0.04159671329474303),\n",
       " ('dip', 0.04159671329474303)]"
      ]
     },
     "execution_count": 115,
     "metadata": {},
     "output_type": "execute_result"
    }
   ],
   "source": [
    "topic_model.get_topic(32)"
   ]
  },
  {
   "cell_type": "code",
   "execution_count": 116,
   "id": "c1891528-0d94-491d-a1fc-dba51b44ed48",
   "metadata": {},
   "outputs": [
    {
     "data": {
      "text/plain": [
       "[('eyes', 0.09959869363980786),\n",
       " ('eye', 0.08868976695859787),\n",
       " ('vision', 0.05336978227924318),\n",
       " ('face', 0.05170006236087284),\n",
       " ('smiles', 0.03419498346566964),\n",
       " ('brow', 0.02870765893806075),\n",
       " ('faces', 0.02735598677253571),\n",
       " ('look', 0.02378610639258431),\n",
       " ('laugh', 0.022777203378824537),\n",
       " ('beauty', 0.021530744203545563)]"
      ]
     },
     "execution_count": 116,
     "metadata": {},
     "output_type": "execute_result"
    }
   ],
   "source": [
    "topic_model.get_topic(1)"
   ]
  },
  {
   "cell_type": "code",
   "execution_count": 117,
   "id": "25befec5-74eb-4fa1-98de-3a156830f0cf",
   "metadata": {},
   "outputs": [
    {
     "data": {
      "text/plain": [
       "[('dreams', 0.4298658477876101),\n",
       " ('dream', 0.16602979664254366),\n",
       " ('dreamed', 0.14392279530977592),\n",
       " ('pageant', 0.08255347715418233),\n",
       " ('abruptly', 0.08255347715418233),\n",
       " ('mirrored', 0.08255347715418233),\n",
       " ('glassed', 0.08255347715418233),\n",
       " ('slept', 0.08255347715418233),\n",
       " ('borne', 0.08255347715418233),\n",
       " ('leafy', 0.07196139765488796)]"
      ]
     },
     "execution_count": 117,
     "metadata": {},
     "output_type": "execute_result"
    }
   ],
   "source": [
    "topic_model.get_topic(65)"
   ]
  },
  {
   "cell_type": "code",
   "execution_count": 118,
   "id": "36ff822b-ace4-4533-9aa6-5b7fd2e5238f",
   "metadata": {},
   "outputs": [
    {
     "data": {
      "text/plain": [
       "[('moon', 0.3880733348082591),\n",
       " ('moonlight', 0.16705324455598988),\n",
       " ('shone', 0.09582100026824733),\n",
       " ('middle', 0.09582100026824733),\n",
       " ('memphis', 0.09582100026824733),\n",
       " ('bigger', 0.09582100026824733),\n",
       " ('necropolis', 0.09582100026824733),\n",
       " ('lute', 0.09582100026824733),\n",
       " ('shoulder', 0.09582100026824733),\n",
       " ('thin', 0.09582100026824733)]"
      ]
     },
     "execution_count": 118,
     "metadata": {},
     "output_type": "execute_result"
    }
   ],
   "source": [
    "topic_model.get_topic(87)"
   ]
  },
  {
   "cell_type": "code",
   "execution_count": 119,
   "id": "2dcb0c40-ad9a-4247-b5e3-cd4f2964c6b8",
   "metadata": {},
   "outputs": [
    {
     "data": {
      "text/plain": [
       "[('darkness', 0.31342885429973166),\n",
       " ('light', 0.16073044667956157),\n",
       " ('bellowing', 0.12959594300048652),\n",
       " ('dark', 0.10900946244207413),\n",
       " ('fantastic', 0.08130266689427047),\n",
       " ('leading', 0.08130266689427047),\n",
       " ('plate', 0.08130266689427047),\n",
       " ('quenches', 0.08130266689427047),\n",
       " ('skipping', 0.08130266689427047),\n",
       " ('lantern', 0.08130266689427047)]"
      ]
     },
     "execution_count": 119,
     "metadata": {},
     "output_type": "execute_result"
    }
   ],
   "source": [
    "topic_model.get_topic(66)"
   ]
  },
  {
   "cell_type": "markdown",
   "id": "4ec50120-2a38-4cdd-96fb-a8298aaa14c9",
   "metadata": {},
   "source": [
    "<h4 style=\"color:red\">9a - Il suonatore Jones</h4>"
   ]
  },
  {
   "cell_type": "code",
   "execution_count": 120,
   "id": "cffe2c3b-2a00-419d-bedc-b30f71aca0ec",
   "metadata": {},
   "outputs": [
    {
     "data": {
      "text/plain": [
       "([83, 20, 65, 44, 24],\n",
       " [0.3635730159500624,\n",
       "  0.24930244319910866,\n",
       "  0.24564404492355282,\n",
       "  0.2075862201962148,\n",
       "  0.19755747332546753])"
      ]
     },
     "execution_count": 120,
     "metadata": {},
     "output_type": "execute_result"
    }
   ],
   "source": [
    "topic_model.find_topics(''' Jones, the player In a whirlpool of dust the others saw drought it reminded me of Jenny’s skirt in a dance many years ago. I felt my earth vibrate with sounds, it was my heart, and so why till it again how to think it better. Liberty I have seen it sleeping in the tilled fields from heaven and money, from heaven and love, protected by barbed wire. Liberty I have seen it wake up every time I have played for a rustle of girls at a dance for a drunk companion. And then if people know and people know you can play, playing is up to you all life long and you like being listened to. It ended up with fields of weeds it ended up with a broken flute and many memories and a raucous laughter and not even one regret.''')"
   ]
  },
  {
   "cell_type": "code",
   "execution_count": 121,
   "id": "114dc192-8d5e-4754-a68f-38ab3eeacb94",
   "metadata": {},
   "outputs": [
    {
     "data": {
      "text/plain": [
       "[('dance', 0.3775057150354989),\n",
       " ('danced', 0.23961617954523412),\n",
       " ('rigadoon', 0.10731952030043702),\n",
       " ('rink', 0.10731952030043702),\n",
       " ('viols', 0.10731952030043702),\n",
       " ('picnic', 0.10731952030043702),\n",
       " ('chandlerville', 0.10731952030043702),\n",
       " ('merrily', 0.10731952030043702),\n",
       " ('dances', 0.10731952030043702),\n",
       " ('revival', 0.10731952030043702)]"
      ]
     },
     "execution_count": 121,
     "metadata": {},
     "output_type": "execute_result"
    }
   ],
   "source": [
    "topic_model.get_topic(83)"
   ]
  },
  {
   "cell_type": "code",
   "execution_count": 122,
   "id": "49500640-6a08-4763-af7b-32982b784434",
   "metadata": {},
   "outputs": [
    {
     "data": {
      "text/plain": [
       "[('voice', 0.09473506868566467),\n",
       " ('song', 0.08524436636465511),\n",
       " ('music', 0.0816994643909253),\n",
       " ('singing', 0.06535957151274026),\n",
       " ('sound', 0.06291414521019748),\n",
       " ('trumpets', 0.060805679417289885),\n",
       " ('rumbled', 0.04433640613808263),\n",
       " ('strings', 0.04433640613808263),\n",
       " ('mingled', 0.04433640613808263),\n",
       " ('waves', 0.0405371196115266)]"
      ]
     },
     "execution_count": 122,
     "metadata": {},
     "output_type": "execute_result"
    }
   ],
   "source": [
    "topic_model.get_topic(20)"
   ]
  },
  {
   "cell_type": "code",
   "execution_count": 123,
   "id": "731f1dbe-bd90-4ff3-828e-aa62802c1d63",
   "metadata": {},
   "outputs": [
    {
     "data": {
      "text/plain": [
       "[('dreams', 0.4298658477876101),\n",
       " ('dream', 0.16602979664254366),\n",
       " ('dreamed', 0.14392279530977592),\n",
       " ('pageant', 0.08255347715418233),\n",
       " ('abruptly', 0.08255347715418233),\n",
       " ('mirrored', 0.08255347715418233),\n",
       " ('glassed', 0.08255347715418233),\n",
       " ('slept', 0.08255347715418233),\n",
       " ('borne', 0.08255347715418233),\n",
       " ('leafy', 0.07196139765488796)]"
      ]
     },
     "execution_count": 123,
     "metadata": {},
     "output_type": "execute_result"
    }
   ],
   "source": [
    "topic_model.get_topic(65)"
   ]
  },
  {
   "cell_type": "code",
   "execution_count": 124,
   "id": "67883d01-af50-4970-9194-9021a1263e47",
   "metadata": {},
   "outputs": [
    {
     "data": {
      "text/plain": [
       "[('sorrow', 0.37461224992669784),\n",
       " ('despair', 0.06926710367623833),\n",
       " ('hear', 0.051117297025066864),\n",
       " ('murmur', 0.04922913775249405),\n",
       " ('ovid', 0.04922913775249405),\n",
       " ('sorrows', 0.04922913775249405),\n",
       " ('answered', 0.04922913775249405),\n",
       " ('ours', 0.04922913775249405),\n",
       " ('misery', 0.04922913775249405),\n",
       " ('maiden', 0.04922913775249405)]"
      ]
     },
     "execution_count": 124,
     "metadata": {},
     "output_type": "execute_result"
    }
   ],
   "source": [
    "topic_model.get_topic(44)"
   ]
  },
  {
   "cell_type": "code",
   "execution_count": 125,
   "id": "037acab7-79a1-49e4-b510-a7935e057ca8",
   "metadata": {},
   "outputs": [
    {
     "data": {
      "text/plain": [
       "[('bouquet', 0.1048626986209719),\n",
       " ('blossoms', 0.08874673316490153),\n",
       " ('clover', 0.08389015889677753),\n",
       " ('flowers', 0.08389015889677753),\n",
       " ('flower', 0.07127776865026758),\n",
       " ('weed', 0.06656004987367614),\n",
       " ('fragrant', 0.05197212052853019),\n",
       " ('petals', 0.05197212052853019),\n",
       " ('bloom', 0.05197212052853019),\n",
       " ('roses', 0.047518512433511725)]"
      ]
     },
     "execution_count": 125,
     "metadata": {},
     "output_type": "execute_result"
    }
   ],
   "source": [
    "topic_model.get_topic(24)"
   ]
  },
  {
   "cell_type": "markdown",
   "id": "2dacbba3-0596-48c3-a6d1-4ab23c1e1be8",
   "metadata": {},
   "source": [
    "<h4 style=\"color:red\">9b - Jones the player</h4>"
   ]
  },
  {
   "cell_type": "code",
   "execution_count": 126,
   "id": "ab57bdc9-f43b-46cd-824d-de8bd18761c7",
   "metadata": {},
   "outputs": [
    {
     "data": {
      "text/plain": [
       "([6, 83, 60, 20, 29],\n",
       " [0.2753682595363104,\n",
       "  0.2687721824848367,\n",
       "  0.2563114568965506,\n",
       "  0.2463868227356948,\n",
       "  0.23075811882702835])"
      ]
     },
     "execution_count": 126,
     "metadata": {},
     "output_type": "execute_result"
    }
   ],
   "source": [
    "topic_model.find_topics(''' Fiddler Jones The earth keeps some vibration going There in your heart, and that is you. And if the people find you can fiddle, Why, fiddle you must, for all your life. What do you see, a harvest of clover? Or a meadow to walk through to the river? The wind's in the corn; you rub your hands For beeves hereafter ready for market; Or else you hear the rustle of skirts Like the girls when dancing at Little Grove. To Cooney Potter a pillar of dust Or whirling leaves meant ruinous drouth; They looked to me like Red-Head Sammy Stepping it off to 'Toor-a-Loor.' How could I till my forty acres Not to speak of getting more, With a medley of horns, bassoons and piccolos Stirred in my brain by crows and robins And the creak of a wind-mill--only these? And I never started to plow in my life That some one did not stop in the road And take me away to a dance or picnic. I ended up with forty acres; I ended up with a broken fiddle-- And a broken laugh, and a thousand memories, And not a single regret.''')"
   ]
  },
  {
   "cell_type": "code",
   "execution_count": 127,
   "id": "51914272-6677-4b96-88b3-16644a61005f",
   "metadata": {},
   "outputs": [
    {
     "data": {
      "text/plain": [
       "[('spoon', 0.27083403589333854),\n",
       " ('river', 0.24581821278314295),\n",
       " ('spooniad', 0.026652369501810356),\n",
       " ('ship', 0.024368467914621397),\n",
       " ('train', 0.02151029715301988),\n",
       " ('all', 0.0210217683806952),\n",
       " ('in', 0.01642800045350359),\n",
       " ('born', 0.0158740324094937),\n",
       " ('brought', 0.0158740324094937),\n",
       " ('ditches', 0.01528768095447821)]"
      ]
     },
     "execution_count": 127,
     "metadata": {},
     "output_type": "execute_result"
    }
   ],
   "source": [
    "topic_model.get_topic(6)"
   ]
  },
  {
   "cell_type": "code",
   "execution_count": 128,
   "id": "350fa41c-d1a1-490e-ac3b-d817ff2b7330",
   "metadata": {},
   "outputs": [
    {
     "data": {
      "text/plain": [
       "[('dance', 0.3775057150354989),\n",
       " ('danced', 0.23961617954523412),\n",
       " ('rigadoon', 0.10731952030043702),\n",
       " ('rink', 0.10731952030043702),\n",
       " ('viols', 0.10731952030043702),\n",
       " ('picnic', 0.10731952030043702),\n",
       " ('chandlerville', 0.10731952030043702),\n",
       " ('merrily', 0.10731952030043702),\n",
       " ('dances', 0.10731952030043702),\n",
       " ('revival', 0.10731952030043702)]"
      ]
     },
     "execution_count": 128,
     "metadata": {},
     "output_type": "execute_result"
    }
   ],
   "source": [
    "topic_model.get_topic(83)"
   ]
  },
  {
   "cell_type": "code",
   "execution_count": 129,
   "id": "17728dda-8f49-418a-bdaf-1ba8496d771c",
   "metadata": {},
   "outputs": [
    {
     "data": {
      "text/plain": [
       "[('wind', 0.24225153807531688),\n",
       " ('winds', 0.1859420051746111),\n",
       " ('kite', 0.17363491271393777),\n",
       " ('blew', 0.12396133678307407),\n",
       " ('breeze', 0.11575660847595852),\n",
       " ('leaves', 0.11325504195073824),\n",
       " ('kites', 0.07776776833365001),\n",
       " ('blown', 0.07776776833365001),\n",
       " ('clocks', 0.07776776833365001),\n",
       " ('bucky', 0.07776776833365001)]"
      ]
     },
     "execution_count": 129,
     "metadata": {},
     "output_type": "execute_result"
    }
   ],
   "source": [
    "topic_model.get_topic(60)"
   ]
  },
  {
   "cell_type": "code",
   "execution_count": 130,
   "id": "678f85b2-a9d1-4f8b-abdf-6906226815cd",
   "metadata": {},
   "outputs": [
    {
     "data": {
      "text/plain": [
       "[('voice', 0.09473506868566467),\n",
       " ('song', 0.08524436636465511),\n",
       " ('music', 0.0816994643909253),\n",
       " ('singing', 0.06535957151274026),\n",
       " ('sound', 0.06291414521019748),\n",
       " ('trumpets', 0.060805679417289885),\n",
       " ('rumbled', 0.04433640613808263),\n",
       " ('strings', 0.04433640613808263),\n",
       " ('mingled', 0.04433640613808263),\n",
       " ('waves', 0.0405371196115266)]"
      ]
     },
     "execution_count": 130,
     "metadata": {},
     "output_type": "execute_result"
    }
   ],
   "source": [
    "topic_model.get_topic(20)"
   ]
  },
  {
   "cell_type": "code",
   "execution_count": 131,
   "id": "aac0a43f-448a-43e8-b1f6-a6771720d751",
   "metadata": {},
   "outputs": [
    {
     "data": {
      "text/plain": [
       "[('wings', 0.12758575390956464),\n",
       " ('winged', 0.10941378061426216),\n",
       " ('hawk', 0.08206033546069662),\n",
       " ('chicken', 0.06407521708996872),\n",
       " ('eagles', 0.06407521708996872),\n",
       " ('crow', 0.06407521708996872),\n",
       " ('quail', 0.06407521708996872),\n",
       " ('feathers', 0.06407521708996872),\n",
       " ('brood', 0.05858446738378158),\n",
       " ('sunlight', 0.05470689030713108)]"
      ]
     },
     "execution_count": 131,
     "metadata": {},
     "output_type": "execute_result"
    }
   ],
   "source": [
    "topic_model.get_topic(29)"
   ]
  },
  {
   "cell_type": "markdown",
   "id": "897d5d6a-7006-4601-b02c-8f9df9e0013d",
   "metadata": {},
   "source": [
    "<h1 style=\"color:red;\">Keywords' extraction with KeyBERT</h1>"
   ]
  },
  {
   "cell_type": "markdown",
   "id": "5d0e9edb-4780-45ad-864e-d3e673fae9e7",
   "metadata": {},
   "source": [
    "<p>After having found the most frequent topics for each song and for each poem, we extracted through the use of KeyBERT the keywords from the songs of the music album \"Non al denaro non all'amore né al cielo\" and from the poems of the SpoonRiver Anthology that inspired them. </p>\n",
    "<p><b><a href=\"https://maartengr.github.io/KeyBERT/index.html\">KeyBERT</a></b> is a keyword extraction library that leverages BERT embeddings to get keywords that are most representative of the underlying text document. We can say that it’s an unsupervised extractive way of getting keywords from a given text.</p> "
   ]
  },
  {
   "cell_type": "code",
   "execution_count": 2,
   "id": "d78b87e1-6573-454f-9922-deb188aca0f6",
   "metadata": {},
   "outputs": [],
   "source": [
    "from keybert import KeyBERT"
   ]
  },
  {
   "cell_type": "markdown",
   "id": "841d2bcb-e2ad-434d-9d4d-80d00e8c7049",
   "metadata": {},
   "source": [
    "<p>We used as model <code>'all-mpnet-base-v2'</code>, that is, a sentence-transformers model. It maps sentences and paragraphs to a 768 dimensional dense vector space and can be used for tasks like clustering or semantic search.</p>"
   ]
  },
  {
   "cell_type": "code",
   "execution_count": 3,
   "id": "2e0c082e-7c35-4e9e-b7b4-59e282212808",
   "metadata": {},
   "outputs": [],
   "source": [
    "kw_model = KeyBERT('all-mpnet-base-v2')"
   ]
  },
  {
   "cell_type": "markdown",
   "id": "9d98257c-73be-4849-bba4-f98915515fb0",
   "metadata": {},
   "source": [
    " <p>In the variable <code>poems_and_songs</code> we stored a list containing all the songs of the music album and the poems from the Spoon River Anthology that inspired De André.</p>"
   ]
  },
  {
   "cell_type": "code",
   "execution_count": 4,
   "id": "262a914f-6d1e-428b-a02b-d8fd2589bd0d",
   "metadata": {},
   "outputs": [],
   "source": [
    "poems_and_songs= ['''The Hill\n",
    "\n",
    "Where are Elmer, Herman, Bert, Tom and Charley, The weak of will, the strong of arm, the clown, the boozer, the fighter? All, all are sleeping on the hill.\n",
    "\n",
    "One passed in a fever,\n",
    "One was burned in a mine,\n",
    "One was killed in a brawl,\n",
    "One died in a jail,\n",
    "One fell from a bridge toiling for children and wife- All, all are sleeping, sleeping, sleeping on the hill.\n",
    "\n",
    "Where are Ella, Kate, Mag, Lizzie and Edith, The tender heart, the simple soul, the loud, the proud, the happy one?– All, all are sleeping on the hill.\n",
    "\n",
    "One died in shameful child-birth,\n",
    "One of a thwarted love,\n",
    "One at the hands of a brute in a brothel, One of a broken pride, in the search for heart’s desire; One after life in far-away London and Paris Was brought to her little space by Ella and Kate and Mag– All, all are sleeping, sleeping, sleeping on the hill.\n",
    "\n",
    "Where are Uncle Isaac and Aunt Emily, And old Towny Kincaid and Sevigne Houghton, And Major Walker who had talked\n",
    "With venerable men of the revolution?– All, all are sleeping on the hill.\n",
    "\n",
    "They brought them dead sons from the war, And daughters whom life had crushed,\n",
    "And their children fatherless, crying– All, all are sleeping, sleeping, sleeping on the hill. Where is Old Fiddler Jones\n",
    "Who played with life all his ninety years, Braving the sleet with bared breast,\n",
    "Drinking, rioting, thinking neither of wife nor kin, Nor gold, nor love, nor heaven?\n",
    "Lo! he babbles of the fish-frys of long ago, Of the horse-races of long ago at Clary’s Grove, Of what Abe Lincoln said\n",
    "One time at Springfield.''', \n",
    "\n",
    "'''\n",
    "The hill\n",
    "Where did Elmer go,\n",
    "who let himself die of fever,\n",
    "where is Herman, who burnt in a mine.\n",
    "Where are Bert and Tom,\n",
    "the first was killed in a fight\n",
    "and the other came out of prison already dead.\n",
    "And what will become of Charlie\n",
    "who fell as he was working\n",
    "and who flew from the bridge, flew onto the\n",
    "street.\n",
    "They’re sleeping, they’re sleeping on the hill\n",
    "they’re sleeping, they’re sleeping on the hill.\n",
    "Where are Ella and Kate\n",
    "both dead because of a mistake\n",
    "one from abortion, the other from love.\n",
    "And Maggie killed in a brothel\n",
    "by the caresses of an animal\n",
    "and Edith consumed by a strange illness.\n",
    "And Lizzie who followed life a long way\n",
    "and from England\n",
    "was brought back in this palm of earth.\n",
    "They’re sleeping, they’re sleeping on the hill\n",
    "they’re sleeping, they’re sleeping on the hill.\n",
    "Where are the generals\n",
    "who decorated themselves in battle\n",
    "with cemeteries of crosses on their chest,\n",
    "where are the sons of war\n",
    "who left for an ideal, for a fraud,\n",
    "for a love affair that ended badly.\n",
    "They have sent back home their remains in flags\n",
    "tied tightly so they would seem whole.\n",
    "They’re sleeping, they’re sleeping on the hill\n",
    "they’re sleeping, they’re sleeping on the hill.\n",
    "Where is Jones the player\n",
    "who was surprised by his 90 years\n",
    "and with life would have played again\n",
    "he who offered his face to the wind,\n",
    "his throat to wine and never a thought\n",
    "not to money, not to love, nor to the heaven.\n",
    "He, yes, it seems you can hear him\n",
    "still mumbling filth eaten in the street at the\n",
    "wrong time.\n",
    "It seems you can still hear him\n",
    "saying to the liquor merchant:\n",
    "“You who sell it, what do you buy that is better?”''',\n",
    "'''(...)''']\n"
   ]
  },
  {
   "cell_type": "markdown",
   "id": "e14ceb1d-ff96-4dc8-a17e-e0b95adf3391",
   "metadata": {},
   "source": [
    "<p>The <code>keyphrase_ngram_range</code> controls the length of the resulting keywords/keyphrases. We set it equal to (1, 1) in order to receive just a single word as result. We have also highlighted all the retrieved keywords in the input text just by setting <code>highlight</code> equal to <code>True</code>.</p>"
   ]
  },
  {
   "cell_type": "markdown",
   "id": "5b0d6e9b-c6ec-4778-83c0-d3b3adf491fa",
   "metadata": {},
   "source": [
    "<h4 style=\"color:red\">1a - La collina</h4>"
   ]
  },
  {
   "cell_type": "code",
   "execution_count": 65,
   "id": "ac409f2e-66ed-48dc-a4c2-f3b25df36d98",
   "metadata": {},
   "outputs": [
    {
     "data": {
      "text/html": [
       "<pre style=\"white-space:pre;overflow-x:auto;line-height:normal;font-family:Menlo,'DejaVu Sans Mono',consolas,'Courier New',monospace\">The <span style=\"color: #000000; text-decoration-color: #000000; background-color: #ffff00\">hill</span> Where did Elmer go who let himself die of fever where is Herman who burnt in mine Where are <span style=\"color: #000000; text-decoration-color: #000000; background-color: #ffff00\">Bert</span> and Tom \n",
       "the first was killed in fight and the other came out of prison already <span style=\"color: #000000; text-decoration-color: #000000; background-color: #ffff00\">dead</span> And what will become of Charlie who \n",
       "fell as he was working and who flew from the bridge flew onto the street They re sleeping they re sleeping on the \n",
       "<span style=\"color: #000000; text-decoration-color: #000000; background-color: #ffff00\">hill</span> they re sleeping they re sleeping on the <span style=\"color: #000000; text-decoration-color: #000000; background-color: #ffff00\">hill</span> Where are Ella and <span style=\"color: #000000; text-decoration-color: #000000; background-color: #ffff00\">Kate</span> both <span style=\"color: #000000; text-decoration-color: #000000; background-color: #ffff00\">dead</span> because of mistake one from \n",
       "abortion the other from love And Maggie killed in brothel by the caresses of an animal and <span style=\"color: #000000; text-decoration-color: #000000; background-color: #ffff00\">Edith</span> consumed by \n",
       "strange illness And <span style=\"color: #000000; text-decoration-color: #000000; background-color: #ffff00\">Lizzie</span> who followed life long way and from England was brought back in this palm of earth They \n",
       "re sleeping they re sleeping on the <span style=\"color: #000000; text-decoration-color: #000000; background-color: #ffff00\">hill</span> they re sleeping they re sleeping on the <span style=\"color: #000000; text-decoration-color: #000000; background-color: #ffff00\">hill</span> Where are the generals who \n",
       "decorated themselves in battle with <span style=\"color: #000000; text-decoration-color: #000000; background-color: #ffff00\">cemeteries</span> of crosses on their chest where are the sons of war who left for an \n",
       "ideal for fraud for love affair that ended badly They have sent back <span style=\"color: #000000; text-decoration-color: #000000; background-color: #ffff00\">home</span> their <span style=\"color: #000000; text-decoration-color: #000000; background-color: #ffff00\">remains</span> in flags tied tightly so \n",
       "they would seem whole They re sleeping they re sleeping on the <span style=\"color: #000000; text-decoration-color: #000000; background-color: #ffff00\">hill</span> they re sleeping they re sleeping on the <span style=\"color: #000000; text-decoration-color: #000000; background-color: #ffff00\">hill</span> \n",
       "Where is Jones the player who was surprised by his 90 years and with life would have played again he who offered \n",
       "his face to the wind his throat to wine and never thought not to money not to love nor to the <span style=\"color: #000000; text-decoration-color: #000000; background-color: #ffff00\">heaven</span> He yes it \n",
       "seems you can hear him still mumbling filth eaten in the street at the wrong time It seems you can still hear him \n",
       "saying to the liquor merchant You who sell it what do you buy that is better\n",
       "</pre>\n"
      ],
      "text/plain": [
       "The \u001b[30;48;2;255;255;0mhill\u001b[0m Where did Elmer go who let himself die of fever where is Herman who burnt in mine Where are \u001b[30;48;2;255;255;0mBert\u001b[0m and Tom \n",
       "the first was killed in fight and the other came out of prison already \u001b[30;48;2;255;255;0mdead\u001b[0m And what will become of Charlie who \n",
       "fell as he was working and who flew from the bridge flew onto the street They re sleeping they re sleeping on the \n",
       "\u001b[30;48;2;255;255;0mhill\u001b[0m they re sleeping they re sleeping on the \u001b[30;48;2;255;255;0mhill\u001b[0m Where are Ella and \u001b[30;48;2;255;255;0mKate\u001b[0m both \u001b[30;48;2;255;255;0mdead\u001b[0m because of mistake one from \n",
       "abortion the other from love And Maggie killed in brothel by the caresses of an animal and \u001b[30;48;2;255;255;0mEdith\u001b[0m consumed by \n",
       "strange illness And \u001b[30;48;2;255;255;0mLizzie\u001b[0m who followed life long way and from England was brought back in this palm of earth They \n",
       "re sleeping they re sleeping on the \u001b[30;48;2;255;255;0mhill\u001b[0m they re sleeping they re sleeping on the \u001b[30;48;2;255;255;0mhill\u001b[0m Where are the generals who \n",
       "decorated themselves in battle with \u001b[30;48;2;255;255;0mcemeteries\u001b[0m of crosses on their chest where are the sons of war who left for an \n",
       "ideal for fraud for love affair that ended badly They have sent back \u001b[30;48;2;255;255;0mhome\u001b[0m their \u001b[30;48;2;255;255;0mremains\u001b[0m in flags tied tightly so \n",
       "they would seem whole They re sleeping they re sleeping on the \u001b[30;48;2;255;255;0mhill\u001b[0m they re sleeping they re sleeping on the \u001b[30;48;2;255;255;0mhill\u001b[0m \n",
       "Where is Jones the player who was surprised by his 90 years and with life would have played again he who offered \n",
       "his face to the wind his throat to wine and never thought not to money not to love nor to the \u001b[30;48;2;255;255;0mheaven\u001b[0m He yes it \n",
       "seems you can hear him still mumbling filth eaten in the street at the wrong time It seems you can still hear him \n",
       "saying to the liquor merchant You who sell it what do you buy that is better\n"
      ]
     },
     "metadata": {},
     "output_type": "display_data"
    },
    {
     "name": "stdout",
     "output_type": "stream",
     "text": [
      "['hill', 'cemeteries', 'remains', 'edith', 'lizzie', 'heaven', 'dead', 'bert', 'home', 'kate']\n"
     ]
    }
   ],
   "source": [
    "keywords_1a = kw_model.extract_keywords(poems_and_songs[1], \n",
    "\n",
    "                                     keyphrase_ngram_range=(1,1), \n",
    "\n",
    "                                     stop_words='english', \n",
    "\n",
    "                                     highlight=True,\n",
    "\n",
    "                                     top_n=10)\n",
    "\n",
    "print( list(dict(keywords_1a).keys()))"
   ]
  },
  {
   "cell_type": "markdown",
   "id": "84f0d9b1-33f9-4a30-a7de-6925120b1eed",
   "metadata": {},
   "source": [
    "<h4 style=\"color:red\">1b - The hill</h4>"
   ]
  },
  {
   "cell_type": "code",
   "execution_count": 64,
   "id": "d0b1fe44-1e44-4862-a0d1-07024d09d5a5",
   "metadata": {},
   "outputs": [
    {
     "data": {
      "text/html": [
       "<pre style=\"white-space:pre;overflow-x:auto;line-height:normal;font-family:Menlo,'DejaVu Sans Mono',consolas,'Courier New',monospace\">The <span style=\"color: #000000; text-decoration-color: #000000; background-color: #ffff00\">Hill</span> Where are <span style=\"color: #000000; text-decoration-color: #000000; background-color: #ffff00\">Elmer</span> Herman <span style=\"color: #000000; text-decoration-color: #000000; background-color: #ffff00\">Bert</span> Tom and <span style=\"color: #000000; text-decoration-color: #000000; background-color: #ffff00\">Charley</span> The weak of will the strong of arm the clown the boozer the \n",
       "fighter All all are sleeping on the <span style=\"color: #000000; text-decoration-color: #000000; background-color: #ffff00\">hill</span> One passed in fever One was burned in mine One was killed in brawl One \n",
       "died in jail One fell from bridge toiling for children and wife All all are sleeping sleeping sleeping on the <span style=\"color: #000000; text-decoration-color: #000000; background-color: #ffff00\">hill</span> \n",
       "Where are Ella Kate Mag <span style=\"color: #000000; text-decoration-color: #000000; background-color: #ffff00\">Lizzie</span> and <span style=\"color: #000000; text-decoration-color: #000000; background-color: #ffff00\">Edith</span> The tender heart the simple soul the loud the proud the happy one All all \n",
       "are sleeping on the <span style=\"color: #000000; text-decoration-color: #000000; background-color: #ffff00\">hill</span> One died in shameful child birth One of thwarted love One at the hands of brute in brothel\n",
       "One of broken pride in the search for heart desire One after life in far away London and Paris Was brought to her \n",
       "little space by Ella and Kate and Mag All all are sleeping sleeping sleeping on the <span style=\"color: #000000; text-decoration-color: #000000; background-color: #ffff00\">hill</span> Where are Uncle Isaac and \n",
       "Aunt Emily And old Towny Kincaid and Sevigne Houghton And Major Walker who had talked With venerable men of the \n",
       "revolution All all are sleeping on the <span style=\"color: #000000; text-decoration-color: #000000; background-color: #ffff00\">hill</span> They brought them <span style=\"color: #000000; text-decoration-color: #000000; background-color: #ffff00\">dead</span> sons from the war And daughters whom life had \n",
       "crushed And their children fatherless crying All all are sleeping sleeping sleeping on the <span style=\"color: #000000; text-decoration-color: #000000; background-color: #ffff00\">hill</span> Where is Old \n",
       "Fiddler Jones Who played with life all his ninety years Braving the sleet with bared breast Drinking rioting \n",
       "thinking neither of wife nor kin Nor gold nor love nor heaven Lo he babbles of the fish frys of long ago Of the \n",
       "horse races of long ago at Clary <span style=\"color: #000000; text-decoration-color: #000000; background-color: #ffff00\">Grove</span> Of what <span style=\"color: #000000; text-decoration-color: #000000; background-color: #ffff00\">Abe</span> <span style=\"color: #000000; text-decoration-color: #000000; background-color: #ffff00\">Lincoln</span> said One time at Springfield\n",
       "</pre>\n"
      ],
      "text/plain": [
       "The \u001b[30;48;2;255;255;0mHill\u001b[0m Where are \u001b[30;48;2;255;255;0mElmer\u001b[0m Herman \u001b[30;48;2;255;255;0mBert\u001b[0m Tom and \u001b[30;48;2;255;255;0mCharley\u001b[0m The weak of will the strong of arm the clown the boozer the \n",
       "fighter All all are sleeping on the \u001b[30;48;2;255;255;0mhill\u001b[0m One passed in fever One was burned in mine One was killed in brawl One \n",
       "died in jail One fell from bridge toiling for children and wife All all are sleeping sleeping sleeping on the \u001b[30;48;2;255;255;0mhill\u001b[0m \n",
       "Where are Ella Kate Mag \u001b[30;48;2;255;255;0mLizzie\u001b[0m and \u001b[30;48;2;255;255;0mEdith\u001b[0m The tender heart the simple soul the loud the proud the happy one All all \n",
       "are sleeping on the \u001b[30;48;2;255;255;0mhill\u001b[0m One died in shameful child birth One of thwarted love One at the hands of brute in brothel\n",
       "One of broken pride in the search for heart desire One after life in far away London and Paris Was brought to her \n",
       "little space by Ella and Kate and Mag All all are sleeping sleeping sleeping on the \u001b[30;48;2;255;255;0mhill\u001b[0m Where are Uncle Isaac and \n",
       "Aunt Emily And old Towny Kincaid and Sevigne Houghton And Major Walker who had talked With venerable men of the \n",
       "revolution All all are sleeping on the \u001b[30;48;2;255;255;0mhill\u001b[0m They brought them \u001b[30;48;2;255;255;0mdead\u001b[0m sons from the war And daughters whom life had \n",
       "crushed And their children fatherless crying All all are sleeping sleeping sleeping on the \u001b[30;48;2;255;255;0mhill\u001b[0m Where is Old \n",
       "Fiddler Jones Who played with life all his ninety years Braving the sleet with bared breast Drinking rioting \n",
       "thinking neither of wife nor kin Nor gold nor love nor heaven Lo he babbles of the fish frys of long ago Of the \n",
       "horse races of long ago at Clary \u001b[30;48;2;255;255;0mGrove\u001b[0m Of what \u001b[30;48;2;255;255;0mAbe\u001b[0m \u001b[30;48;2;255;255;0mLincoln\u001b[0m said One time at Springfield\n"
      ]
     },
     "metadata": {},
     "output_type": "display_data"
    },
    {
     "name": "stdout",
     "output_type": "stream",
     "text": [
      "['hill', 'bert', 'grove', 'edith', 'abe', 'charley', 'lincoln', 'lizzie', 'elmer', 'dead']\n"
     ]
    }
   ],
   "source": [
    "keywords_1b = kw_model.extract_keywords(poems_and_songs[0], \n",
    "\n",
    "                                     keyphrase_ngram_range=(1,1), \n",
    "\n",
    "                                     stop_words='english', \n",
    "\n",
    "                                     highlight=True,\n",
    "\n",
    "                                     top_n=10)\n",
    "\n",
    "print( list(dict(keywords_1b).keys()))"
   ]
  },
  {
   "cell_type": "markdown",
   "id": "eff7bdca-9ac2-4aaa-8500-b1eac3c33a10",
   "metadata": {},
   "source": [
    "<h4 style=\"color:red\">2a - Un matto</h4>"
   ]
  },
  {
   "cell_type": "code",
   "execution_count": 69,
   "id": "64fc8397-eda2-46cd-8d62-a293f4d31fc8",
   "metadata": {},
   "outputs": [
    {
     "data": {
      "text/html": [
       "<pre style=\"white-space:pre;overflow-x:auto;line-height:normal;font-family:Menlo,'DejaVu Sans Mono',consolas,'Courier New',monospace\"><span style=\"color: #000000; text-decoration-color: #000000; background-color: #ffff00\">madman</span> behind every <span style=\"color: #000000; text-decoration-color: #000000; background-color: #ffff00\">idiot</span> there <span style=\"color: #000000; text-decoration-color: #000000; background-color: #ffff00\">village</span> Try and have world in your heart and you can express it in words and \n",
       "daylight divides the piazza between <span style=\"color: #000000; text-decoration-color: #000000; background-color: #ffff00\">village</span> that laughs at you the <span style=\"color: #000000; text-decoration-color: #000000; background-color: #ffff00\">idiot</span> who passes and not even the night leaves \n",
       "you alone the others dream about themselves and you dream about them And yes even you would go and seek the words \n",
       "that are certain to make you heard to amaze for half an hour all you need is history <span style=\"color: #000000; text-decoration-color: #000000; background-color: #ffff00\">book</span> and tried to learn the \n",
       "<span style=\"color: #000000; text-decoration-color: #000000; background-color: #ffff00\">encyclopedia</span> by heart and after mackerel <span style=\"color: #000000; text-decoration-color: #000000; background-color: #ffff00\">mackintosh</span> and <span style=\"color: #000000; text-decoration-color: #000000; background-color: #ffff00\">maculate</span> the others continued until reading mad And without\n",
       "knowing to whom owed my life gave it back in <span style=\"color: #000000; text-decoration-color: #000000; background-color: #ffff00\">mental</span> hospital here on the hill sleep unwillingly and yet now there \n",
       "light in my thoughts here in the semi <span style=\"color: #000000; text-decoration-color: #000000; background-color: #ffff00\">darkness</span> now invent words but miss light the light of the sun My bones still \n",
       "give to life they still give it flowery grass But life has remained in the mute voices of those who lost the <span style=\"color: #000000; text-decoration-color: #000000; background-color: #ffff00\">idiot</span> \n",
       "and who cry for him on the hill of those who still whisper with the same irony pitiful death snatched him from \n",
       "<span style=\"color: #000000; text-decoration-color: #000000; background-color: #ffff00\">madness</span>\n",
       "</pre>\n"
      ],
      "text/plain": [
       "\u001b[30;48;2;255;255;0mmadman\u001b[0m behind every \u001b[30;48;2;255;255;0midiot\u001b[0m there \u001b[30;48;2;255;255;0mvillage\u001b[0m Try and have world in your heart and you can express it in words and \n",
       "daylight divides the piazza between \u001b[30;48;2;255;255;0mvillage\u001b[0m that laughs at you the \u001b[30;48;2;255;255;0midiot\u001b[0m who passes and not even the night leaves \n",
       "you alone the others dream about themselves and you dream about them And yes even you would go and seek the words \n",
       "that are certain to make you heard to amaze for half an hour all you need is history \u001b[30;48;2;255;255;0mbook\u001b[0m and tried to learn the \n",
       "\u001b[30;48;2;255;255;0mencyclopedia\u001b[0m by heart and after mackerel \u001b[30;48;2;255;255;0mmackintosh\u001b[0m and \u001b[30;48;2;255;255;0mmaculate\u001b[0m the others continued until reading mad And without\n",
       "knowing to whom owed my life gave it back in \u001b[30;48;2;255;255;0mmental\u001b[0m hospital here on the hill sleep unwillingly and yet now there \n",
       "light in my thoughts here in the semi \u001b[30;48;2;255;255;0mdarkness\u001b[0m now invent words but miss light the light of the sun My bones still \n",
       "give to life they still give it flowery grass But life has remained in the mute voices of those who lost the \u001b[30;48;2;255;255;0midiot\u001b[0m \n",
       "and who cry for him on the hill of those who still whisper with the same irony pitiful death snatched him from \n",
       "\u001b[30;48;2;255;255;0mmadness\u001b[0m\n"
      ]
     },
     "metadata": {},
     "output_type": "display_data"
    },
    {
     "name": "stdout",
     "output_type": "stream",
     "text": [
      "['madman', 'madness', 'encyclopedia', 'village', 'mackintosh', 'mental', 'darkness', 'idiot', 'maculate', 'book']\n"
     ]
    }
   ],
   "source": [
    "keywords_2a = kw_model.extract_keywords(poems_and_songs[3], \n",
    "\n",
    "                                     keyphrase_ngram_range=(1,1), \n",
    "\n",
    "                                     stop_words='english', \n",
    "\n",
    "                                     highlight=True,\n",
    "\n",
    "                                     top_n=10)\n",
    "\n",
    "print( list(dict(keywords_2a).keys()))"
   ]
  },
  {
   "cell_type": "markdown",
   "id": "08f2f155-8efd-47be-8e51-00d463aabe02",
   "metadata": {},
   "source": [
    "<h4 style=\"color:red\">2b - Frank Drummer</h4>"
   ]
  },
  {
   "cell_type": "code",
   "execution_count": 66,
   "id": "5e8612e9-57da-4aa3-a0a0-625d0f0bffd8",
   "metadata": {},
   "outputs": [
    {
     "data": {
      "text/html": [
       "<pre style=\"white-space:pre;overflow-x:auto;line-height:normal;font-family:Menlo,'DejaVu Sans Mono',consolas,'Courier New',monospace\"><span style=\"color: #000000; text-decoration-color: #000000; background-color: #ffff00\">Frank</span> <span style=\"color: #000000; text-decoration-color: #000000; background-color: #ffff00\">Drummer</span> Out of <span style=\"color: #000000; text-decoration-color: #000000; background-color: #ffff00\">cell</span> into this darkened <span style=\"color: #000000; text-decoration-color: #000000; background-color: #ffff00\">space</span> The <span style=\"color: #000000; text-decoration-color: #000000; background-color: #ffff00\">end</span> at twenty five My tongue could not speak what stirred \n",
       "within me And the village thought me <span style=\"color: #000000; text-decoration-color: #000000; background-color: #ffff00\">fool</span> Yet at the start there was clear vision high and urgent <span style=\"color: #000000; text-decoration-color: #000000; background-color: #ffff00\">purpose</span> in my \n",
       "soul Which drove me on trying to <span style=\"color: #000000; text-decoration-color: #000000; background-color: #ffff00\">memorize</span> The <span style=\"color: #000000; text-decoration-color: #000000; background-color: #ffff00\">Encyclopedia</span> <span style=\"color: #000000; text-decoration-color: #000000; background-color: #ffff00\">Britannica</span>\n",
       "</pre>\n"
      ],
      "text/plain": [
       "\u001b[30;48;2;255;255;0mFrank\u001b[0m \u001b[30;48;2;255;255;0mDrummer\u001b[0m Out of \u001b[30;48;2;255;255;0mcell\u001b[0m into this darkened \u001b[30;48;2;255;255;0mspace\u001b[0m The \u001b[30;48;2;255;255;0mend\u001b[0m at twenty five My tongue could not speak what stirred \n",
       "within me And the village thought me \u001b[30;48;2;255;255;0mfool\u001b[0m Yet at the start there was clear vision high and urgent \u001b[30;48;2;255;255;0mpurpose\u001b[0m in my \n",
       "soul Which drove me on trying to \u001b[30;48;2;255;255;0mmemorize\u001b[0m The \u001b[30;48;2;255;255;0mEncyclopedia\u001b[0m \u001b[30;48;2;255;255;0mBritannica\u001b[0m\n"
      ]
     },
     "metadata": {},
     "output_type": "display_data"
    },
    {
     "name": "stdout",
     "output_type": "stream",
     "text": [
      "['drummer', 'frank', 'encyclopedia', 'britannica', 'end', 'memorize', 'purpose', 'cell', 'fool', 'space']\n"
     ]
    }
   ],
   "source": [
    "keywords_2b = kw_model.extract_keywords(poems_and_songs[2], \n",
    "\n",
    "                                     keyphrase_ngram_range=(1,1), \n",
    "\n",
    "                                     stop_words='english', \n",
    "\n",
    "                                     highlight=True,\n",
    "\n",
    "                                     top_n=10)\n",
    "\n",
    "print( list(dict(keywords_2b).keys()))"
   ]
  },
  {
   "cell_type": "markdown",
   "id": "5476a870-982e-4596-95ca-379225be7ea2",
   "metadata": {},
   "source": [
    "<h4 style=\"color:red\">3a - Un giudice</h4>"
   ]
  },
  {
   "cell_type": "code",
   "execution_count": 71,
   "id": "4daa8458-7021-4f51-b75b-39228df74543",
   "metadata": {},
   "outputs": [
    {
     "data": {
      "text/html": [
       "<pre style=\"white-space:pre;overflow-x:auto;line-height:normal;font-family:Menlo,'DejaVu Sans Mono',consolas,'Courier New',monospace\"><span style=\"color: #000000; text-decoration-color: #000000; background-color: #ffff00\">judge</span> What does it mean to be five foot <span style=\"color: #000000; text-decoration-color: #000000; background-color: #ffff00\">tall</span> it revealed in the eyes and the comments of people or the curiosity of\n",
       "an irreverent girl who approaches only on account of her impertinent doubt she wants to discover whether it true \n",
       "what they say about <span style=\"color: #000000; text-decoration-color: #000000; background-color: #ffff00\">dwarfs</span> that they re better endowed with the least apparent virtue which of all the virtues is \n",
       "the most indecent Years pass as do months and if you count them so do minutes it sad to find yourself an adult \n",
       "without having grown up backbiting insists it beats its tongue on drum until it says that <span style=\"color: #000000; text-decoration-color: #000000; background-color: #ffff00\">dwarf</span> is certainly skunk \n",
       "because his heart is too close to his arsehole It was in the sleepless nights watched over by the light of ill \n",
       "feeling that studied for my exams became an <span style=\"color: #000000; text-decoration-color: #000000; background-color: #ffff00\">attorney</span> to take the road that from the pews of cathedral led to the \n",
       "vestry then to the bench of <span style=\"color: #000000; text-decoration-color: #000000; background-color: #ffff00\">court</span> <span style=\"color: #000000; text-decoration-color: #000000; background-color: #ffff00\">judge</span> at last the <span style=\"color: #000000; text-decoration-color: #000000; background-color: #ffff00\">arbiter</span> on earth of good and bad And so my <span style=\"color: #000000; text-decoration-color: #000000; background-color: #ffff00\">height</span> no longer \n",
       "bestowed good humour on he who standing in the dock called me Your <span style=\"color: #000000; text-decoration-color: #000000; background-color: #ffff00\">Honour</span> and entrusting him to the <span style=\"color: #000000; text-decoration-color: #000000; background-color: #ffff00\">executioner</span> was\n",
       "entirely my pleasure before genuflecting in the hour of farewell not knowing at all the <span style=\"color: #000000; text-decoration-color: #000000; background-color: #ffff00\">height</span> of God\n",
       "</pre>\n"
      ],
      "text/plain": [
       "\u001b[30;48;2;255;255;0mjudge\u001b[0m What does it mean to be five foot \u001b[30;48;2;255;255;0mtall\u001b[0m it revealed in the eyes and the comments of people or the curiosity of\n",
       "an irreverent girl who approaches only on account of her impertinent doubt she wants to discover whether it true \n",
       "what they say about \u001b[30;48;2;255;255;0mdwarfs\u001b[0m that they re better endowed with the least apparent virtue which of all the virtues is \n",
       "the most indecent Years pass as do months and if you count them so do minutes it sad to find yourself an adult \n",
       "without having grown up backbiting insists it beats its tongue on drum until it says that \u001b[30;48;2;255;255;0mdwarf\u001b[0m is certainly skunk \n",
       "because his heart is too close to his arsehole It was in the sleepless nights watched over by the light of ill \n",
       "feeling that studied for my exams became an \u001b[30;48;2;255;255;0mattorney\u001b[0m to take the road that from the pews of cathedral led to the \n",
       "vestry then to the bench of \u001b[30;48;2;255;255;0mcourt\u001b[0m \u001b[30;48;2;255;255;0mjudge\u001b[0m at last the \u001b[30;48;2;255;255;0marbiter\u001b[0m on earth of good and bad And so my \u001b[30;48;2;255;255;0mheight\u001b[0m no longer \n",
       "bestowed good humour on he who standing in the dock called me Your \u001b[30;48;2;255;255;0mHonour\u001b[0m and entrusting him to the \u001b[30;48;2;255;255;0mexecutioner\u001b[0m was\n",
       "entirely my pleasure before genuflecting in the hour of farewell not knowing at all the \u001b[30;48;2;255;255;0mheight\u001b[0m of God\n"
      ]
     },
     "metadata": {},
     "output_type": "display_data"
    },
    {
     "name": "stdout",
     "output_type": "stream",
     "text": [
      "['judge', 'dwarf', 'court', 'dwarfs', 'height', 'tall', 'attorney', 'arbiter', 'honour', 'executioner']\n"
     ]
    }
   ],
   "source": [
    "keywords_3a = kw_model.extract_keywords(poems_and_songs[5], \n",
    "\n",
    "                                     keyphrase_ngram_range=(1,1), \n",
    "\n",
    "                                     stop_words='english', \n",
    "\n",
    "                                     highlight=True,\n",
    "\n",
    "                                     top_n=10)\n",
    "\n",
    "print( list(dict(keywords_3a).keys()))"
   ]
  },
  {
   "cell_type": "markdown",
   "id": "0480b3f8-122b-4132-a290-85b45dea3082",
   "metadata": {},
   "source": [
    "<h4 style=\"color:red\">3b - Judge Selah Lively</h4>"
   ]
  },
  {
   "cell_type": "code",
   "execution_count": 70,
   "id": "88421bc8-e2c1-4aac-9fb3-0b0792056ebd",
   "metadata": {},
   "outputs": [
    {
     "data": {
      "text/html": [
       "<pre style=\"white-space:pre;overflow-x:auto;line-height:normal;font-family:Menlo,'DejaVu Sans Mono',consolas,'Courier New',monospace\"><span style=\"color: #000000; text-decoration-color: #000000; background-color: #ffff00\">Judge</span> Selah <span style=\"color: #000000; text-decoration-color: #000000; background-color: #ffff00\">Lively</span> Suppose you stood just five feet two And had worked your way as grocery <span style=\"color: #000000; text-decoration-color: #000000; background-color: #ffff00\">clerk</span> Studying <span style=\"color: #000000; text-decoration-color: #000000; background-color: #ffff00\">law</span> by \n",
       "candle light Until you became an <span style=\"color: #000000; text-decoration-color: #000000; background-color: #ffff00\">attorney</span> at <span style=\"color: #000000; text-decoration-color: #000000; background-color: #ffff00\">law</span> And then suppose through your <span style=\"color: #000000; text-decoration-color: #000000; background-color: #ffff00\">diligence</span> And regular church \n",
       "attendance You became <span style=\"color: #000000; text-decoration-color: #000000; background-color: #ffff00\">attorney</span> for Thomas Rhodes Collecting notes and mortgages And representing all the widows In \n",
       "the <span style=\"color: #000000; text-decoration-color: #000000; background-color: #ffff00\">Probate</span> <span style=\"color: #000000; text-decoration-color: #000000; background-color: #ffff00\">Court</span> And through it all They jeered at your size and laughed at your clothes And your polished boots \n",
       "And then suppose You became the County <span style=\"color: #000000; text-decoration-color: #000000; background-color: #ffff00\">Judge</span> And <span style=\"color: #000000; text-decoration-color: #000000; background-color: #ffff00\">Jefferson</span> Howard and Kinsey Keene And Harmon Whitney and all the \n",
       "giants Who had sneered at you were forced to stand Before the bar and say Your <span style=\"color: #000000; text-decoration-color: #000000; background-color: #ffff00\">Honor</span> Well don you think it was \n",
       "natural That made it hard for them\n",
       "</pre>\n"
      ],
      "text/plain": [
       "\u001b[30;48;2;255;255;0mJudge\u001b[0m Selah \u001b[30;48;2;255;255;0mLively\u001b[0m Suppose you stood just five feet two And had worked your way as grocery \u001b[30;48;2;255;255;0mclerk\u001b[0m Studying \u001b[30;48;2;255;255;0mlaw\u001b[0m by \n",
       "candle light Until you became an \u001b[30;48;2;255;255;0mattorney\u001b[0m at \u001b[30;48;2;255;255;0mlaw\u001b[0m And then suppose through your \u001b[30;48;2;255;255;0mdiligence\u001b[0m And regular church \n",
       "attendance You became \u001b[30;48;2;255;255;0mattorney\u001b[0m for Thomas Rhodes Collecting notes and mortgages And representing all the widows In \n",
       "the \u001b[30;48;2;255;255;0mProbate\u001b[0m \u001b[30;48;2;255;255;0mCourt\u001b[0m And through it all They jeered at your size and laughed at your clothes And your polished boots \n",
       "And then suppose You became the County \u001b[30;48;2;255;255;0mJudge\u001b[0m And \u001b[30;48;2;255;255;0mJefferson\u001b[0m Howard and Kinsey Keene And Harmon Whitney and all the \n",
       "giants Who had sneered at you were forced to stand Before the bar and say Your \u001b[30;48;2;255;255;0mHonor\u001b[0m Well don you think it was \n",
       "natural That made it hard for them\n"
      ]
     },
     "metadata": {},
     "output_type": "display_data"
    },
    {
     "name": "stdout",
     "output_type": "stream",
     "text": [
      "['judge', 'court', 'law', 'attorney', 'lively', 'honor', 'clerk', 'jefferson', 'probate', 'diligence']\n"
     ]
    }
   ],
   "source": [
    "keywords_3b = kw_model.extract_keywords(poems_and_songs[4], \n",
    "\n",
    "                                     keyphrase_ngram_range=(1,1), \n",
    "\n",
    "                                     stop_words='english', \n",
    "\n",
    "                                     highlight=True,\n",
    "\n",
    "                                     top_n=10)\n",
    "\n",
    "print( list(dict(keywords_3b).keys()))"
   ]
  },
  {
   "cell_type": "markdown",
   "id": "4f1ad320-d4d1-4bce-b6fb-788adce5e79e",
   "metadata": {},
   "source": [
    "<h4 style=\"color:red\">4a - Un blasfemo</h4>"
   ]
  },
  {
   "cell_type": "code",
   "execution_count": 73,
   "id": "a7f0f415-7d3a-42b0-a76b-a8328406f5ed",
   "metadata": {},
   "outputs": [
    {
     "data": {
      "text/html": [
       "<pre style=\"white-space:pre;overflow-x:auto;line-height:normal;font-family:Menlo,'DejaVu Sans Mono',consolas,'Courier New',monospace\"><span style=\"color: #000000; text-decoration-color: #000000; background-color: #ffff00\">blasphemer</span> behind every <span style=\"color: #000000; text-decoration-color: #000000; background-color: #ffff00\">blasphemer</span> there an <span style=\"color: #000000; text-decoration-color: #000000; background-color: #ffff00\">enchanted</span> <span style=\"color: #000000; text-decoration-color: #000000; background-color: #ffff00\">garden</span> never bowed again not even over <span style=\"color: #000000; text-decoration-color: #000000; background-color: #ffff00\">flower</span> nor did blush \n",
       "when stealing love from the moment that winter convinced me that <span style=\"color: #000000; text-decoration-color: #000000; background-color: #ffff00\">God</span> wouldn have blushed stealing mine They \n",
       "arrested me one day for women and wine they didn have any laws for <span style=\"color: #000000; text-decoration-color: #000000; background-color: #ffff00\">punishing</span> <span style=\"color: #000000; text-decoration-color: #000000; background-color: #ffff00\">blasphemer</span> it wasn <span style=\"color: #000000; text-decoration-color: #000000; background-color: #ffff00\">death</span> that killed \n",
       "me but two bigoted guards who sought my <span style=\"color: #000000; text-decoration-color: #000000; background-color: #ffff00\">soul</span> with the power of blows Because said that <span style=\"color: #000000; text-decoration-color: #000000; background-color: #ffff00\">God</span> deceived the first man \n",
       "he obliged him to travel through life as an idiot in the <span style=\"color: #000000; text-decoration-color: #000000; background-color: #ffff00\">enchanted</span> <span style=\"color: #000000; text-decoration-color: #000000; background-color: #ffff00\">garden</span> he forced him to dream to ignore the fact\n",
       "that in the world there good and bad When he saw that man stretched his fingers to steal the mystery of <span style=\"color: #000000; text-decoration-color: #000000; background-color: #ffff00\">forbidden</span> \n",
       "apple for fear that he no longer had any masters he stopped him with <span style=\"color: #000000; text-decoration-color: #000000; background-color: #ffff00\">death</span> and invented the seasons And if it was \n",
       "two guards who stopped my life it right here on earth the <span style=\"color: #000000; text-decoration-color: #000000; background-color: #ffff00\">forbidden</span> apple and not <span style=\"color: #000000; text-decoration-color: #000000; background-color: #ffff00\">God</span> but someone who invented him \n",
       "for us <span style=\"color: #000000; text-decoration-color: #000000; background-color: #ffff00\">obliges</span> us to dream in an <span style=\"color: #000000; text-decoration-color: #000000; background-color: #ffff00\">enchanted</span> <span style=\"color: #000000; text-decoration-color: #000000; background-color: #ffff00\">garden</span> <span style=\"color: #000000; text-decoration-color: #000000; background-color: #ffff00\">obliges</span> us to dream in an <span style=\"color: #000000; text-decoration-color: #000000; background-color: #ffff00\">enchanted</span> <span style=\"color: #000000; text-decoration-color: #000000; background-color: #ffff00\">garden</span>\n",
       "</pre>\n"
      ],
      "text/plain": [
       "\u001b[30;48;2;255;255;0mblasphemer\u001b[0m behind every \u001b[30;48;2;255;255;0mblasphemer\u001b[0m there an \u001b[30;48;2;255;255;0menchanted\u001b[0m \u001b[30;48;2;255;255;0mgarden\u001b[0m never bowed again not even over \u001b[30;48;2;255;255;0mflower\u001b[0m nor did blush \n",
       "when stealing love from the moment that winter convinced me that \u001b[30;48;2;255;255;0mGod\u001b[0m wouldn have blushed stealing mine They \n",
       "arrested me one day for women and wine they didn have any laws for \u001b[30;48;2;255;255;0mpunishing\u001b[0m \u001b[30;48;2;255;255;0mblasphemer\u001b[0m it wasn \u001b[30;48;2;255;255;0mdeath\u001b[0m that killed \n",
       "me but two bigoted guards who sought my \u001b[30;48;2;255;255;0msoul\u001b[0m with the power of blows Because said that \u001b[30;48;2;255;255;0mGod\u001b[0m deceived the first man \n",
       "he obliged him to travel through life as an idiot in the \u001b[30;48;2;255;255;0menchanted\u001b[0m \u001b[30;48;2;255;255;0mgarden\u001b[0m he forced him to dream to ignore the fact\n",
       "that in the world there good and bad When he saw that man stretched his fingers to steal the mystery of \u001b[30;48;2;255;255;0mforbidden\u001b[0m \n",
       "apple for fear that he no longer had any masters he stopped him with \u001b[30;48;2;255;255;0mdeath\u001b[0m and invented the seasons And if it was \n",
       "two guards who stopped my life it right here on earth the \u001b[30;48;2;255;255;0mforbidden\u001b[0m apple and not \u001b[30;48;2;255;255;0mGod\u001b[0m but someone who invented him \n",
       "for us \u001b[30;48;2;255;255;0mobliges\u001b[0m us to dream in an \u001b[30;48;2;255;255;0menchanted\u001b[0m \u001b[30;48;2;255;255;0mgarden\u001b[0m \u001b[30;48;2;255;255;0mobliges\u001b[0m us to dream in an \u001b[30;48;2;255;255;0menchanted\u001b[0m \u001b[30;48;2;255;255;0mgarden\u001b[0m\n"
      ]
     },
     "metadata": {},
     "output_type": "display_data"
    },
    {
     "name": "stdout",
     "output_type": "stream",
     "text": [
      "['blasphemer', 'enchanted', 'garden', 'god', 'forbidden', 'flower', 'punishing', 'soul', 'death', 'obliges']\n"
     ]
    }
   ],
   "source": [
    "keywords_4a = kw_model.extract_keywords(poems_and_songs[7], \n",
    "\n",
    "                                     keyphrase_ngram_range=(1,1), \n",
    "\n",
    "                                     stop_words='english', \n",
    "\n",
    "                                     highlight=True,\n",
    "\n",
    "                                     top_n=10)\n",
    "\n",
    "print( list(dict(keywords_4a).keys()))"
   ]
  },
  {
   "cell_type": "markdown",
   "id": "8adaae25-e0e8-4f2c-9bd1-a4508e024fdf",
   "metadata": {},
   "source": [
    "<h4 style=\"color:red\">4b - Wendell P. Bloyd</h4>"
   ]
  },
  {
   "cell_type": "code",
   "execution_count": 72,
   "id": "cc706360-8395-49e2-a0d0-eb236711a01e",
   "metadata": {},
   "outputs": [
    {
     "data": {
      "text/html": [
       "<pre style=\"white-space:pre;overflow-x:auto;line-height:normal;font-family:Menlo,'DejaVu Sans Mono',consolas,'Courier New',monospace\">Wendell Bloyd They first charged me with disorderly conduct There being no statute on <span style=\"color: #000000; text-decoration-color: #000000; background-color: #ffff00\">blasphemy</span> Later they locked \n",
       "me up as insane Where was beaten to <span style=\"color: #000000; text-decoration-color: #000000; background-color: #ffff00\">death</span> by <span style=\"color: #000000; text-decoration-color: #000000; background-color: #ffff00\">Catholic</span> guard My offense was this said <span style=\"color: #000000; text-decoration-color: #000000; background-color: #ffff00\">God</span> lied to <span style=\"color: #000000; text-decoration-color: #000000; background-color: #ffff00\">Adam</span> and destined \n",
       "him To lead the life of fool Ignorant that there is <span style=\"color: #000000; text-decoration-color: #000000; background-color: #ffff00\">evil</span> in the world as well as good And when <span style=\"color: #000000; text-decoration-color: #000000; background-color: #ffff00\">Adam</span> outwitted <span style=\"color: #000000; text-decoration-color: #000000; background-color: #ffff00\">God</span> \n",
       "by eating the apple And saw through the lie <span style=\"color: #000000; text-decoration-color: #000000; background-color: #ffff00\">God</span> drove him out of <span style=\"color: #000000; text-decoration-color: #000000; background-color: #ffff00\">Eden</span> to keep him from taking The fruit of immortal\n",
       "life For Christ sake you sensible people Here what <span style=\"color: #000000; text-decoration-color: #000000; background-color: #ffff00\">God</span> Himself said about it in the book of <span style=\"color: #000000; text-decoration-color: #000000; background-color: #ffff00\">Genesis</span> And the Lord \n",
       "<span style=\"color: #000000; text-decoration-color: #000000; background-color: #ffff00\">God</span> said behold the man is become one of us little envy you see To know good and <span style=\"color: #000000; text-decoration-color: #000000; background-color: #ffff00\">evil</span> the all is good lie exposed \n",
       "And now lest he put forth his hand and take Also of the three of life and eat and live forever Therefore the Lord \n",
       "<span style=\"color: #000000; text-decoration-color: #000000; background-color: #ffff00\">God</span> sent Him forth from the garden of <span style=\"color: #000000; text-decoration-color: #000000; background-color: #ffff00\">Eden</span> The reason believe <span style=\"color: #000000; text-decoration-color: #000000; background-color: #ffff00\">God</span> <span style=\"color: #000000; text-decoration-color: #000000; background-color: #ffff00\">crucified</span> His Own Son To get out of the <span style=\"color: #000000; text-decoration-color: #000000; background-color: #ffff00\">wretched</span> \n",
       "tangle is because it sounds just like Him\n",
       "</pre>\n"
      ],
      "text/plain": [
       "Wendell Bloyd They first charged me with disorderly conduct There being no statute on \u001b[30;48;2;255;255;0mblasphemy\u001b[0m Later they locked \n",
       "me up as insane Where was beaten to \u001b[30;48;2;255;255;0mdeath\u001b[0m by \u001b[30;48;2;255;255;0mCatholic\u001b[0m guard My offense was this said \u001b[30;48;2;255;255;0mGod\u001b[0m lied to \u001b[30;48;2;255;255;0mAdam\u001b[0m and destined \n",
       "him To lead the life of fool Ignorant that there is \u001b[30;48;2;255;255;0mevil\u001b[0m in the world as well as good And when \u001b[30;48;2;255;255;0mAdam\u001b[0m outwitted \u001b[30;48;2;255;255;0mGod\u001b[0m \n",
       "by eating the apple And saw through the lie \u001b[30;48;2;255;255;0mGod\u001b[0m drove him out of \u001b[30;48;2;255;255;0mEden\u001b[0m to keep him from taking The fruit of immortal\n",
       "life For Christ sake you sensible people Here what \u001b[30;48;2;255;255;0mGod\u001b[0m Himself said about it in the book of \u001b[30;48;2;255;255;0mGenesis\u001b[0m And the Lord \n",
       "\u001b[30;48;2;255;255;0mGod\u001b[0m said behold the man is become one of us little envy you see To know good and \u001b[30;48;2;255;255;0mevil\u001b[0m the all is good lie exposed \n",
       "And now lest he put forth his hand and take Also of the three of life and eat and live forever Therefore the Lord \n",
       "\u001b[30;48;2;255;255;0mGod\u001b[0m sent Him forth from the garden of \u001b[30;48;2;255;255;0mEden\u001b[0m The reason believe \u001b[30;48;2;255;255;0mGod\u001b[0m \u001b[30;48;2;255;255;0mcrucified\u001b[0m His Own Son To get out of the \u001b[30;48;2;255;255;0mwretched\u001b[0m \n",
       "tangle is because it sounds just like Him\n"
      ]
     },
     "metadata": {},
     "output_type": "display_data"
    },
    {
     "name": "stdout",
     "output_type": "stream",
     "text": [
      "['genesis', 'catholic', 'god', 'adam', 'crucified', 'blasphemy', 'evil', 'wretched', 'death', 'eden']\n"
     ]
    }
   ],
   "source": [
    "keywords_4b = kw_model.extract_keywords(poems_and_songs[6], \n",
    "\n",
    "                                     keyphrase_ngram_range=(1,1), \n",
    "\n",
    "                                     stop_words='english', \n",
    "\n",
    "                                     highlight=True,\n",
    "\n",
    "                                     top_n=10)\n",
    "\n",
    "print( list(dict(keywords_4b).keys()))"
   ]
  },
  {
   "cell_type": "markdown",
   "id": "0802a3d6-00d2-4ec6-abed-fdce41bd7954",
   "metadata": {},
   "source": [
    "<h4 style=\"color:red\">5a - Un malato di cuore</h4>"
   ]
  },
  {
   "cell_type": "code",
   "execution_count": 11,
   "id": "fe11e103-3c32-48b1-b658-7d265cea31d9",
   "metadata": {},
   "outputs": [
    {
     "data": {
      "text/html": [
       "<pre style=\"white-space:pre;overflow-x:auto;line-height:normal;font-family:Menlo,'DejaVu Sans Mono',consolas,'Courier New',monospace\"><span style=\"color: #000000; text-decoration-color: #000000; background-color: #ffff00\">heart</span> <span style=\"color: #000000; text-decoration-color: #000000; background-color: #ffff00\">patient</span> began to dream with them then the <span style=\"color: #000000; text-decoration-color: #000000; background-color: #ffff00\">soul</span> suddenly flew away As boy spying the kids playing at the \n",
       "foolish <span style=\"color: #000000; text-decoration-color: #000000; background-color: #ffff00\">rhythm</span> of your sick <span style=\"color: #000000; text-decoration-color: #000000; background-color: #ffff00\">heart</span> and you <span style=\"color: #000000; text-decoration-color: #000000; background-color: #ffff00\">feel</span> the urge to go out and try what you miss to run on the lawn and you \n",
       "keep your urge for you and linger thinking how the hell do they regain their <span style=\"color: #000000; text-decoration-color: #000000; background-color: #ffff00\">breath</span> As man <span style=\"color: #000000; text-decoration-color: #000000; background-color: #ffff00\">feeling</span> the wasted time \n",
       "spent letting your eyes <span style=\"color: #000000; text-decoration-color: #000000; background-color: #ffff00\">narrating</span> the life to you and never being able to drink from the cup in one gulp but in \n",
       "small intermittent sips and never being able to drink from the cup in one gulp but in small intermittent sips Yet \n",
       "have donated smile and it still returns in every summer of its own when guided her or perhaps was guided to count \n",
       "her hair with sweaty hands don think asked promises to her eyes don think chose silence or voice when the <span style=\"color: #000000; text-decoration-color: #000000; background-color: #ffff00\">heart</span> \n",
       "stunned and now no don remember if it was too much shock or too much happiness and my <span style=\"color: #000000; text-decoration-color: #000000; background-color: #ffff00\">heart</span> went crazy and now no \n",
       "don remember from which horizon the light started to blur And in the mild magic of the grass between long <span style=\"color: #000000; text-decoration-color: #000000; background-color: #ffff00\">caresses</span> \n",
       "on the face her pearl colored thighs remained maybe an uncaught <span style=\"color: #000000; text-decoration-color: #000000; background-color: #ffff00\">flower</span> But that kissed her this yes remember with \n",
       "my <span style=\"color: #000000; text-decoration-color: #000000; background-color: #ffff00\">heart</span> on the lips but that kissed her by God yes remember and my <span style=\"color: #000000; text-decoration-color: #000000; background-color: #ffff00\">heart</span> remained on her lips And the <span style=\"color: #000000; text-decoration-color: #000000; background-color: #ffff00\">soul</span> \n",
       "suddenly flew away but would not dream with them no you can not dream with them\n",
       "</pre>\n"
      ],
      "text/plain": [
       "\u001b[30;48;2;255;255;0mheart\u001b[0m \u001b[30;48;2;255;255;0mpatient\u001b[0m began to dream with them then the \u001b[30;48;2;255;255;0msoul\u001b[0m suddenly flew away As boy spying the kids playing at the \n",
       "foolish \u001b[30;48;2;255;255;0mrhythm\u001b[0m of your sick \u001b[30;48;2;255;255;0mheart\u001b[0m and you \u001b[30;48;2;255;255;0mfeel\u001b[0m the urge to go out and try what you miss to run on the lawn and you \n",
       "keep your urge for you and linger thinking how the hell do they regain their \u001b[30;48;2;255;255;0mbreath\u001b[0m As man \u001b[30;48;2;255;255;0mfeeling\u001b[0m the wasted time \n",
       "spent letting your eyes \u001b[30;48;2;255;255;0mnarrating\u001b[0m the life to you and never being able to drink from the cup in one gulp but in \n",
       "small intermittent sips and never being able to drink from the cup in one gulp but in small intermittent sips Yet \n",
       "have donated smile and it still returns in every summer of its own when guided her or perhaps was guided to count \n",
       "her hair with sweaty hands don think asked promises to her eyes don think chose silence or voice when the \u001b[30;48;2;255;255;0mheart\u001b[0m \n",
       "stunned and now no don remember if it was too much shock or too much happiness and my \u001b[30;48;2;255;255;0mheart\u001b[0m went crazy and now no \n",
       "don remember from which horizon the light started to blur And in the mild magic of the grass between long \u001b[30;48;2;255;255;0mcaresses\u001b[0m \n",
       "on the face her pearl colored thighs remained maybe an uncaught \u001b[30;48;2;255;255;0mflower\u001b[0m But that kissed her this yes remember with \n",
       "my \u001b[30;48;2;255;255;0mheart\u001b[0m on the lips but that kissed her by God yes remember and my \u001b[30;48;2;255;255;0mheart\u001b[0m remained on her lips And the \u001b[30;48;2;255;255;0msoul\u001b[0m \n",
       "suddenly flew away but would not dream with them no you can not dream with them\n"
      ]
     },
     "metadata": {},
     "output_type": "display_data"
    },
    {
     "name": "stdout",
     "output_type": "stream",
     "text": [
      "['heart', 'soul', 'caresses', 'flower', 'feel', 'patient', 'narrating', 'breath', 'feeling', 'rhythm']\n"
     ]
    }
   ],
   "source": [
    "keywords_5a = kw_model.extract_keywords(poems_and_songs[9], \n",
    "\n",
    "                                     keyphrase_ngram_range=(1,1), \n",
    "\n",
    "                                     stop_words='english', \n",
    "\n",
    "                                     highlight=True,\n",
    "\n",
    "                                     top_n=10)\n",
    "\n",
    "print( list(dict(keywords_5a).keys()))"
   ]
  },
  {
   "cell_type": "markdown",
   "id": "1aeb07cc-3c1a-444c-a1c9-27ea4d4d0677",
   "metadata": {},
   "source": [
    "<h4 style=\"color:red\">5b - Francis Turner</h4>"
   ]
  },
  {
   "cell_type": "code",
   "execution_count": 74,
   "id": "10f25ead-e1f4-44a2-99c8-e14159bb6115",
   "metadata": {},
   "outputs": [
    {
     "data": {
      "text/html": [
       "<pre style=\"white-space:pre;overflow-x:auto;line-height:normal;font-family:Menlo,'DejaVu Sans Mono',consolas,'Courier New',monospace\"><span style=\"color: #000000; text-decoration-color: #000000; background-color: #ffff00\">Francis</span> <span style=\"color: #000000; text-decoration-color: #000000; background-color: #ffff00\">Turner</span> could not run or play In <span style=\"color: #000000; text-decoration-color: #000000; background-color: #ffff00\">boyhood</span> In <span style=\"color: #000000; text-decoration-color: #000000; background-color: #ffff00\">manhood</span> could only sip the cup Not drink For <span style=\"color: #000000; text-decoration-color: #000000; background-color: #ffff00\">scarlet</span> <span style=\"color: #000000; text-decoration-color: #000000; background-color: #ffff00\">fever</span> left \n",
       "my <span style=\"color: #000000; text-decoration-color: #000000; background-color: #ffff00\">heart</span> diseased Yet lie here Soothed by secret none but <span style=\"color: #000000; text-decoration-color: #000000; background-color: #ffff00\">Mary</span> knows There is <span style=\"color: #000000; text-decoration-color: #000000; background-color: #ffff00\">garden</span> of acacia Catalpa trees and \n",
       "arbors sweet with vines There on that afternoon in June By <span style=\"color: #000000; text-decoration-color: #000000; background-color: #ffff00\">Mary</span> side Kissing her with my <span style=\"color: #000000; text-decoration-color: #000000; background-color: #ffff00\">soul</span> upon my lips It \n",
       "suddenly took flight\n",
       "</pre>\n"
      ],
      "text/plain": [
       "\u001b[30;48;2;255;255;0mFrancis\u001b[0m \u001b[30;48;2;255;255;0mTurner\u001b[0m could not run or play In \u001b[30;48;2;255;255;0mboyhood\u001b[0m In \u001b[30;48;2;255;255;0mmanhood\u001b[0m could only sip the cup Not drink For \u001b[30;48;2;255;255;0mscarlet\u001b[0m \u001b[30;48;2;255;255;0mfever\u001b[0m left \n",
       "my \u001b[30;48;2;255;255;0mheart\u001b[0m diseased Yet lie here Soothed by secret none but \u001b[30;48;2;255;255;0mMary\u001b[0m knows There is \u001b[30;48;2;255;255;0mgarden\u001b[0m of acacia Catalpa trees and \n",
       "arbors sweet with vines There on that afternoon in June By \u001b[30;48;2;255;255;0mMary\u001b[0m side Kissing her with my \u001b[30;48;2;255;255;0msoul\u001b[0m upon my lips It \n",
       "suddenly took flight\n"
      ]
     },
     "metadata": {},
     "output_type": "display_data"
    },
    {
     "name": "stdout",
     "output_type": "stream",
     "text": [
      "['boyhood', 'turner', 'francis', 'mary', 'garden', 'fever', 'manhood', 'scarlet', 'soul', 'heart']\n"
     ]
    }
   ],
   "source": [
    "keywords_5b = kw_model.extract_keywords(poems_and_songs[8], \n",
    "\n",
    "                                     keyphrase_ngram_range=(1,1), \n",
    "\n",
    "                                     stop_words='english', \n",
    "\n",
    "                                     highlight=True,\n",
    "\n",
    "                                     top_n=10)\n",
    "\n",
    "print( list(dict(keywords_5b).keys()))"
   ]
  },
  {
   "cell_type": "markdown",
   "id": "8bcb0ad5-0ab4-41aa-afde-33ae1b026c10",
   "metadata": {},
   "source": [
    "<h4 style=\"color:red\">6a - Un dottore</h4>"
   ]
  },
  {
   "cell_type": "code",
   "execution_count": 77,
   "id": "73b136d8-7eb2-4176-ab60-35ee3e79c189",
   "metadata": {},
   "outputs": [
    {
     "data": {
      "text/html": [
       "<pre style=\"white-space:pre;overflow-x:auto;line-height:normal;font-family:Menlo,'DejaVu Sans Mono',consolas,'Courier New',monospace\"><span style=\"color: #000000; text-decoration-color: #000000; background-color: #ffff00\">Doctor</span> As <span style=\"color: #000000; text-decoration-color: #000000; background-color: #ffff00\">child</span> wanted to <span style=\"color: #000000; text-decoration-color: #000000; background-color: #ffff00\">cure</span> the <span style=\"color: #000000; text-decoration-color: #000000; background-color: #ffff00\">cherries</span> when they were red thought they were injured for me <span style=\"color: #000000; text-decoration-color: #000000; background-color: #ffff00\">health</span> had left \n",
       "them with the snow <span style=\"color: #000000; text-decoration-color: #000000; background-color: #ffff00\">flowers</span> they had lost dream it was dream but it wasn brief for this reason swore become <span style=\"color: #000000; text-decoration-color: #000000; background-color: #ffff00\">doctor</span> \n",
       "and not for God nor even for game so that the <span style=\"color: #000000; text-decoration-color: #000000; background-color: #ffff00\">cherries</span> could bloom again so that the <span style=\"color: #000000; text-decoration-color: #000000; background-color: #ffff00\">cherries</span> could bloom again And\n",
       "when at long last was <span style=\"color: #000000; text-decoration-color: #000000; background-color: #ffff00\">doctor</span> didn want to betray the <span style=\"color: #000000; text-decoration-color: #000000; background-color: #ffff00\">child</span> for the man and many came they were called people \n",
       "<span style=\"color: #000000; text-decoration-color: #000000; background-color: #ffff00\">cherries</span> that were ill in every season And colleagues who agreed the colleagues who were happy in reading in my \n",
       "heart my wish to love sent me their best clients with the <span style=\"color: #000000; text-decoration-color: #000000; background-color: #ffff00\">diagnosis</span> on their face and it was the same for everyone \n",
       "ill from hunger unable to pay And then understood was obliged to understand that being <span style=\"color: #000000; text-decoration-color: #000000; background-color: #ffff00\">doctor</span> is just trade that \n",
       "science isn something you can give to people if you don want to go down with the same <span style=\"color: #000000; text-decoration-color: #000000; background-color: #ffff00\">illness</span> if you don want the \n",
       "system to take you for hunger And the system surely will take you for hunger in your <span style=\"color: #000000; text-decoration-color: #000000; background-color: #ffff00\">children</span> in your wife who now \n",
       "despises you and so those snow <span style=\"color: #000000; text-decoration-color: #000000; background-color: #ffff00\">flowers</span> are closed in bottle the label said the elixir of youth And judge judge with\n",
       "the face of man sent me to shed sunsets in prison useless to me and to my fingers branded forever swindler and \n",
       "cheat <span style=\"color: #000000; text-decoration-color: #000000; background-color: #ffff00\">doctor</span> <span style=\"color: #000000; text-decoration-color: #000000; background-color: #ffff00\">professor</span> swindler cheat\n",
       "</pre>\n"
      ],
      "text/plain": [
       "\u001b[30;48;2;255;255;0mDoctor\u001b[0m As \u001b[30;48;2;255;255;0mchild\u001b[0m wanted to \u001b[30;48;2;255;255;0mcure\u001b[0m the \u001b[30;48;2;255;255;0mcherries\u001b[0m when they were red thought they were injured for me \u001b[30;48;2;255;255;0mhealth\u001b[0m had left \n",
       "them with the snow \u001b[30;48;2;255;255;0mflowers\u001b[0m they had lost dream it was dream but it wasn brief for this reason swore become \u001b[30;48;2;255;255;0mdoctor\u001b[0m \n",
       "and not for God nor even for game so that the \u001b[30;48;2;255;255;0mcherries\u001b[0m could bloom again so that the \u001b[30;48;2;255;255;0mcherries\u001b[0m could bloom again And\n",
       "when at long last was \u001b[30;48;2;255;255;0mdoctor\u001b[0m didn want to betray the \u001b[30;48;2;255;255;0mchild\u001b[0m for the man and many came they were called people \n",
       "\u001b[30;48;2;255;255;0mcherries\u001b[0m that were ill in every season And colleagues who agreed the colleagues who were happy in reading in my \n",
       "heart my wish to love sent me their best clients with the \u001b[30;48;2;255;255;0mdiagnosis\u001b[0m on their face and it was the same for everyone \n",
       "ill from hunger unable to pay And then understood was obliged to understand that being \u001b[30;48;2;255;255;0mdoctor\u001b[0m is just trade that \n",
       "science isn something you can give to people if you don want to go down with the same \u001b[30;48;2;255;255;0millness\u001b[0m if you don want the \n",
       "system to take you for hunger And the system surely will take you for hunger in your \u001b[30;48;2;255;255;0mchildren\u001b[0m in your wife who now \n",
       "despises you and so those snow \u001b[30;48;2;255;255;0mflowers\u001b[0m are closed in bottle the label said the elixir of youth And judge judge with\n",
       "the face of man sent me to shed sunsets in prison useless to me and to my fingers branded forever swindler and \n",
       "cheat \u001b[30;48;2;255;255;0mdoctor\u001b[0m \u001b[30;48;2;255;255;0mprofessor\u001b[0m swindler cheat\n"
      ]
     },
     "metadata": {},
     "output_type": "display_data"
    },
    {
     "name": "stdout",
     "output_type": "stream",
     "text": [
      "['doctor', 'flowers', 'cherries', 'illness', 'cure', 'diagnosis', 'professor', 'health', 'children', 'child']\n"
     ]
    }
   ],
   "source": [
    "keywords_6a = kw_model.extract_keywords(poems_and_songs[11], \n",
    "\n",
    "                                     keyphrase_ngram_range=(1,1), \n",
    "\n",
    "                                     stop_words='english', \n",
    "\n",
    "                                     highlight=True,\n",
    "\n",
    "                                     top_n=10)\n",
    "\n",
    "print( list(dict(keywords_6a).keys()))"
   ]
  },
  {
   "cell_type": "markdown",
   "id": "4c3f90d5-e0a6-4ef1-876f-2e7062297bd0",
   "metadata": {},
   "source": [
    "<h4 style=\"color:red\">6b - Doctor Siegfried Iseman</h4>"
   ]
  },
  {
   "cell_type": "code",
   "execution_count": 76,
   "id": "82f92b58-e4fe-4b7a-8362-9b3b9d26d03d",
   "metadata": {},
   "outputs": [
    {
     "data": {
      "text/html": [
       "<pre style=\"white-space:pre;overflow-x:auto;line-height:normal;font-family:Menlo,'DejaVu Sans Mono',consolas,'Courier New',monospace\"><span style=\"color: #000000; text-decoration-color: #000000; background-color: #ffff00\">Dr</span> <span style=\"color: #000000; text-decoration-color: #000000; background-color: #ffff00\">Siegfried</span> <span style=\"color: #000000; text-decoration-color: #000000; background-color: #ffff00\">Iseman</span> said when they handed me my <span style=\"color: #000000; text-decoration-color: #000000; background-color: #ffff00\">diploma</span> said to myself will be good And wise and brave and helpful \n",
       "to others said will carry the <span style=\"color: #000000; text-decoration-color: #000000; background-color: #ffff00\">Christian</span> creed Into the practice of <span style=\"color: #000000; text-decoration-color: #000000; background-color: #ffff00\">medicine</span> Somehow the world and the other <span style=\"color: #000000; text-decoration-color: #000000; background-color: #ffff00\">doctors</span>\n",
       "Know what in your heart as soon as you make This high souled resolution And the way of it is they starve you out \n",
       "And no one comes to you but the poor And you find too late that being <span style=\"color: #000000; text-decoration-color: #000000; background-color: #ffff00\">doctor</span> Is just way of making living And when \n",
       "you are poor and have to carry The <span style=\"color: #000000; text-decoration-color: #000000; background-color: #ffff00\">Christian</span> creed and wife and children All on your back it is too much That why \n",
       "made the Elixir of <span style=\"color: #000000; text-decoration-color: #000000; background-color: #ffff00\">Youth</span> Which landed me in the jail at Peoria Branded <span style=\"color: #000000; text-decoration-color: #000000; background-color: #ffff00\">swindler</span> and crook By the upright Federal \n",
       "Judge\n",
       "</pre>\n"
      ],
      "text/plain": [
       "\u001b[30;48;2;255;255;0mDr\u001b[0m \u001b[30;48;2;255;255;0mSiegfried\u001b[0m \u001b[30;48;2;255;255;0mIseman\u001b[0m said when they handed me my \u001b[30;48;2;255;255;0mdiploma\u001b[0m said to myself will be good And wise and brave and helpful \n",
       "to others said will carry the \u001b[30;48;2;255;255;0mChristian\u001b[0m creed Into the practice of \u001b[30;48;2;255;255;0mmedicine\u001b[0m Somehow the world and the other \u001b[30;48;2;255;255;0mdoctors\u001b[0m\n",
       "Know what in your heart as soon as you make This high souled resolution And the way of it is they starve you out \n",
       "And no one comes to you but the poor And you find too late that being \u001b[30;48;2;255;255;0mdoctor\u001b[0m Is just way of making living And when \n",
       "you are poor and have to carry The \u001b[30;48;2;255;255;0mChristian\u001b[0m creed and wife and children All on your back it is too much That why \n",
       "made the Elixir of \u001b[30;48;2;255;255;0mYouth\u001b[0m Which landed me in the jail at Peoria Branded \u001b[30;48;2;255;255;0mswindler\u001b[0m and crook By the upright Federal \n",
       "Judge\n"
      ]
     },
     "metadata": {},
     "output_type": "display_data"
    },
    {
     "name": "stdout",
     "output_type": "stream",
     "text": [
      "['doctor', 'dr', 'doctors', 'medicine', 'iseman', 'swindler', 'diploma', 'christian', 'youth', 'siegfried']\n"
     ]
    }
   ],
   "source": [
    "keywords_6b = kw_model.extract_keywords(poems_and_songs[10], \n",
    "\n",
    "                                     keyphrase_ngram_range=(1,1), \n",
    "\n",
    "                                     stop_words='english', \n",
    "\n",
    "                                     highlight=True,\n",
    "\n",
    "                                     top_n=10)\n",
    "\n",
    "print( list(dict(keywords_6b).keys()))"
   ]
  },
  {
   "cell_type": "markdown",
   "id": "dcb369fe-3cb6-4ebf-99b4-e7d110bbe05c",
   "metadata": {},
   "source": [
    "<h4 style=\"color:red\">7a - Un chimico</h4>"
   ]
  },
  {
   "cell_type": "code",
   "execution_count": 79,
   "id": "72ac773a-90dc-43b8-be9f-699ff121ca0c",
   "metadata": {},
   "outputs": [
    {
     "data": {
      "text/html": [
       "<pre style=\"white-space:pre;overflow-x:auto;line-height:normal;font-family:Menlo,'DejaVu Sans Mono',consolas,'Courier New',monospace\"><span style=\"color: #000000; text-decoration-color: #000000; background-color: #ffff00\">Chemist</span> Only <span style=\"color: #000000; text-decoration-color: #000000; background-color: #ffff00\">death</span> took me up the hill <span style=\"color: #000000; text-decoration-color: #000000; background-color: #ffff00\">corpse</span> among the many that give <span style=\"color: #000000; text-decoration-color: #000000; background-color: #ffff00\">phosphorous</span> to the air for bivouacs of fi \n",
       "res that say will of the wisp that leave no <span style=\"color: #000000; text-decoration-color: #000000; background-color: #ffff00\">ashes</span> that don melt the frost Only <span style=\"color: #000000; text-decoration-color: #000000; background-color: #ffff00\">death</span> took me up the hill As <span style=\"color: #000000; text-decoration-color: #000000; background-color: #ffff00\">chemist</span>\n",
       "one day had the power to marry the elements and make them react but never managed to understand how men could \n",
       "combine through love entrusting joy and pain to game Look at the smile look at the colour how they play on the face\n",
       "of those who seek love but the same smile the same colour where are they on the face of those who ve had love where\n",
       "are they on the face of those who ve had love It strange to leave without <span style=\"color: #000000; text-decoration-color: #000000; background-color: #ffff00\">suffering</span> without the face of woman you \n",
       "have to remember But maybe your <span style=\"color: #000000; text-decoration-color: #000000; background-color: #ffff00\">dying</span> is different you who leave yourselves to love who surrender to April What is \n",
       "there that different in your <span style=\"color: #000000; text-decoration-color: #000000; background-color: #ffff00\">dying</span> Spring doesn knock it enters self assured like smoke it penetrates every crack \n",
       "it has lips of meat hair of corn such fear such desire that it takes you by the hand Such fear such desire that it \n",
       "takes you far But look at <span style=\"color: #000000; text-decoration-color: #000000; background-color: #ffff00\">hydrogen</span> keeping silent in the sea look at <span style=\"color: #000000; text-decoration-color: #000000; background-color: #ffff00\">oxygen</span> sleeping silently at his side only law \n",
       "that can understand was able to marry them without making them explode only law that can understand was <span style=\"color: #000000; text-decoration-color: #000000; background-color: #ffff00\">chemist</span> and\n",
       "no didn want to marry didn know with whom and whom would have generated died in an experiment that went wrong just \n",
       "like the idiots who <span style=\"color: #000000; text-decoration-color: #000000; background-color: #ffff00\">die</span> of love And someone will say there better way\n",
       "</pre>\n"
      ],
      "text/plain": [
       "\u001b[30;48;2;255;255;0mChemist\u001b[0m Only \u001b[30;48;2;255;255;0mdeath\u001b[0m took me up the hill \u001b[30;48;2;255;255;0mcorpse\u001b[0m among the many that give \u001b[30;48;2;255;255;0mphosphorous\u001b[0m to the air for bivouacs of fi \n",
       "res that say will of the wisp that leave no \u001b[30;48;2;255;255;0mashes\u001b[0m that don melt the frost Only \u001b[30;48;2;255;255;0mdeath\u001b[0m took me up the hill As \u001b[30;48;2;255;255;0mchemist\u001b[0m\n",
       "one day had the power to marry the elements and make them react but never managed to understand how men could \n",
       "combine through love entrusting joy and pain to game Look at the smile look at the colour how they play on the face\n",
       "of those who seek love but the same smile the same colour where are they on the face of those who ve had love where\n",
       "are they on the face of those who ve had love It strange to leave without \u001b[30;48;2;255;255;0msuffering\u001b[0m without the face of woman you \n",
       "have to remember But maybe your \u001b[30;48;2;255;255;0mdying\u001b[0m is different you who leave yourselves to love who surrender to April What is \n",
       "there that different in your \u001b[30;48;2;255;255;0mdying\u001b[0m Spring doesn knock it enters self assured like smoke it penetrates every crack \n",
       "it has lips of meat hair of corn such fear such desire that it takes you by the hand Such fear such desire that it \n",
       "takes you far But look at \u001b[30;48;2;255;255;0mhydrogen\u001b[0m keeping silent in the sea look at \u001b[30;48;2;255;255;0moxygen\u001b[0m sleeping silently at his side only law \n",
       "that can understand was able to marry them without making them explode only law that can understand was \u001b[30;48;2;255;255;0mchemist\u001b[0m and\n",
       "no didn want to marry didn know with whom and whom would have generated died in an experiment that went wrong just \n",
       "like the idiots who \u001b[30;48;2;255;255;0mdie\u001b[0m of love And someone will say there better way\n"
      ]
     },
     "metadata": {},
     "output_type": "display_data"
    },
    {
     "name": "stdout",
     "output_type": "stream",
     "text": [
      "['chemist', 'death', 'oxygen', 'phosphorous', 'hydrogen', 'ashes', 'corpse', 'dying', 'die', 'suffering']\n"
     ]
    }
   ],
   "source": [
    "keywords_7a = kw_model.extract_keywords(poems_and_songs[13], \n",
    "\n",
    "                                     keyphrase_ngram_range=(1,1), \n",
    "\n",
    "                                     stop_words='english', \n",
    "\n",
    "                                     highlight=True,\n",
    "\n",
    "                                     top_n=10)\n",
    "\n",
    "print( list(dict(keywords_7a).keys()))"
   ]
  },
  {
   "cell_type": "markdown",
   "id": "d05c4c62-1ce7-4e47-bbb8-881d32b9a03c",
   "metadata": {},
   "source": [
    "<h4 style=\"color:red\">7b - Trainor the Druggist</h4>"
   ]
  },
  {
   "cell_type": "code",
   "execution_count": 78,
   "id": "827f7d82-60e4-4a96-9f7a-3cd515ee9c09",
   "metadata": {},
   "outputs": [
    {
     "data": {
      "text/html": [
       "<pre style=\"white-space:pre;overflow-x:auto;line-height:normal;font-family:Menlo,'DejaVu Sans Mono',consolas,'Courier New',monospace\"><span style=\"color: #000000; text-decoration-color: #000000; background-color: #ffff00\">Trainor</span> the <span style=\"color: #000000; text-decoration-color: #000000; background-color: #ffff00\">Druggist</span> Only the <span style=\"color: #000000; text-decoration-color: #000000; background-color: #ffff00\">chemist</span> can tell and not always the <span style=\"color: #000000; text-decoration-color: #000000; background-color: #ffff00\">chemist</span> What will result from <span style=\"color: #000000; text-decoration-color: #000000; background-color: #ffff00\">compounding</span> <span style=\"color: #000000; text-decoration-color: #000000; background-color: #ffff00\">Fluids</span> \n",
       "or solids And who can tell How men and women will interact On each other or what children will result There were \n",
       "Benjamin <span style=\"color: #000000; text-decoration-color: #000000; background-color: #ffff00\">Pantier</span> and his wife Good in themselves but evil toward each other He oxygen she <span style=\"color: #000000; text-decoration-color: #000000; background-color: #ffff00\">hydrogen</span> Their son \n",
       "devastating fire <span style=\"color: #000000; text-decoration-color: #000000; background-color: #ffff00\">Trainor</span> the <span style=\"color: #000000; text-decoration-color: #000000; background-color: #ffff00\">druggist</span> <span style=\"color: #000000; text-decoration-color: #000000; background-color: #ffff00\">mixer</span> of <span style=\"color: #000000; text-decoration-color: #000000; background-color: #ffff00\">chemicals</span> Killed while making an <span style=\"color: #000000; text-decoration-color: #000000; background-color: #ffff00\">experiment</span> Lived unwedded\n",
       "</pre>\n"
      ],
      "text/plain": [
       "\u001b[30;48;2;255;255;0mTrainor\u001b[0m the \u001b[30;48;2;255;255;0mDruggist\u001b[0m Only the \u001b[30;48;2;255;255;0mchemist\u001b[0m can tell and not always the \u001b[30;48;2;255;255;0mchemist\u001b[0m What will result from \u001b[30;48;2;255;255;0mcompounding\u001b[0m \u001b[30;48;2;255;255;0mFluids\u001b[0m \n",
       "or solids And who can tell How men and women will interact On each other or what children will result There were \n",
       "Benjamin \u001b[30;48;2;255;255;0mPantier\u001b[0m and his wife Good in themselves but evil toward each other He oxygen she \u001b[30;48;2;255;255;0mhydrogen\u001b[0m Their son \n",
       "devastating fire \u001b[30;48;2;255;255;0mTrainor\u001b[0m the \u001b[30;48;2;255;255;0mdruggist\u001b[0m \u001b[30;48;2;255;255;0mmixer\u001b[0m of \u001b[30;48;2;255;255;0mchemicals\u001b[0m Killed while making an \u001b[30;48;2;255;255;0mexperiment\u001b[0m Lived unwedded\n"
      ]
     },
     "metadata": {},
     "output_type": "display_data"
    },
    {
     "name": "stdout",
     "output_type": "stream",
     "text": [
      "['chemist', 'druggist', 'chemicals', 'trainor', 'compounding', 'hydrogen', 'experiment', 'mixer', 'pantier', 'fluids']\n"
     ]
    }
   ],
   "source": [
    "keywords_7b = kw_model.extract_keywords(poems_and_songs[12], \n",
    "\n",
    "                                     keyphrase_ngram_range=(1,1), \n",
    "\n",
    "                                     stop_words='english', \n",
    "\n",
    "                                     highlight=True,\n",
    "\n",
    "                                     top_n=10)\n",
    "\n",
    "print( list(dict(keywords_7b).keys()))"
   ]
  },
  {
   "cell_type": "markdown",
   "id": "5c7402ae-abfb-4763-82c8-1957b46b979b",
   "metadata": {},
   "source": [
    "<h4 style=\"color:red\">8a - Un ottico</h4>"
   ]
  },
  {
   "cell_type": "code",
   "execution_count": 81,
   "id": "b7b487bd-d373-4e10-aaf7-fda387966665",
   "metadata": {},
   "outputs": [
    {
     "data": {
      "text/html": [
       "<pre style=\"white-space:pre;overflow-x:auto;line-height:normal;font-family:Menlo,'DejaVu Sans Mono',consolas,'Courier New',monospace\">AN <span style=\"color: #000000; text-decoration-color: #000000; background-color: #ffff00\">Optician</span> Colour <span style=\"color: #000000; text-decoration-color: #000000; background-color: #ffff00\">blind</span> long <span style=\"color: #000000; text-decoration-color: #000000; background-color: #ffff00\">sighted</span> beggars of <span style=\"color: #000000; text-decoration-color: #000000; background-color: #ffff00\">sight</span> the merchant of <span style=\"color: #000000; text-decoration-color: #000000; background-color: #ffff00\">light</span> your <span style=\"color: #000000; text-decoration-color: #000000; background-color: #ffff00\">optician</span> now only wants special \n",
       "clients who don know what to do with normal <span style=\"color: #000000; text-decoration-color: #000000; background-color: #ffff00\">eyes</span> No longer an <span style=\"color: #000000; text-decoration-color: #000000; background-color: #ffff00\">optician</span> but <span style=\"color: #000000; text-decoration-color: #000000; background-color: #ffff00\">lens</span> dealer for improvising happy <span style=\"color: #000000; text-decoration-color: #000000; background-color: #ffff00\">eyes</span> \n",
       "because the <span style=\"color: #000000; text-decoration-color: #000000; background-color: #ffff00\">pupils</span> who are used to copying invent worlds on which they can watch Follow with me these dreaming <span style=\"color: #000000; text-decoration-color: #000000; background-color: #ffff00\">eyes</span>\n",
       "fleeing from the orbit and not wanting to return see that climb to steal the sun so as to have no more nights \n",
       "closed it in my <span style=\"color: #000000; text-decoration-color: #000000; background-color: #ffff00\">eyes</span> so as not to let it fall in nets of sunsets and who will be cold will be cold along my <span style=\"color: #000000; text-decoration-color: #000000; background-color: #ffff00\">glance</span> \n",
       "they ll need to warm up see the rivers inside my veins they seek they seek they seek they seek they seek their sea \n",
       "they break the banks the banks the banks the banks they fi nd skies skies skies skies to photograph Blood that runs\n",
       "without imagination brings tumours of melancholy see gendarmes graze women bent over the dew red the tongues from \n",
       "the pollen of flowers but where the queen bee Maybe she flown to dawn nests maybe she flown maybe she no longer \n",
       "flies see friends still on the road they aren in hurry they still steal happiness from sleep and bit of night from \n",
       "dawn and then the <span style=\"color: #000000; text-decoration-color: #000000; background-color: #ffff00\">light</span> <span style=\"color: #000000; text-decoration-color: #000000; background-color: #ffff00\">light</span> that transforms the world into toy We ll make <span style=\"color: #000000; text-decoration-color: #000000; background-color: #ffff00\">glasses</span> this way We ll make <span style=\"color: #000000; text-decoration-color: #000000; background-color: #ffff00\">glasses</span> \n",
       "this way\n",
       "</pre>\n"
      ],
      "text/plain": [
       "AN \u001b[30;48;2;255;255;0mOptician\u001b[0m Colour \u001b[30;48;2;255;255;0mblind\u001b[0m long \u001b[30;48;2;255;255;0msighted\u001b[0m beggars of \u001b[30;48;2;255;255;0msight\u001b[0m the merchant of \u001b[30;48;2;255;255;0mlight\u001b[0m your \u001b[30;48;2;255;255;0moptician\u001b[0m now only wants special \n",
       "clients who don know what to do with normal \u001b[30;48;2;255;255;0meyes\u001b[0m No longer an \u001b[30;48;2;255;255;0moptician\u001b[0m but \u001b[30;48;2;255;255;0mlens\u001b[0m dealer for improvising happy \u001b[30;48;2;255;255;0meyes\u001b[0m \n",
       "because the \u001b[30;48;2;255;255;0mpupils\u001b[0m who are used to copying invent worlds on which they can watch Follow with me these dreaming \u001b[30;48;2;255;255;0meyes\u001b[0m\n",
       "fleeing from the orbit and not wanting to return see that climb to steal the sun so as to have no more nights \n",
       "closed it in my \u001b[30;48;2;255;255;0meyes\u001b[0m so as not to let it fall in nets of sunsets and who will be cold will be cold along my \u001b[30;48;2;255;255;0mglance\u001b[0m \n",
       "they ll need to warm up see the rivers inside my veins they seek they seek they seek they seek they seek their sea \n",
       "they break the banks the banks the banks the banks they fi nd skies skies skies skies to photograph Blood that runs\n",
       "without imagination brings tumours of melancholy see gendarmes graze women bent over the dew red the tongues from \n",
       "the pollen of flowers but where the queen bee Maybe she flown to dawn nests maybe she flown maybe she no longer \n",
       "flies see friends still on the road they aren in hurry they still steal happiness from sleep and bit of night from \n",
       "dawn and then the \u001b[30;48;2;255;255;0mlight\u001b[0m \u001b[30;48;2;255;255;0mlight\u001b[0m that transforms the world into toy We ll make \u001b[30;48;2;255;255;0mglasses\u001b[0m this way We ll make \u001b[30;48;2;255;255;0mglasses\u001b[0m \n",
       "this way\n"
      ]
     },
     "metadata": {},
     "output_type": "display_data"
    },
    {
     "name": "stdout",
     "output_type": "stream",
     "text": [
      "['optician', 'glasses', 'sight', 'eyes', 'sighted', 'lens', 'pupils', 'light', 'blind', 'glance']\n"
     ]
    }
   ],
   "source": [
    "keywords_8a = kw_model.extract_keywords(poems_and_songs[15], \n",
    "\n",
    "                                     keyphrase_ngram_range=(1,1), \n",
    "\n",
    "                                     stop_words='english', \n",
    "\n",
    "                                     highlight=True,\n",
    "\n",
    "                                     top_n=10)\n",
    "\n",
    "print( list(dict(keywords_8a).keys()))"
   ]
  },
  {
   "cell_type": "markdown",
   "id": "2a0629ad-837f-483d-a12a-58ff429aca24",
   "metadata": {},
   "source": [
    "<h4 style=\"color:red\">8b - Dippold the Optician</h4>"
   ]
  },
  {
   "cell_type": "code",
   "execution_count": 80,
   "id": "22a080f8-b8ea-4d1e-a086-3451be9c1e73",
   "metadata": {},
   "outputs": [
    {
     "data": {
      "text/html": [
       "<pre style=\"white-space:pre;overflow-x:auto;line-height:normal;font-family:Menlo,'DejaVu Sans Mono',consolas,'Courier New',monospace\"><span style=\"color: #000000; text-decoration-color: #000000; background-color: #ffff00\">Dippold</span> the <span style=\"color: #000000; text-decoration-color: #000000; background-color: #ffff00\">Optician</span> What do you see now <span style=\"color: #000000; text-decoration-color: #000000; background-color: #ffff00\">Globes</span> of red yellow purple Just moment And now My father and mother and \n",
       "sisters Yes And now Knights at arms beautiful women kind faces Try this field of grain city Very good And now young\n",
       "woman with angels <span style=\"color: #000000; text-decoration-color: #000000; background-color: #ffff00\">bending</span> over her heavier <span style=\"color: #000000; text-decoration-color: #000000; background-color: #ffff00\">lens</span> And now Many women with bright <span style=\"color: #000000; text-decoration-color: #000000; background-color: #ffff00\">eyes</span> and open lips Try this Just \n",
       "<span style=\"color: #000000; text-decoration-color: #000000; background-color: #ffff00\">goblet</span> on table Oh see Try this <span style=\"color: #000000; text-decoration-color: #000000; background-color: #ffff00\">lens</span> Just an open space see nothing in particular Well now Pine trees lake summer \n",
       "sky That better And now book Read page for me can My <span style=\"color: #000000; text-decoration-color: #000000; background-color: #ffff00\">eyes</span> are carried beyond the page Try this <span style=\"color: #000000; text-decoration-color: #000000; background-color: #ffff00\">lens</span> <span style=\"color: #000000; text-decoration-color: #000000; background-color: #ffff00\">Depths</span> of air \n",
       "Excellent And now <span style=\"color: #000000; text-decoration-color: #000000; background-color: #ffff00\">Light</span> just <span style=\"color: #000000; text-decoration-color: #000000; background-color: #ffff00\">light</span> making everything below it toy world Very well we ll make the <span style=\"color: #000000; text-decoration-color: #000000; background-color: #ffff00\">glasses</span> \n",
       "accordingly\n",
       "</pre>\n"
      ],
      "text/plain": [
       "\u001b[30;48;2;255;255;0mDippold\u001b[0m the \u001b[30;48;2;255;255;0mOptician\u001b[0m What do you see now \u001b[30;48;2;255;255;0mGlobes\u001b[0m of red yellow purple Just moment And now My father and mother and \n",
       "sisters Yes And now Knights at arms beautiful women kind faces Try this field of grain city Very good And now young\n",
       "woman with angels \u001b[30;48;2;255;255;0mbending\u001b[0m over her heavier \u001b[30;48;2;255;255;0mlens\u001b[0m And now Many women with bright \u001b[30;48;2;255;255;0meyes\u001b[0m and open lips Try this Just \n",
       "\u001b[30;48;2;255;255;0mgoblet\u001b[0m on table Oh see Try this \u001b[30;48;2;255;255;0mlens\u001b[0m Just an open space see nothing in particular Well now Pine trees lake summer \n",
       "sky That better And now book Read page for me can My \u001b[30;48;2;255;255;0meyes\u001b[0m are carried beyond the page Try this \u001b[30;48;2;255;255;0mlens\u001b[0m \u001b[30;48;2;255;255;0mDepths\u001b[0m of air \n",
       "Excellent And now \u001b[30;48;2;255;255;0mLight\u001b[0m just \u001b[30;48;2;255;255;0mlight\u001b[0m making everything below it toy world Very well we ll make the \u001b[30;48;2;255;255;0mglasses\u001b[0m \n",
       "accordingly\n"
      ]
     },
     "metadata": {},
     "output_type": "display_data"
    },
    {
     "name": "stdout",
     "output_type": "stream",
     "text": [
      "['dippold', 'optician', 'glasses', 'lens', 'eyes', 'globes', 'light', 'bending', 'depths', 'goblet']\n"
     ]
    }
   ],
   "source": [
    "keywords_8b = kw_model.extract_keywords(poems_and_songs[14], \n",
    "\n",
    "                                     keyphrase_ngram_range=(1,1), \n",
    "\n",
    "                                     stop_words='english', \n",
    "\n",
    "                                     highlight=True,\n",
    "\n",
    "                                     top_n=10)\n",
    "\n",
    "print( list(dict(keywords_8b).keys()))"
   ]
  },
  {
   "cell_type": "markdown",
   "id": "bf280f42-7c06-448d-af14-0c478b2e78e1",
   "metadata": {},
   "source": [
    "<h4 style=\"color:red\">9a - Il suonatore Jones</h4>"
   ]
  },
  {
   "cell_type": "code",
   "execution_count": 83,
   "id": "17171991-ac71-4eca-9caa-22996a4f185a",
   "metadata": {},
   "outputs": [
    {
     "data": {
      "text/html": [
       "<pre style=\"white-space:pre;overflow-x:auto;line-height:normal;font-family:Menlo,'DejaVu Sans Mono',consolas,'Courier New',monospace\"><span style=\"color: #000000; text-decoration-color: #000000; background-color: #ffff00\">Jones</span> the <span style=\"color: #000000; text-decoration-color: #000000; background-color: #ffff00\">player</span> In whirlpool of <span style=\"color: #000000; text-decoration-color: #000000; background-color: #ffff00\">dust</span> the others saw <span style=\"color: #000000; text-decoration-color: #000000; background-color: #ffff00\">drought</span> it reminded me of Jenny skirt in dance many years ago \n",
       "felt my earth vibrate with <span style=\"color: #000000; text-decoration-color: #000000; background-color: #ffff00\">sounds</span> it was my heart and so why till it again how to think it better Liberty have seen\n",
       "it sleeping in the tilled fields from heaven and money from heaven and love protected by barbed wire Liberty have \n",
       "seen it wake up every time have <span style=\"color: #000000; text-decoration-color: #000000; background-color: #ffff00\">played</span> for rustle of girls at dance for drunk companion And then if people know and\n",
       "people know you can <span style=\"color: #000000; text-decoration-color: #000000; background-color: #ffff00\">play</span> <span style=\"color: #000000; text-decoration-color: #000000; background-color: #ffff00\">playing</span> is up to you all life long and you like being <span style=\"color: #000000; text-decoration-color: #000000; background-color: #ffff00\">listened</span> to 299 It ended up with \n",
       "fields of weeds it ended up with broken <span style=\"color: #000000; text-decoration-color: #000000; background-color: #ffff00\">flute</span> and many memories and raucous laughter and not even one regret\n",
       "</pre>\n"
      ],
      "text/plain": [
       "\u001b[30;48;2;255;255;0mJones\u001b[0m the \u001b[30;48;2;255;255;0mplayer\u001b[0m In whirlpool of \u001b[30;48;2;255;255;0mdust\u001b[0m the others saw \u001b[30;48;2;255;255;0mdrought\u001b[0m it reminded me of Jenny skirt in dance many years ago \n",
       "felt my earth vibrate with \u001b[30;48;2;255;255;0msounds\u001b[0m it was my heart and so why till it again how to think it better Liberty have seen\n",
       "it sleeping in the tilled fields from heaven and money from heaven and love protected by barbed wire Liberty have \n",
       "seen it wake up every time have \u001b[30;48;2;255;255;0mplayed\u001b[0m for rustle of girls at dance for drunk companion And then if people know and\n",
       "people know you can \u001b[30;48;2;255;255;0mplay\u001b[0m \u001b[30;48;2;255;255;0mplaying\u001b[0m is up to you all life long and you like being \u001b[30;48;2;255;255;0mlistened\u001b[0m to 299 It ended up with \n",
       "fields of weeds it ended up with broken \u001b[30;48;2;255;255;0mflute\u001b[0m and many memories and raucous laughter and not even one regret\n"
      ]
     },
     "metadata": {},
     "output_type": "display_data"
    },
    {
     "name": "stdout",
     "output_type": "stream",
     "text": [
      "['jones', 'flute', 'play', 'playing', 'player', 'dust', 'played', 'drought', 'sounds', 'listened']\n"
     ]
    }
   ],
   "source": [
    "keywords_9a = kw_model.extract_keywords(poems_and_songs[17], \n",
    "\n",
    "                                     keyphrase_ngram_range=(1,1), \n",
    "\n",
    "                                     stop_words='english', \n",
    "\n",
    "                                     highlight=True,\n",
    "\n",
    "                                     top_n=10)\n",
    "\n",
    "print( list(dict(keywords_9a).keys()))"
   ]
  },
  {
   "cell_type": "markdown",
   "id": "a5f9c17e-06e9-46c6-ba8d-1232b5a8dfce",
   "metadata": {},
   "source": [
    "<h4 style=\"color:red\">9b - Jones the player</h4>"
   ]
  },
  {
   "cell_type": "code",
   "execution_count": 82,
   "id": "2b2fa820-a7ed-4732-9407-b7de66beef7f",
   "metadata": {},
   "outputs": [
    {
     "data": {
      "text/html": [
       "<pre style=\"white-space:pre;overflow-x:auto;line-height:normal;font-family:Menlo,'DejaVu Sans Mono',consolas,'Courier New',monospace\"><span style=\"color: #000000; text-decoration-color: #000000; background-color: #ffff00\">Fiddler</span> <span style=\"color: #000000; text-decoration-color: #000000; background-color: #ffff00\">Jones</span> The earth keeps some vibration going There in your heart and that is you And if the people find you \n",
       "can <span style=\"color: #000000; text-decoration-color: #000000; background-color: #ffff00\">fiddle</span> Why <span style=\"color: #000000; text-decoration-color: #000000; background-color: #ffff00\">fiddle</span> you must for all your life What do you see harvest of clover Or <span style=\"color: #000000; text-decoration-color: #000000; background-color: #ffff00\">meadow</span> to walk through to the\n",
       "river The wind in the corn you rub your hands For beeves hereafter ready for market Or else you hear the <span style=\"color: #000000; text-decoration-color: #000000; background-color: #ffff00\">rustle</span> of \n",
       "skirts Like the girls when dancing at Little Grove To <span style=\"color: #000000; text-decoration-color: #000000; background-color: #ffff00\">Cooney</span> <span style=\"color: #000000; text-decoration-color: #000000; background-color: #ffff00\">Potter</span> pillar of dust Or <span style=\"color: #000000; text-decoration-color: #000000; background-color: #ffff00\">whirling</span> leaves meant ruinous\n",
       "drouth They looked to me like Red Head Sammy Stepping it off to Toor Loor How could till my forty <span style=\"color: #000000; text-decoration-color: #000000; background-color: #ffff00\">acres</span> Not to \n",
       "speak of getting more With medley of horns <span style=\"color: #000000; text-decoration-color: #000000; background-color: #ffff00\">bassoons</span> and piccolos Stirred in my brain by crows and robins And the \n",
       "creak of wind mill only these And never started to plow in my life That some one did not stop in the road And take \n",
       "me away to dance or picnic ended up with forty <span style=\"color: #000000; text-decoration-color: #000000; background-color: #ffff00\">acres</span> ended up with broken <span style=\"color: #000000; text-decoration-color: #000000; background-color: #ffff00\">fiddle</span> And broken laugh and thousand \n",
       "memories And not single regret\n",
       "</pre>\n"
      ],
      "text/plain": [
       "\u001b[30;48;2;255;255;0mFiddler\u001b[0m \u001b[30;48;2;255;255;0mJones\u001b[0m The earth keeps some vibration going There in your heart and that is you And if the people find you \n",
       "can \u001b[30;48;2;255;255;0mfiddle\u001b[0m Why \u001b[30;48;2;255;255;0mfiddle\u001b[0m you must for all your life What do you see harvest of clover Or \u001b[30;48;2;255;255;0mmeadow\u001b[0m to walk through to the\n",
       "river The wind in the corn you rub your hands For beeves hereafter ready for market Or else you hear the \u001b[30;48;2;255;255;0mrustle\u001b[0m of \n",
       "skirts Like the girls when dancing at Little Grove To \u001b[30;48;2;255;255;0mCooney\u001b[0m \u001b[30;48;2;255;255;0mPotter\u001b[0m pillar of dust Or \u001b[30;48;2;255;255;0mwhirling\u001b[0m leaves meant ruinous\n",
       "drouth They looked to me like Red Head Sammy Stepping it off to Toor Loor How could till my forty \u001b[30;48;2;255;255;0macres\u001b[0m Not to \n",
       "speak of getting more With medley of horns \u001b[30;48;2;255;255;0mbassoons\u001b[0m and piccolos Stirred in my brain by crows and robins And the \n",
       "creak of wind mill only these And never started to plow in my life That some one did not stop in the road And take \n",
       "me away to dance or picnic ended up with forty \u001b[30;48;2;255;255;0macres\u001b[0m ended up with broken \u001b[30;48;2;255;255;0mfiddle\u001b[0m And broken laugh and thousand \n",
       "memories And not single regret\n"
      ]
     },
     "metadata": {},
     "output_type": "display_data"
    },
    {
     "name": "stdout",
     "output_type": "stream",
     "text": [
      "['fiddler', 'fiddle', 'jones', 'whirling', 'potter', 'bassoons', 'meadow', 'acres', 'rustle', 'cooney']\n"
     ]
    }
   ],
   "source": [
    "keywords_9b = kw_model.extract_keywords(poems_and_songs[16], \n",
    "\n",
    "                                     keyphrase_ngram_range=(1,1), \n",
    "\n",
    "                                     stop_words='english', \n",
    "\n",
    "                                     highlight=True,\n",
    "\n",
    "                                     top_n=10)\n",
    "\n",
    "print( list(dict(keywords_9b).keys()))"
   ]
  },
  {
   "cell_type": "markdown",
   "id": "44e92faf-c7da-4b4d-8e6c-36bf5bf51890",
   "metadata": {},
   "source": [
    "<h4 style=\"color:red;\">Find topics with the keywords obtained from KeyBERT</h4>"
   ]
  },
  {
   "cell_type": "markdown",
   "id": "1884ca6b-c7ae-44d0-8ca0-dc6ae9a1a563",
   "metadata": {},
   "source": [
    "<p>After the keywords' extraction with KeyBERT, we returned to BERTopic and to our model <code>topic_model</code> already used for the topics' detection and extraction with the entire Spoon River Anthology.</p>\n",
    "<p>In this case, we used as parameter of the method <code>find_topics</code> one single keyword and, in most cases, we considered as closest topic to our keyword the one judged as the most similar to the input word also by our model .</p>\n",
    "<p>It is important to highlight the fact that we decided to do not pass as input of the method <code>find_topic</code> all the proper names, because, in this project, we considered as \"keywords\" just the ones that remind to a particular conceptual topic.</p>"
   ]
  },
  {
   "cell_type": "markdown",
   "id": "91d156c9-25e8-4b58-b87b-a8950041a43f",
   "metadata": {},
   "source": [
    "<h4 style=\"color:red;\">1a - La collina</h4>\n",
    "<p>['hill', 'cemeteries', 'remains', 'edith', 'lizzie', 'heaven', 'dead', 'bert', 'home', 'kate']</p>"
   ]
  },
  {
   "cell_type": "code",
   "execution_count": 17,
   "id": "ccb9b4ac-6088-42ec-aa4c-d21781faadd6",
   "metadata": {},
   "outputs": [
    {
     "data": {
      "text/plain": [
       "[('hill', 0.09884535193548062),\n",
       " ('mountains', 0.08710678027999316),\n",
       " ('hills', 0.08186179262185232),\n",
       " ('mountain', 0.06533008520999486),\n",
       " ('meadow', 0.06171183780383318),\n",
       " ('golden', 0.05228674402441735),\n",
       " ('slopes', 0.05110467196999194),\n",
       " ('valleys', 0.05110467196999194),\n",
       " ('plow', 0.046678427519008824),\n",
       " ('lawn', 0.04355339013999658)]"
      ]
     },
     "execution_count": 17,
     "metadata": {},
     "output_type": "execute_result"
    }
   ],
   "source": [
    "similar_topics, similarity=topic_model.find_topics(\"hill\", top_n=5)\n",
    "topic_model.get_topic(similar_topics[0])"
   ]
  },
  {
   "cell_type": "code",
   "execution_count": 18,
   "id": "41880e86-be5b-4c2f-85ec-fabb8c67bff1",
   "metadata": {},
   "outputs": [
    {
     "data": {
      "text/plain": [
       "[('grave', 0.15679348639741028),\n",
       " ('dead', 0.13750869138150082),\n",
       " ('died', 0.06139162958986042),\n",
       " ('alive', 0.053911493696976155),\n",
       " ('cemetery', 0.0489415112516854),\n",
       " ('graven', 0.0489415112516854),\n",
       " ('funeral', 0.0489415112516854),\n",
       " ('buried', 0.04470262106317776),\n",
       " ('bring', 0.035940995797984106),\n",
       " ('shame', 0.035940995797984106)]"
      ]
     },
     "execution_count": 18,
     "metadata": {},
     "output_type": "execute_result"
    }
   ],
   "source": [
    "similar_topics, similarity=topic_model.find_topics(\"cemeteries\", top_n=5)\n",
    "topic_model.get_topic(similar_topics[0])"
   ]
  },
  {
   "cell_type": "code",
   "execution_count": 19,
   "id": "4410f483-3ba6-4d6e-94f8-c82c7b50a485",
   "metadata": {},
   "outputs": [
    {
     "data": {
      "text/plain": [
       "[('grave', 0.15679348639741028),\n",
       " ('dead', 0.13750869138150082),\n",
       " ('died', 0.06139162958986042),\n",
       " ('alive', 0.053911493696976155),\n",
       " ('cemetery', 0.0489415112516854),\n",
       " ('graven', 0.0489415112516854),\n",
       " ('funeral', 0.0489415112516854),\n",
       " ('buried', 0.04470262106317776),\n",
       " ('bring', 0.035940995797984106),\n",
       " ('shame', 0.035940995797984106)]"
      ]
     },
     "execution_count": 19,
     "metadata": {},
     "output_type": "execute_result"
    }
   ],
   "source": [
    "similar_topics, similarity=topic_model.find_topics(\"remains\", top_n=5)\n",
    "topic_model.get_topic(similar_topics[0])"
   ]
  },
  {
   "cell_type": "code",
   "execution_count": 24,
   "id": "c2d842ea-96c4-4c57-88fa-994ca05089cd",
   "metadata": {},
   "outputs": [
    {
     "data": {
      "text/plain": [
       "[('heaven', 0.20895250724394462),\n",
       " ('earth', 0.17017759722309309),\n",
       " ('kingdom', 0.10510884820452508),\n",
       " ('gold', 0.10180003938926556),\n",
       " ('sphere', 0.08448795380940598),\n",
       " ('worlds', 0.07446561761662537),\n",
       " ('bidding', 0.06166630417712361),\n",
       " ('realms', 0.06166630417712361),\n",
       " ('losers', 0.06166630417712361),\n",
       " ('silver', 0.05255442410226254)]"
      ]
     },
     "execution_count": 24,
     "metadata": {},
     "output_type": "execute_result"
    }
   ],
   "source": [
    "similar_topics, similarity=topic_model.find_topics(\"heaven\", top_n=5)\n",
    "topic_model.get_topic(similar_topics[0])"
   ]
  },
  {
   "cell_type": "code",
   "execution_count": 25,
   "id": "3a1da801-f5a6-4332-b222-22e4a2157471",
   "metadata": {},
   "outputs": [
    {
     "data": {
      "text/plain": [
       "[('grave', 0.15679348639741028),\n",
       " ('dead', 0.13750869138150082),\n",
       " ('died', 0.06139162958986042),\n",
       " ('alive', 0.053911493696976155),\n",
       " ('cemetery', 0.0489415112516854),\n",
       " ('graven', 0.0489415112516854),\n",
       " ('funeral', 0.0489415112516854),\n",
       " ('buried', 0.04470262106317776),\n",
       " ('bring', 0.035940995797984106),\n",
       " ('shame', 0.035940995797984106)]"
      ]
     },
     "execution_count": 25,
     "metadata": {},
     "output_type": "execute_result"
    }
   ],
   "source": [
    "similar_topics, similarity=topic_model.find_topics(\"dead\", top_n=5)\n",
    "topic_model.get_topic(similar_topics[0])"
   ]
  },
  {
   "cell_type": "code",
   "execution_count": 26,
   "id": "92ab0923-cf3e-48a9-870f-ba8a594cd82e",
   "metadata": {},
   "outputs": [
    {
     "data": {
      "text/plain": [
       "[('room', 0.1405844735136448),\n",
       " ('house', 0.13794252438617602),\n",
       " ('alone', 0.09708978757505192),\n",
       " ('school', 0.036018068898650314),\n",
       " ('dingy', 0.033273185707081085),\n",
       " ('little', 0.032375148777747303),\n",
       " ('houses', 0.030391350291153228),\n",
       " ('rooms', 0.030391350291153228),\n",
       " ('enter', 0.030391350291153228),\n",
       " ('hour', 0.030277215870497767)]"
      ]
     },
     "execution_count": 26,
     "metadata": {},
     "output_type": "execute_result"
    }
   ],
   "source": [
    "similar_topics, similarity=topic_model.find_topics(\"home\", top_n=5)\n",
    "topic_model.get_topic(similar_topics[0])"
   ]
  },
  {
   "cell_type": "markdown",
   "id": "80a2234d-dfc3-45d0-bc2a-91b8c9c4b8ce",
   "metadata": {
    "tags": []
   },
   "source": [
    "<h4 style=\"color:red;\">1b - The hill</h4>\n",
    "<p>['hill', 'bert', 'grove', 'edith', 'abe', 'charley', 'lincoln', 'lizzie', 'elmer', 'dead']</p>"
   ]
  },
  {
   "cell_type": "code",
   "execution_count": 287,
   "id": "ae408f9d-dbec-45d0-a9b8-f6818a7e7732",
   "metadata": {},
   "outputs": [
    {
     "data": {
      "text/plain": [
       "[('hill', 0.09884535193548062),\n",
       " ('mountains', 0.08710678027999316),\n",
       " ('hills', 0.08186179262185232),\n",
       " ('mountain', 0.06533008520999486),\n",
       " ('meadow', 0.06171183780383318),\n",
       " ('golden', 0.05228674402441735),\n",
       " ('slopes', 0.05110467196999194),\n",
       " ('valleys', 0.05110467196999194),\n",
       " ('plow', 0.046678427519008824),\n",
       " ('lawn', 0.04355339013999658)]"
      ]
     },
     "execution_count": 287,
     "metadata": {},
     "output_type": "execute_result"
    }
   ],
   "source": [
    "similar_topics, similarity=topic_model.find_topics(\"hill\", top_n=5)\n",
    "topic_model.get_topic(similar_topics[0])"
   ]
  },
  {
   "cell_type": "code",
   "execution_count": 16,
   "id": "b2bb95cb-2980-4b00-b6a0-1f845ef2d110",
   "metadata": {},
   "outputs": [
    {
     "data": {
      "text/plain": [
       "[('grave', 0.15679348639741028),\n",
       " ('dead', 0.13750869138150082),\n",
       " ('died', 0.06139162958986042),\n",
       " ('alive', 0.053911493696976155),\n",
       " ('cemetery', 0.0489415112516854),\n",
       " ('graven', 0.0489415112516854),\n",
       " ('funeral', 0.0489415112516854),\n",
       " ('buried', 0.04470262106317776),\n",
       " ('bring', 0.035940995797984106),\n",
       " ('shame', 0.035940995797984106)]"
      ]
     },
     "execution_count": 16,
     "metadata": {},
     "output_type": "execute_result"
    }
   ],
   "source": [
    "similar_topics, similarity=topic_model.find_topics(\"dead\", top_n=5)\n",
    "topic_model.get_topic(similar_topics[0])"
   ]
  },
  {
   "cell_type": "markdown",
   "id": "5779e611-7f98-4f7c-8b32-5d6ecfb3408d",
   "metadata": {},
   "source": [
    "<h4 style=\"color:red;\">2a - Un matto</h4>\n",
    "<p>['madman', 'madness', 'encyclopedia', 'village', 'mackintosh', 'mental', 'darkness', 'idiot', 'maculate', 'book']</p>"
   ]
  },
  {
   "cell_type": "code",
   "execution_count": 34,
   "id": "8176f0bc-1ec4-4f69-8519-6603fe1f1ce0",
   "metadata": {},
   "outputs": [
    {
     "data": {
      "text/plain": [
       "[('fever', 0.06433092929650201),\n",
       " ('lungs', 0.06433092929650201),\n",
       " ('breathe', 0.06433092929650201),\n",
       " ('worried', 0.06002408844167042),\n",
       " ('sick', 0.05849887036007819),\n",
       " ('lips', 0.056699708845146225),\n",
       " ('feverish', 0.04695403871354589),\n",
       " ('aching', 0.04695403871354589),\n",
       " ('kiss', 0.042887286197668004),\n",
       " ('sickness', 0.042887286197668004)]"
      ]
     },
     "execution_count": 34,
     "metadata": {},
     "output_type": "execute_result"
    }
   ],
   "source": [
    "similar_topics, similarity=topic_model.find_topics(\"madman\", top_n=5)\n",
    "topic_model.get_topic(similar_topics[0])"
   ]
  },
  {
   "cell_type": "code",
   "execution_count": 38,
   "id": "cae8fd2a-8595-416f-9cd4-2c9318f42f3e",
   "metadata": {},
   "outputs": [
    {
     "data": {
      "text/plain": [
       "[('world', 0.26816723488008276),\n",
       " ('learn', 0.11562432033210678),\n",
       " ('reform', 0.10560994226175746),\n",
       " ('nothing', 0.09794648777059904),\n",
       " ('peace', 0.08491060257273746),\n",
       " ('swallows', 0.06641507473802234),\n",
       " ('savers', 0.06641507473802234),\n",
       " ('reaped', 0.06641507473802234),\n",
       " ('pathways', 0.06641507473802234),\n",
       " ('miracle', 0.06641507473802234)]"
      ]
     },
     "execution_count": 38,
     "metadata": {},
     "output_type": "execute_result"
    }
   ],
   "source": [
    "similar_topics, similarity=topic_model.find_topics(\"madness\", top_n=5)\n",
    "topic_model.get_topic(similar_topics[0])"
   ]
  },
  {
   "cell_type": "code",
   "execution_count": 39,
   "id": "f76b9d85-3327-47f7-bf6a-c36456dd0d4d",
   "metadata": {},
   "outputs": [
    {
     "data": {
      "text/plain": [
       "[('write', 0.0932537483783199),\n",
       " ('read', 0.08752642616979708),\n",
       " ('letter', 0.07997783889252948),\n",
       " ('books', 0.07721131081461165),\n",
       " ('elected', 0.05512701828908658),\n",
       " ('legislature', 0.044311863886052086),\n",
       " ('letters', 0.044311863886052086),\n",
       " ('wrote', 0.042713303240251285),\n",
       " ('studied', 0.041345263716814934),\n",
       " ('newspapers', 0.041345263716814934)]"
      ]
     },
     "execution_count": 39,
     "metadata": {},
     "output_type": "execute_result"
    }
   ],
   "source": [
    "similar_topics, similarity=topic_model.find_topics(\"encyclopedia\", top_n=5)\n",
    "topic_model.get_topic(similar_topics[0])"
   ]
  },
  {
   "cell_type": "code",
   "execution_count": 40,
   "id": "2e803ad9-0f2b-4061-bd40-3c41499e133b",
   "metadata": {},
   "outputs": [
    {
     "data": {
      "text/plain": [
       "[('village', 0.3060900327012269),\n",
       " ('town', 0.06850890134457051),\n",
       " ('galilee', 0.047435618597787395),\n",
       " ('atheist', 0.047435618597787395),\n",
       " ('really', 0.03235521596040869),\n",
       " ('in', 0.028745276686860124),\n",
       " ('appearing', 0.027247210148932242),\n",
       " ('trustees', 0.027247210148932242),\n",
       " ('meetings', 0.027247210148932242),\n",
       " ('merriment', 0.027247210148932242)]"
      ]
     },
     "execution_count": 40,
     "metadata": {},
     "output_type": "execute_result"
    }
   ],
   "source": [
    "similar_topics, similarity=topic_model.find_topics(\"village\", top_n=5)\n",
    "topic_model.get_topic(similar_topics[0])"
   ]
  },
  {
   "cell_type": "code",
   "execution_count": 41,
   "id": "cf6b87f0-cfe1-455d-839b-3860678614e7",
   "metadata": {},
   "outputs": [
    {
     "data": {
      "text/plain": [
       "[('soul', 0.21204952130363175),\n",
       " ('souls', 0.09655057373443228),\n",
       " ('your', 0.042519229082855665),\n",
       " ('body', 0.02936539597767276),\n",
       " ('cured', 0.02842486880531027),\n",
       " ('snared', 0.02223544621771284),\n",
       " ('miles', 0.01632896203321874),\n",
       " ('beloved', 0.01632896203321874),\n",
       " ('truth', 0.016171739198973606),\n",
       " ('makes', 0.01468269798883638)]"
      ]
     },
     "execution_count": 41,
     "metadata": {},
     "output_type": "execute_result"
    }
   ],
   "source": [
    "similar_topics, similarity=topic_model.find_topics(\"mental\", top_n=5)\n",
    "topic_model.get_topic(similar_topics[0])"
   ]
  },
  {
   "cell_type": "code",
   "execution_count": 42,
   "id": "24e42241-5632-4895-95a1-39fe302fb14c",
   "metadata": {},
   "outputs": [
    {
     "data": {
      "text/plain": [
       "[('darkness', 0.3087658275372271),\n",
       " ('light', 0.15720620307085756),\n",
       " ('bellowing', 0.1280120512263727),\n",
       " ('spear', 0.08050312089457254),\n",
       " ('staggered', 0.08050312089457254),\n",
       " ('lantern', 0.08050312089457254),\n",
       " ('plate', 0.08050312089457254),\n",
       " ('fantastic', 0.08050312089457254),\n",
       " ('skipping', 0.08050312089457254),\n",
       " ('splinters', 0.08050312089457254)]"
      ]
     },
     "execution_count": 42,
     "metadata": {},
     "output_type": "execute_result"
    }
   ],
   "source": [
    "similar_topics, similarity=topic_model.find_topics(\"darkness\", top_n=5)\n",
    "topic_model.get_topic(similar_topics[0])"
   ]
  },
  {
   "cell_type": "code",
   "execution_count": 43,
   "id": "b0f81bf4-27e0-49fe-b939-86f9d1528ef7",
   "metadata": {},
   "outputs": [
    {
     "data": {
      "text/plain": [
       "[('could', 0.16381289258149084),\n",
       " ('nonsense', 0.15948182114773346),\n",
       " ('talk', 0.11711807251412061),\n",
       " ('slightest', 0.0916069996386515),\n",
       " ('sidle', 0.0916069996386515),\n",
       " ('margin', 0.0916069996386515),\n",
       " ('doubtful', 0.0916069996386515),\n",
       " ('deal', 0.0916069996386515),\n",
       " ('damn', 0.0916069996386515),\n",
       " ('ai', 0.0916069996386515)]"
      ]
     },
     "execution_count": 43,
     "metadata": {},
     "output_type": "execute_result"
    }
   ],
   "source": [
    "similar_topics, similarity=topic_model.find_topics(\"idiot\", top_n=5)\n",
    "topic_model.get_topic(similar_topics[0])"
   ]
  },
  {
   "cell_type": "code",
   "execution_count": 44,
   "id": "194b0728-709a-4218-871d-8cce28b3339f",
   "metadata": {},
   "outputs": [
    {
     "data": {
      "text/plain": [
       "[('write', 0.0932537483783199),\n",
       " ('read', 0.08752642616979708),\n",
       " ('letter', 0.07997783889252948),\n",
       " ('books', 0.07721131081461165),\n",
       " ('elected', 0.05512701828908658),\n",
       " ('legislature', 0.044311863886052086),\n",
       " ('letters', 0.044311863886052086),\n",
       " ('wrote', 0.042713303240251285),\n",
       " ('studied', 0.041345263716814934),\n",
       " ('newspapers', 0.041345263716814934)]"
      ]
     },
     "execution_count": 44,
     "metadata": {},
     "output_type": "execute_result"
    }
   ],
   "source": [
    "similar_topics, similarity=topic_model.find_topics(\"book\", top_n=5)\n",
    "topic_model.get_topic(similar_topics[0])"
   ]
  },
  {
   "cell_type": "markdown",
   "id": "9d1ad74c-cd55-4c6e-9d34-c3747d01e342",
   "metadata": {},
   "source": [
    "<p>The terms \"mackerel\", \"mackintosh\" and \"maculate\", of which the last two have been highlighted by KeyBERT as keywords of the song \"Un matto\", have been translated in this way from the italian \"maiale\", \"Majakovskij\", \"malfatto\" to keep the idea that the others read all the words in the encyclopedia till the word \"matto\", or \"madman\" in english, referred to the main character of the song.</br>\n",
    "For this reason we decided to do not consider them as important for highlighting the main concepts of the song.</p>"
   ]
  },
  {
   "cell_type": "markdown",
   "id": "73e2ec2e-eef6-4639-ac58-bf745def73a1",
   "metadata": {},
   "source": [
    "<h4 style=\"color:red;\">2b - Frank Drummer</h4>\n",
    "<p>['drummer', 'frank', 'encyclopedia', 'britannica', 'end', 'memorize', 'purpose', 'cell', 'fool', 'space']</p>"
   ]
  },
  {
   "cell_type": "code",
   "execution_count": 27,
   "id": "3df81463-8a19-430c-9627-9561afede243",
   "metadata": {},
   "outputs": [
    {
     "data": {
      "text/plain": [
       "[('write', 0.0932537483783199),\n",
       " ('read', 0.08752642616979708),\n",
       " ('letter', 0.07997783889252948),\n",
       " ('books', 0.07721131081461165),\n",
       " ('elected', 0.05512701828908658),\n",
       " ('legislature', 0.044311863886052086),\n",
       " ('letters', 0.044311863886052086),\n",
       " ('wrote', 0.042713303240251285),\n",
       " ('studied', 0.041345263716814934),\n",
       " ('newspapers', 0.041345263716814934)]"
      ]
     },
     "execution_count": 27,
     "metadata": {},
     "output_type": "execute_result"
    }
   ],
   "source": [
    "similar_topics, similarity=topic_model.find_topics(\"encyclopedia britannica\", top_n=5)\n",
    "topic_model.get_topic(similar_topics[0])"
   ]
  },
  {
   "cell_type": "code",
   "execution_count": 28,
   "id": "8ee7be1f-addb-469a-ac35-e7bde1fe81d8",
   "metadata": {},
   "outputs": [
    {
     "data": {
      "text/plain": [
       "[('away', 0.16863289697787118),\n",
       " ('ran', 0.13371917268434935),\n",
       " ('lost', 0.10743535178225573),\n",
       " ('begged', 0.08564764469044946),\n",
       " ('gone', 0.07600614105746963),\n",
       " ('year', 0.06051233313032653),\n",
       " ('dissolved', 0.049196351657794325),\n",
       " ('utterly', 0.049196351657794325),\n",
       " ('lark', 0.049196351657794325),\n",
       " ('completely', 0.049196351657794325)]"
      ]
     },
     "execution_count": 28,
     "metadata": {},
     "output_type": "execute_result"
    }
   ],
   "source": [
    "similar_topics, similarity=topic_model.find_topics(\"end\", top_n=5)\n",
    "topic_model.get_topic(similar_topics[0])"
   ]
  },
  {
   "cell_type": "code",
   "execution_count": 29,
   "id": "618d199f-3e35-43cc-9a51-985b96e48506",
   "metadata": {},
   "outputs": [
    {
     "data": {
      "text/plain": [
       "[('memory', 0.23764843556637327),\n",
       " ('memories', 0.18525949652233625),\n",
       " ('forget', 0.08409041478698674),\n",
       " ('memorize', 0.08409041478698674),\n",
       " ('page', 0.0768072307358236),\n",
       " ('stand', 0.07462421122006108),\n",
       " ('forgotten', 0.06446870200860477),\n",
       " ('remember', 0.05941210889159332),\n",
       " ('previous', 0.04830187253674352),\n",
       " ('imagine', 0.04830187253674352)]"
      ]
     },
     "execution_count": 29,
     "metadata": {},
     "output_type": "execute_result"
    }
   ],
   "source": [
    "similar_topics, similarity=topic_model.find_topics(\"memorize\", top_n=5)\n",
    "topic_model.get_topic(similar_topics[0])"
   ]
  },
  {
   "cell_type": "code",
   "execution_count": 30,
   "id": "0974b6cf-cd9b-499e-8ab3-43b956aae8d1",
   "metadata": {},
   "outputs": [
    {
     "data": {
      "text/plain": [
       "[('life', 0.17406188847976478),\n",
       " ('reasons', 0.08138318865204959),\n",
       " ('live', 0.07300128831798496),\n",
       " ('procreate', 0.050546150964855416),\n",
       " ('hungered', 0.050546150964855416),\n",
       " ('shelter', 0.050546150964855416),\n",
       " ('meaning', 0.04307739680513323),\n",
       " ('lead', 0.04307739680513323),\n",
       " ('food', 0.040691594326024795),\n",
       " ('means', 0.040691594326024795)]"
      ]
     },
     "execution_count": 30,
     "metadata": {},
     "output_type": "execute_result"
    }
   ],
   "source": [
    "similar_topics, similarity=topic_model.find_topics(\"purpose\", top_n=5)\n",
    "topic_model.get_topic(similar_topics[0])"
   ]
  },
  {
   "cell_type": "code",
   "execution_count": 31,
   "id": "95c9a0ad-df1c-4d5e-8145-93474a7bc853",
   "metadata": {},
   "outputs": [
    {
     "data": {
      "text/plain": [
       "[('secret', 0.3285619081922),\n",
       " ('soil', 0.2197425787042768),\n",
       " ('seed', 0.12019588510078857),\n",
       " ('air', 0.08853919798472229),\n",
       " ('draws', 0.07838936971668255),\n",
       " ('plant', 0.06680647131643543),\n",
       " ('knows', 0.05176273189284689),\n",
       " ('cried', 0.05176273189284689),\n",
       " ('mound', 0.04502716931391345),\n",
       " ('learning', 0.04502716931391345)]"
      ]
     },
     "execution_count": 31,
     "metadata": {},
     "output_type": "execute_result"
    }
   ],
   "source": [
    "similar_topics, similarity=topic_model.find_topics(\"cell\", top_n=5)\n",
    "topic_model.get_topic(similar_topics[0])"
   ]
  },
  {
   "cell_type": "code",
   "execution_count": 32,
   "id": "f46ece90-4473-45c2-96dc-4e7c932f57a3",
   "metadata": {},
   "outputs": [
    {
     "data": {
      "text/plain": [
       "[('hope', 0.17381267698398348),\n",
       " ('hopes', 0.12424699089618525),\n",
       " ('promise', 0.10950826120091967),\n",
       " ('regret', 0.09068574143694648),\n",
       " ('crutch', 0.09068574143694648),\n",
       " ('confessed', 0.09068574143694648),\n",
       " ('hobbling', 0.09068574143694648),\n",
       " ('rotted', 0.052090254696488106),\n",
       " ('sins', 0.052090254696488106),\n",
       " ('broods', 0.052090254696488106)]"
      ]
     },
     "execution_count": 32,
     "metadata": {},
     "output_type": "execute_result"
    }
   ],
   "source": [
    "similar_topics, similarity=topic_model.find_topics(\"fool\", top_n=5)\n",
    "topic_model.get_topic(similar_topics[0])"
   ]
  },
  {
   "cell_type": "code",
   "execution_count": 33,
   "id": "e0a76101-8890-46ed-ba4e-142ed5952cfd",
   "metadata": {},
   "outputs": [
    {
     "data": {
      "text/plain": [
       "[('heaven', 0.20895250724394462),\n",
       " ('earth', 0.17017759722309309),\n",
       " ('kingdom', 0.10510884820452508),\n",
       " ('gold', 0.10180003938926556),\n",
       " ('sphere', 0.08448795380940598),\n",
       " ('worlds', 0.07446561761662537),\n",
       " ('bidding', 0.06166630417712361),\n",
       " ('realms', 0.06166630417712361),\n",
       " ('losers', 0.06166630417712361),\n",
       " ('silver', 0.05255442410226254)]"
      ]
     },
     "execution_count": 33,
     "metadata": {},
     "output_type": "execute_result"
    }
   ],
   "source": [
    "similar_topics, similarity=topic_model.find_topics(\"space\", top_n=5)\n",
    "topic_model.get_topic(similar_topics[0])"
   ]
  },
  {
   "cell_type": "markdown",
   "id": "b91f0607-6d45-468f-8157-b3763b423980",
   "metadata": {},
   "source": [
    "<h4 style=\"color:red;\"> 3a - Un giudice</h4>\n",
    "<p>['judge', 'dwarfs', 'court', 'height', 'five foot tall', 'attorney', 'arbiter', 'honour', 'executioner']</p>"
   ]
  },
  {
   "cell_type": "code",
   "execution_count": 56,
   "id": "1b6877b7-764c-4d1e-a6b8-e7e70d389964",
   "metadata": {},
   "outputs": [
    {
     "data": {
      "text/plain": [
       "[('court', 0.15069767288365063),\n",
       " ('judge', 0.13676834171292493),\n",
       " ('county', 0.09151241063775606),\n",
       " ('house', 0.06691526266573843),\n",
       " ('somers', 0.05464324396384001),\n",
       " ('circuit', 0.05273019140695238),\n",
       " ('superintendent', 0.05273019140695238),\n",
       " ('state', 0.039547643555214285),\n",
       " ('attorney', 0.039547643555214285),\n",
       " ('board', 0.03557637401812638)]"
      ]
     },
     "execution_count": 56,
     "metadata": {},
     "output_type": "execute_result"
    }
   ],
   "source": [
    "similar_topics, similarity=topic_model.find_topics(\"judge\", top_n=5)\n",
    "topic_model.get_topic(similar_topics[0])"
   ]
  },
  {
   "cell_type": "code",
   "execution_count": 67,
   "id": "6a6e90ba-c17a-4db9-ac97-d74dcb773174",
   "metadata": {},
   "outputs": [
    {
     "data": {
      "text/plain": [
       "[('children', 0.1672762760185405),\n",
       " ('child', 0.12045455209200372),\n",
       " ('birth', 0.07101227308674984),\n",
       " ('generation', 0.06555071973294488),\n",
       " ('daughters', 0.05979619899488553),\n",
       " ('two', 0.04085569715663247),\n",
       " ('born', 0.038538325043224034),\n",
       " ('sons', 0.03332359390288571),\n",
       " ('working', 0.032570231079466695),\n",
       " ('generations', 0.032570231079466695)]"
      ]
     },
     "execution_count": 67,
     "metadata": {},
     "output_type": "execute_result"
    }
   ],
   "source": [
    "similar_topics, similarity=topic_model.find_topics(\"dwarfs, five foot tall\", top_n=5)\n",
    "topic_model.get_topic(similar_topics[0])"
   ]
  },
  {
   "cell_type": "code",
   "execution_count": 68,
   "id": "68c7ce80-2f45-4f57-acf2-42a49a1af990",
   "metadata": {},
   "outputs": [
    {
     "data": {
      "text/plain": [
       "[('court', 0.15069767288365063),\n",
       " ('judge', 0.13676834171292493),\n",
       " ('county', 0.09151241063775606),\n",
       " ('house', 0.06691526266573843),\n",
       " ('somers', 0.05464324396384001),\n",
       " ('circuit', 0.05273019140695238),\n",
       " ('superintendent', 0.05273019140695238),\n",
       " ('state', 0.039547643555214285),\n",
       " ('attorney', 0.039547643555214285),\n",
       " ('board', 0.03557637401812638)]"
      ]
     },
     "execution_count": 68,
     "metadata": {},
     "output_type": "execute_result"
    }
   ],
   "source": [
    "similar_topics, similarity=topic_model.find_topics(\"court\", top_n=5)\n",
    "topic_model.get_topic(similar_topics[0])"
   ]
  },
  {
   "cell_type": "code",
   "execution_count": 74,
   "id": "bdfa8451-3110-468a-9ade-cbfca32f7f96",
   "metadata": {},
   "outputs": [
    {
     "data": {
      "text/plain": [
       "[('strength', 0.2815776187702009),\n",
       " ('strong', 0.09275325688369175),\n",
       " ('weak', 0.08634976532820758),\n",
       " ('weaker', 0.07838936971668255),\n",
       " ('grew', 0.07730868428051764),\n",
       " ('old', 0.058985020164446254),\n",
       " ('giant', 0.04755404526552756),\n",
       " ('gone', 0.046376628441845875),\n",
       " ('will', 0.0452855449565805),\n",
       " ('clown', 0.04502716931391345)]"
      ]
     },
     "execution_count": 74,
     "metadata": {},
     "output_type": "execute_result"
    }
   ],
   "source": [
    "similar_topics, similarity=topic_model.find_topics(\"height\", top_n=5)\n",
    "topic_model.get_topic(similar_topics[1]) #We consider the second topic because the first one seemed to confuse \"height\" with \"eight\", seen that the\n",
    "#terms retrieved were \"years\", \"seventy\", \"five\", etc."
   ]
  },
  {
   "cell_type": "code",
   "execution_count": 75,
   "id": "70a41205-f60c-4ebf-ba2f-658c8814e8be",
   "metadata": {},
   "outputs": [
    {
     "data": {
      "text/plain": [
       "[('court', 0.15069767288365063),\n",
       " ('judge', 0.13676834171292493),\n",
       " ('county', 0.09151241063775606),\n",
       " ('house', 0.06691526266573843),\n",
       " ('somers', 0.05464324396384001),\n",
       " ('circuit', 0.05273019140695238),\n",
       " ('superintendent', 0.05273019140695238),\n",
       " ('state', 0.039547643555214285),\n",
       " ('attorney', 0.039547643555214285),\n",
       " ('board', 0.03557637401812638)]"
      ]
     },
     "execution_count": 75,
     "metadata": {},
     "output_type": "execute_result"
    }
   ],
   "source": [
    "similar_topics, similarity=topic_model.find_topics(\"attorney\", top_n=5)\n",
    "topic_model.get_topic(similar_topics[0])"
   ]
  },
  {
   "cell_type": "code",
   "execution_count": 76,
   "id": "1e201fb4-28fb-4211-8cc9-0b128869cb35",
   "metadata": {},
   "outputs": [
    {
     "data": {
      "text/plain": [
       "[('hog', 0.3143349591103823),\n",
       " ('eyed', 0.24743432494298948),\n",
       " ('allen', 0.17124827409627721),\n",
       " ('boar', 0.10649742076815878),\n",
       " ('hogs', 0.10649742076815878),\n",
       " ('stealing', 0.06257614925766838),\n",
       " ('grip', 0.04464878973984695),\n",
       " ('glistened', 0.04464878973984695),\n",
       " ('pen', 0.04464878973984695),\n",
       " ('higbee', 0.04464878973984695)]"
      ]
     },
     "execution_count": 76,
     "metadata": {},
     "output_type": "execute_result"
    }
   ],
   "source": [
    "similar_topics, similarity=topic_model.find_topics(\"arbiter\", top_n=5)\n",
    "topic_model.get_topic(similar_topics[0])"
   ]
  },
  {
   "cell_type": "code",
   "execution_count": 77,
   "id": "b29a8629-ba1e-4e39-8a19-5795b74803fc",
   "metadata": {},
   "outputs": [
    {
     "data": {
      "text/plain": [
       "[('pride', 0.3714838862557263),\n",
       " ('courage', 0.13201242782719683),\n",
       " ('hide', 0.12317443148967783),\n",
       " ('proud', 0.11080558157728947),\n",
       " ('wounded', 0.11080558157728947),\n",
       " ('heroism', 0.08301884342252792),\n",
       " ('coat', 0.08301884342252792),\n",
       " ('constancy', 0.08301884342252792),\n",
       " ('patience', 0.08301884342252792),\n",
       " ('owner', 0.08301884342252792)]"
      ]
     },
     "execution_count": 77,
     "metadata": {},
     "output_type": "execute_result"
    }
   ],
   "source": [
    "similar_topics, similarity=topic_model.find_topics(\"honour\", top_n=5)\n",
    "topic_model.get_topic(similar_topics[0])"
   ]
  },
  {
   "cell_type": "code",
   "execution_count": 78,
   "id": "c5cc5664-6186-4baa-82bf-4a217d86d7d6",
   "metadata": {},
   "outputs": [
    {
     "data": {
      "text/plain": [
       "[('killed', 0.2516639715232115),\n",
       " ('captured', 0.21663577899847683),\n",
       " ('tormented', 0.1362360507446612),\n",
       " ('punished', 0.1362360507446612),\n",
       " ('murderer', 0.1362360507446612),\n",
       " ('hunt', 0.1362360507446612),\n",
       " ('experiment', 0.1362360507446612),\n",
       " ('murdered', 0.1362360507446612),\n",
       " ('unwittingly', 0.1362360507446612),\n",
       " ('brutal', 0.1362360507446612)]"
      ]
     },
     "execution_count": 78,
     "metadata": {},
     "output_type": "execute_result"
    }
   ],
   "source": [
    "similar_topics, similarity=topic_model.find_topics(\"executioner\", top_n=5)\n",
    "topic_model.get_topic(similar_topics[0])"
   ]
  },
  {
   "cell_type": "markdown",
   "id": "379f9599-b686-4bb8-8565-da44fecf2083",
   "metadata": {},
   "source": [
    "<h4 style=\"color:red;\"> 3b - Judge Selah Lively</h4>\n",
    "<p>['judge', 'law', 'attorney', 'lively', 'honor', 'clerk', 'jefferson', 'probate court', 'diligence']</p>"
   ]
  },
  {
   "cell_type": "code",
   "execution_count": 45,
   "id": "fbf4e93c-3c69-4350-a2de-bde72c0a2043",
   "metadata": {},
   "outputs": [
    {
     "data": {
      "text/plain": [
       "[('court', 0.15069767288365063),\n",
       " ('judge', 0.13676834171292493),\n",
       " ('county', 0.09151241063775606),\n",
       " ('house', 0.06691526266573843),\n",
       " ('somers', 0.05464324396384001),\n",
       " ('circuit', 0.05273019140695238),\n",
       " ('superintendent', 0.05273019140695238),\n",
       " ('state', 0.039547643555214285),\n",
       " ('attorney', 0.039547643555214285),\n",
       " ('board', 0.03557637401812638)]"
      ]
     },
     "execution_count": 45,
     "metadata": {},
     "output_type": "execute_result"
    }
   ],
   "source": [
    "similar_topics, similarity=topic_model.find_topics(\"judge\", top_n=5)\n",
    "topic_model.get_topic(similar_topics[0])"
   ]
  },
  {
   "cell_type": "code",
   "execution_count": 53,
   "id": "746f02ef-643d-4fca-be50-194f85d65016",
   "metadata": {},
   "outputs": [
    {
     "data": {
      "text/plain": [
       "[('court', 0.15069767288365063),\n",
       " ('judge', 0.13676834171292493),\n",
       " ('county', 0.09151241063775606),\n",
       " ('house', 0.06691526266573843),\n",
       " ('somers', 0.05464324396384001),\n",
       " ('circuit', 0.05273019140695238),\n",
       " ('superintendent', 0.05273019140695238),\n",
       " ('state', 0.039547643555214285),\n",
       " ('attorney', 0.039547643555214285),\n",
       " ('board', 0.03557637401812638)]"
      ]
     },
     "execution_count": 53,
     "metadata": {},
     "output_type": "execute_result"
    }
   ],
   "source": [
    "similar_topics, similarity=topic_model.find_topics(\"probate court\", top_n=5)\n",
    "topic_model.get_topic(similar_topics[0])"
   ]
  },
  {
   "cell_type": "code",
   "execution_count": 47,
   "id": "ec1acb44-ab5f-490c-8cd3-0fbce8a7363d",
   "metadata": {},
   "outputs": [
    {
     "data": {
      "text/plain": [
       "[('court', 0.15069767288365063),\n",
       " ('judge', 0.13676834171292493),\n",
       " ('county', 0.09151241063775606),\n",
       " ('house', 0.06691526266573843),\n",
       " ('somers', 0.05464324396384001),\n",
       " ('circuit', 0.05273019140695238),\n",
       " ('superintendent', 0.05273019140695238),\n",
       " ('state', 0.039547643555214285),\n",
       " ('attorney', 0.039547643555214285),\n",
       " ('board', 0.03557637401812638)]"
      ]
     },
     "execution_count": 47,
     "metadata": {},
     "output_type": "execute_result"
    }
   ],
   "source": [
    "similar_topics, similarity=topic_model.find_topics(\"law\", top_n=5)\n",
    "topic_model.get_topic(similar_topics[0])"
   ]
  },
  {
   "cell_type": "code",
   "execution_count": 48,
   "id": "6602f2b6-02dd-4f34-b7f9-3952bffc0e85",
   "metadata": {},
   "outputs": [
    {
     "data": {
      "text/plain": [
       "[('court', 0.15069767288365063),\n",
       " ('judge', 0.13676834171292493),\n",
       " ('county', 0.09151241063775606),\n",
       " ('house', 0.06691526266573843),\n",
       " ('somers', 0.05464324396384001),\n",
       " ('circuit', 0.05273019140695238),\n",
       " ('superintendent', 0.05273019140695238),\n",
       " ('state', 0.039547643555214285),\n",
       " ('attorney', 0.039547643555214285),\n",
       " ('board', 0.03557637401812638)]"
      ]
     },
     "execution_count": 48,
     "metadata": {},
     "output_type": "execute_result"
    }
   ],
   "source": [
    "similar_topics, similarity=topic_model.find_topics(\"attorney\", top_n=5)\n",
    "topic_model.get_topic(similar_topics[0])"
   ]
  },
  {
   "cell_type": "code",
   "execution_count": 49,
   "id": "a506ffb1-0549-4ae9-9811-2d7d78397d72",
   "metadata": {},
   "outputs": [
    {
     "data": {
      "text/plain": [
       "[('pride', 0.3714838862557263),\n",
       " ('courage', 0.13201242782719683),\n",
       " ('hide', 0.12317443148967783),\n",
       " ('proud', 0.11080558157728947),\n",
       " ('wounded', 0.11080558157728947),\n",
       " ('heroism', 0.08301884342252792),\n",
       " ('coat', 0.08301884342252792),\n",
       " ('constancy', 0.08301884342252792),\n",
       " ('patience', 0.08301884342252792),\n",
       " ('owner', 0.08301884342252792)]"
      ]
     },
     "execution_count": 49,
     "metadata": {},
     "output_type": "execute_result"
    }
   ],
   "source": [
    "similar_topics, similarity=topic_model.find_topics(\"honor\", top_n=5)\n",
    "topic_model.get_topic(similar_topics[0])"
   ]
  },
  {
   "cell_type": "code",
   "execution_count": 52,
   "id": "a9f3fdc4-b07e-4422-870b-d6585b9695af",
   "metadata": {},
   "outputs": [
    {
     "data": {
      "text/plain": [
       "[('court', 0.15069767288365063),\n",
       " ('judge', 0.13676834171292493),\n",
       " ('county', 0.09151241063775606),\n",
       " ('house', 0.06691526266573843),\n",
       " ('somers', 0.05464324396384001),\n",
       " ('circuit', 0.05273019140695238),\n",
       " ('superintendent', 0.05273019140695238),\n",
       " ('state', 0.039547643555214285),\n",
       " ('attorney', 0.039547643555214285),\n",
       " ('board', 0.03557637401812638)]"
      ]
     },
     "execution_count": 52,
     "metadata": {},
     "output_type": "execute_result"
    }
   ],
   "source": [
    "similar_topics, similarity=topic_model.find_topics(\"clerk\", top_n=5)\n",
    "topic_model.get_topic(similar_topics[0])"
   ]
  },
  {
   "cell_type": "code",
   "execution_count": 55,
   "id": "c32e8463-b88d-4d59-a5fc-c2381ade5875",
   "metadata": {},
   "outputs": [
    {
     "data": {
      "text/plain": [
       "[('wisdom', 0.44653925783591225),\n",
       " ('numbers', 0.07278364354851763),\n",
       " ('intelligence', 0.07278364354851763),\n",
       " ('magic', 0.07278364354851763),\n",
       " ('pope', 0.07278364354851763),\n",
       " ('sealing', 0.07278364354851763),\n",
       " ('dispel', 0.07278364354851763),\n",
       " ('witchcraft', 0.07278364354851763),\n",
       " ('brotherhood', 0.07278364354851763),\n",
       " ('material', 0.07278364354851763)]"
      ]
     },
     "execution_count": 55,
     "metadata": {},
     "output_type": "execute_result"
    }
   ],
   "source": [
    "similar_topics, similarity=topic_model.find_topics(\"diligence\", top_n=5)\n",
    "topic_model.get_topic(similar_topics[0])"
   ]
  },
  {
   "cell_type": "markdown",
   "id": "d0b6dee0-079a-4fa8-809e-a9569da048d6",
   "metadata": {},
   "source": [
    "<h4 style=\"color:red;\"> 4a - Un blasfemo</h4>\n",
    "<p>['blasphemer', 'enchanted garden', 'god', 'forbidden apple', 'flower', 'punishing', 'soul', 'death', 'obliges']</p>"
   ]
  },
  {
   "cell_type": "code",
   "execution_count": 96,
   "id": "781c2bd0-10d2-4aa9-9251-7bddd9535306",
   "metadata": {},
   "outputs": [
    {
     "data": {
      "text/plain": [
       "[('jesus', 0.3032521520454909),\n",
       " ('thou', 0.17505353512701602),\n",
       " ('unto', 0.16517760047443822),\n",
       " ('confucius', 0.16517760047443822),\n",
       " ('repent', 0.09487867819717477),\n",
       " ('shalt', 0.09487867819717477),\n",
       " ('statute', 0.09487867819717477),\n",
       " ('blasphemy', 0.09487867819717477),\n",
       " ('canst', 0.09487867819717477),\n",
       " ('thee', 0.09487867819717477)]"
      ]
     },
     "execution_count": 96,
     "metadata": {},
     "output_type": "execute_result"
    }
   ],
   "source": [
    "similar_topics, similarity=topic_model.find_topics(\"blasphemer\", top_n=5)\n",
    "topic_model.get_topic(similar_topics[0])"
   ]
  },
  {
   "cell_type": "code",
   "execution_count": 99,
   "id": "816a7a37-a171-488b-984a-df37f019bca4",
   "metadata": {},
   "outputs": [
    {
     "data": {
      "text/plain": [
       "[('bouquet', 0.1006292129954397),\n",
       " ('clover', 0.1006292129954397),\n",
       " ('blossoms', 0.08522339043610141),\n",
       " ('flowers', 0.08050337039635176),\n",
       " ('flower', 0.06850374633195079),\n",
       " ('weed', 0.06391754282707607),\n",
       " ('petals', 0.049999706089559684),\n",
       " ('fragrant', 0.049999706089559684),\n",
       " ('roses', 0.045669164221300525),\n",
       " ('flowering', 0.045669164221300525)]"
      ]
     },
     "execution_count": 99,
     "metadata": {},
     "output_type": "execute_result"
    }
   ],
   "source": [
    "similar_topics, similarity=topic_model.find_topics(\"enchanted garden, flower\", top_n=5)\n",
    "topic_model.get_topic(similar_topics[0])"
   ]
  },
  {
   "cell_type": "code",
   "execution_count": 100,
   "id": "f05e6e49-72ac-458f-b88b-8e253c27dae1",
   "metadata": {},
   "outputs": [
    {
     "data": {
      "text/plain": [
       "[('cursed', 0.32036723166605996),\n",
       " ('god', 0.21222464353272202),\n",
       " ('chose', 0.11417291055325132),\n",
       " ('curse', 0.10652923804512678),\n",
       " ('destined', 0.07180008079786199),\n",
       " ('genesis', 0.07180008079786199),\n",
       " ('sex', 0.07180008079786199),\n",
       " ('familiarly', 0.07180008079786199),\n",
       " ('alienated', 0.07180008079786199),\n",
       " ('damned', 0.07180008079786199)]"
      ]
     },
     "execution_count": 100,
     "metadata": {},
     "output_type": "execute_result"
    }
   ],
   "source": [
    "similar_topics, similarity=topic_model.find_topics(\"god\", top_n=5)\n",
    "topic_model.get_topic(similar_topics[0])"
   ]
  },
  {
   "cell_type": "code",
   "execution_count": 101,
   "id": "e9a310eb-a213-4c7c-9fbc-0710df6371aa",
   "metadata": {},
   "outputs": [
    {
     "data": {
      "text/plain": [
       "[('cursed', 0.32036723166605996),\n",
       " ('god', 0.21222464353272202),\n",
       " ('chose', 0.11417291055325132),\n",
       " ('curse', 0.10652923804512678),\n",
       " ('destined', 0.07180008079786199),\n",
       " ('genesis', 0.07180008079786199),\n",
       " ('sex', 0.07180008079786199),\n",
       " ('familiarly', 0.07180008079786199),\n",
       " ('alienated', 0.07180008079786199),\n",
       " ('damned', 0.07180008079786199)]"
      ]
     },
     "execution_count": 101,
     "metadata": {},
     "output_type": "execute_result"
    }
   ],
   "source": [
    "similar_topics, similarity=topic_model.find_topics(\"forbidden apple\", top_n=5)\n",
    "topic_model.get_topic(similar_topics[0])"
   ]
  },
  {
   "cell_type": "code",
   "execution_count": 102,
   "id": "b07a79e1-2264-4bcf-83d3-830c872661b7",
   "metadata": {},
   "outputs": [
    {
     "data": {
      "text/plain": [
       "[('killed', 0.2516639715232115),\n",
       " ('captured', 0.21663577899847683),\n",
       " ('tormented', 0.1362360507446612),\n",
       " ('punished', 0.1362360507446612),\n",
       " ('murderer', 0.1362360507446612),\n",
       " ('hunt', 0.1362360507446612),\n",
       " ('experiment', 0.1362360507446612),\n",
       " ('murdered', 0.1362360507446612),\n",
       " ('unwittingly', 0.1362360507446612),\n",
       " ('brutal', 0.1362360507446612)]"
      ]
     },
     "execution_count": 102,
     "metadata": {},
     "output_type": "execute_result"
    }
   ],
   "source": [
    "similar_topics, similarity=topic_model.find_topics(\"punishing\", top_n=5)\n",
    "topic_model.get_topic(similar_topics[0])"
   ]
  },
  {
   "cell_type": "code",
   "execution_count": 105,
   "id": "b004bf86-0c41-4882-8b90-aa3877c20f5a",
   "metadata": {},
   "outputs": [
    {
     "data": {
      "text/plain": [
       "[('soul', 0.21204952130363175),\n",
       " ('souls', 0.09655057373443228),\n",
       " ('your', 0.042519229082855665),\n",
       " ('body', 0.02936539597767276),\n",
       " ('cured', 0.02842486880531027),\n",
       " ('snared', 0.02223544621771284),\n",
       " ('miles', 0.01632896203321874),\n",
       " ('beloved', 0.01632896203321874),\n",
       " ('truth', 0.016171739198973606),\n",
       " ('makes', 0.01468269798883638)]"
      ]
     },
     "execution_count": 105,
     "metadata": {},
     "output_type": "execute_result"
    }
   ],
   "source": [
    "similar_topics, similarity=topic_model.find_topics(\"soul\", top_n=5)\n",
    "topic_model.get_topic(similar_topics[0])"
   ]
  },
  {
   "cell_type": "code",
   "execution_count": 103,
   "id": "eb2435e9-108c-446d-8185-675108f48d92",
   "metadata": {},
   "outputs": [
    {
     "data": {
      "text/plain": [
       "[('grave', 0.15679348639741028),\n",
       " ('dead', 0.13750869138150082),\n",
       " ('died', 0.06139162958986042),\n",
       " ('alive', 0.053911493696976155),\n",
       " ('cemetery', 0.0489415112516854),\n",
       " ('graven', 0.0489415112516854),\n",
       " ('funeral', 0.0489415112516854),\n",
       " ('buried', 0.04470262106317776),\n",
       " ('bring', 0.035940995797984106),\n",
       " ('shame', 0.035940995797984106)]"
      ]
     },
     "execution_count": 103,
     "metadata": {},
     "output_type": "execute_result"
    }
   ],
   "source": [
    "similar_topics, similarity=topic_model.find_topics(\"death\", top_n=5)\n",
    "topic_model.get_topic(similar_topics[0])"
   ]
  },
  {
   "cell_type": "code",
   "execution_count": 104,
   "id": "1298d0ff-a2ce-4766-a78a-c84681cdb0e2",
   "metadata": {},
   "outputs": [
    {
     "data": {
      "text/plain": [
       "[('people', 0.08289938385658228),\n",
       " ('democracy', 0.06569303012782818),\n",
       " ('republic', 0.062054681347187814),\n",
       " ('liberty', 0.062054681347187814),\n",
       " ('poverty', 0.05280497113087873),\n",
       " ('defeat', 0.049269772595871134),\n",
       " ('liberals', 0.04245530128636873),\n",
       " ('freedom', 0.04245530128636873),\n",
       " ('enemy', 0.038541440110702256),\n",
       " ('chiefly', 0.038541440110702256)]"
      ]
     },
     "execution_count": 104,
     "metadata": {},
     "output_type": "execute_result"
    }
   ],
   "source": [
    "similar_topics, similarity=topic_model.find_topics(\"obliges\", top_n=5)\n",
    "topic_model.get_topic(similar_topics[0])"
   ]
  },
  {
   "cell_type": "markdown",
   "id": "00c8e6a8-88c8-4c33-8943-e23e87393952",
   "metadata": {},
   "source": [
    "<h4 style=\"color:red;\"> 4b - Wendell P. Bloyd</h4>\n",
    "<p>['genesis', 'catholic', 'god', 'adam', 'crucified', 'blasphemy', 'evil', 'wretched', 'death', 'eden']</p>"
   ]
  },
  {
   "cell_type": "code",
   "execution_count": 90,
   "id": "1c64576b-5aaf-48f3-81b9-303c71a56817",
   "metadata": {},
   "outputs": [
    {
     "data": {
      "text/plain": [
       "[('church', 0.16904783085158634),\n",
       " ('faith', 0.0543414346432684),\n",
       " ('christian', 0.05007917224578747),\n",
       " ('presbyterian', 0.04855629529276205),\n",
       " ('congregation', 0.04855629529276205),\n",
       " ('bell', 0.04530553801919184),\n",
       " ('sunday', 0.0427963319635778),\n",
       " ('preached', 0.035440404699496324),\n",
       " ('matheny', 0.035440404699496324),\n",
       " ('prayer', 0.035440404699496324)]"
      ]
     },
     "execution_count": 90,
     "metadata": {},
     "output_type": "execute_result"
    }
   ],
   "source": [
    "similar_topics, similarity=topic_model.find_topics(\"genesis, catholic, god, adam, crucified, genesis\", top_n=5)\n",
    "topic_model.get_topic(similar_topics[0])"
   ]
  },
  {
   "cell_type": "code",
   "execution_count": 93,
   "id": "d08d59c6-4e9b-43d3-ab00-331e31e29959",
   "metadata": {},
   "outputs": [
    {
     "data": {
      "text/plain": [
       "[('cursed', 0.32036723166605996),\n",
       " ('god', 0.21222464353272202),\n",
       " ('chose', 0.11417291055325132),\n",
       " ('curse', 0.10652923804512678),\n",
       " ('destined', 0.07180008079786199),\n",
       " ('genesis', 0.07180008079786199),\n",
       " ('sex', 0.07180008079786199),\n",
       " ('familiarly', 0.07180008079786199),\n",
       " ('alienated', 0.07180008079786199),\n",
       " ('damned', 0.07180008079786199)]"
      ]
     },
     "execution_count": 93,
     "metadata": {},
     "output_type": "execute_result"
    }
   ],
   "source": [
    "similar_topics, similarity=topic_model.find_topics(\"evil, blasphemy\", top_n=5)\n",
    "topic_model.get_topic(similar_topics[0])"
   ]
  },
  {
   "cell_type": "code",
   "execution_count": 94,
   "id": "12da37ea-d129-4b07-9714-ad5ef6526bf9",
   "metadata": {},
   "outputs": [
    {
     "data": {
      "text/plain": [
       "[('sorrow', 0.3377408603472646),\n",
       " ('despair', 0.08864954478169687),\n",
       " ('divine', 0.053911493696976155),\n",
       " ('hear', 0.043432080604268355),\n",
       " ('supremer', 0.042168301420966565),\n",
       " ('serene', 0.042168301420966565),\n",
       " ('sad', 0.042168301420966565),\n",
       " ('ours', 0.042168301420966565),\n",
       " ('ovid', 0.042168301420966565),\n",
       " ('itys', 0.042168301420966565)]"
      ]
     },
     "execution_count": 94,
     "metadata": {},
     "output_type": "execute_result"
    }
   ],
   "source": [
    "similar_topics, similarity=topic_model.find_topics(\"wretched\", top_n=5)\n",
    "topic_model.get_topic(similar_topics[0])"
   ]
  },
  {
   "cell_type": "code",
   "execution_count": 95,
   "id": "e7f9a650-1d32-4a61-b663-0e97e7abfdb7",
   "metadata": {},
   "outputs": [
    {
     "data": {
      "text/plain": [
       "[('grave', 0.15679348639741028),\n",
       " ('dead', 0.13750869138150082),\n",
       " ('died', 0.06139162958986042),\n",
       " ('alive', 0.053911493696976155),\n",
       " ('cemetery', 0.0489415112516854),\n",
       " ('graven', 0.0489415112516854),\n",
       " ('funeral', 0.0489415112516854),\n",
       " ('buried', 0.04470262106317776),\n",
       " ('bring', 0.035940995797984106),\n",
       " ('shame', 0.035940995797984106)]"
      ]
     },
     "execution_count": 95,
     "metadata": {},
     "output_type": "execute_result"
    }
   ],
   "source": [
    "similar_topics, similarity=topic_model.find_topics(\"death\", top_n=5)\n",
    "topic_model.get_topic(similar_topics[0])"
   ]
  },
  {
   "cell_type": "markdown",
   "id": "60b59a08-21ec-4a77-a254-4c532833c104",
   "metadata": {},
   "source": [
    "<h4 style=\"color:red;\"> 5a - Un malato di cuore</h4>\n",
    "<p>['heart patient', 'heart', 'soul', 'caresses', 'flower', 'feel', 'narrating', 'breath', 'feeling', 'rhythm']</p>"
   ]
  },
  {
   "cell_type": "code",
   "execution_count": 116,
   "id": "d09d2ff4-92a5-4db7-8af1-1ab6547e28c1",
   "metadata": {},
   "outputs": [
    {
     "data": {
      "text/plain": [
       "[('fever', 0.06433092929650201),\n",
       " ('lungs', 0.06433092929650201),\n",
       " ('breathe', 0.06433092929650201),\n",
       " ('worried', 0.06002408844167042),\n",
       " ('sick', 0.05849887036007819),\n",
       " ('lips', 0.056699708845146225),\n",
       " ('feverish', 0.04695403871354589),\n",
       " ('aching', 0.04695403871354589),\n",
       " ('kiss', 0.042887286197668004),\n",
       " ('sickness', 0.042887286197668004)]"
      ]
     },
     "execution_count": 116,
     "metadata": {},
     "output_type": "execute_result"
    }
   ],
   "source": [
    "similar_topics, similarity=topic_model.find_topics(\"heart patient\", top_n=5)\n",
    "topic_model.get_topic(similar_topics[1])"
   ]
  },
  {
   "cell_type": "code",
   "execution_count": 118,
   "id": "9898a6f4-f188-4fca-b4ae-eac6ffbe85bd",
   "metadata": {},
   "outputs": [
    {
     "data": {
      "text/plain": [
       "[('soul', 0.21204952130363175),\n",
       " ('souls', 0.09655057373443228),\n",
       " ('your', 0.042519229082855665),\n",
       " ('body', 0.02936539597767276),\n",
       " ('cured', 0.02842486880531027),\n",
       " ('snared', 0.02223544621771284),\n",
       " ('miles', 0.01632896203321874),\n",
       " ('beloved', 0.01632896203321874),\n",
       " ('truth', 0.016171739198973606),\n",
       " ('makes', 0.01468269798883638)]"
      ]
     },
     "execution_count": 118,
     "metadata": {},
     "output_type": "execute_result"
    }
   ],
   "source": [
    "similar_topics, similarity=topic_model.find_topics(\"heart\", top_n=5)\n",
    "topic_model.get_topic(similar_topics[1])"
   ]
  },
  {
   "cell_type": "code",
   "execution_count": 120,
   "id": "5fbb828d-a3cb-41f9-b813-1cf69ea8d480",
   "metadata": {},
   "outputs": [
    {
     "data": {
      "text/plain": [
       "[('soul', 0.21204952130363175),\n",
       " ('souls', 0.09655057373443228),\n",
       " ('your', 0.042519229082855665),\n",
       " ('body', 0.02936539597767276),\n",
       " ('cured', 0.02842486880531027),\n",
       " ('snared', 0.02223544621771284),\n",
       " ('miles', 0.01632896203321874),\n",
       " ('beloved', 0.01632896203321874),\n",
       " ('truth', 0.016171739198973606),\n",
       " ('makes', 0.01468269798883638)]"
      ]
     },
     "execution_count": 120,
     "metadata": {},
     "output_type": "execute_result"
    }
   ],
   "source": [
    "similar_topics, similarity=topic_model.find_topics(\"soul\", top_n=5)\n",
    "topic_model.get_topic(similar_topics[0])"
   ]
  },
  {
   "cell_type": "code",
   "execution_count": 123,
   "id": "a12f7b0d-179b-436d-bde3-9a740fdd7234",
   "metadata": {},
   "outputs": [
    {
     "data": {
      "text/plain": [
       "[('hand', 0.20815807144894904),\n",
       " ('hands', 0.12929870416585848),\n",
       " ('arms', 0.07347265023746416),\n",
       " ('giant', 0.04637501934985332),\n",
       " ('grasp', 0.0382229158122667),\n",
       " ('observe', 0.0382229158122667),\n",
       " ('arm', 0.03491237760719255),\n",
       " ('helped', 0.03491237760719255),\n",
       " ('steel', 0.03491237760719255),\n",
       " ('flung', 0.030770916370506354)]"
      ]
     },
     "execution_count": 123,
     "metadata": {},
     "output_type": "execute_result"
    }
   ],
   "source": [
    "similar_topics, similarity=topic_model.find_topics(\"caresses\", top_n=5)\n",
    "topic_model.get_topic(similar_topics[0])"
   ]
  },
  {
   "cell_type": "code",
   "execution_count": 125,
   "id": "0ca60b71-4abb-4759-bfcf-17f370b9e7ce",
   "metadata": {},
   "outputs": [
    {
     "data": {
      "text/plain": [
       "[('bouquet', 0.1006292129954397),\n",
       " ('clover', 0.1006292129954397),\n",
       " ('blossoms', 0.08522339043610141),\n",
       " ('flowers', 0.08050337039635176),\n",
       " ('flower', 0.06850374633195079),\n",
       " ('weed', 0.06391754282707607),\n",
       " ('petals', 0.049999706089559684),\n",
       " ('fragrant', 0.049999706089559684),\n",
       " ('roses', 0.045669164221300525),\n",
       " ('flowering', 0.045669164221300525)]"
      ]
     },
     "execution_count": 125,
     "metadata": {},
     "output_type": "execute_result"
    }
   ],
   "source": [
    "similar_topics, similarity=topic_model.find_topics(\"flower\", top_n=5)\n",
    "topic_model.get_topic(similar_topics[0])"
   ]
  },
  {
   "cell_type": "code",
   "execution_count": 126,
   "id": "38822689-b7cf-4142-b79b-7a64fe18b828",
   "metadata": {},
   "outputs": [
    {
     "data": {
      "text/plain": [
       "[('tears', 0.19755979286073697),\n",
       " ('laughed', 0.10744783668100798),\n",
       " ('cries', 0.10744783668100798),\n",
       " ('crying', 0.08595826934480637),\n",
       " ('laugh', 0.07166512377581255),\n",
       " ('wept', 0.05606027652465782),\n",
       " ('cry', 0.047776749183875034),\n",
       " ('broken', 0.042957260613394464),\n",
       " ('heard', 0.038237982498664815),\n",
       " ('cried', 0.037018196141551114)]"
      ]
     },
     "execution_count": 126,
     "metadata": {},
     "output_type": "execute_result"
    }
   ],
   "source": [
    "similar_topics, similarity=topic_model.find_topics(\"feel, feeling\", top_n=5)\n",
    "topic_model.get_topic(similar_topics[0])"
   ]
  },
  {
   "cell_type": "code",
   "execution_count": 128,
   "id": "d234eca0-25bd-4d0c-bab3-b29480a4b4b2",
   "metadata": {},
   "outputs": [
    {
     "data": {
      "text/plain": [
       "[('silence', 0.156885717859997),\n",
       " ('speak', 0.0961078232069892),\n",
       " ('whispers', 0.08343008495231206),\n",
       " ('talking', 0.06955732601770041),\n",
       " ('silent', 0.05993689593369702),\n",
       " ('stood', 0.057734675820030876),\n",
       " ('heard', 0.05567000393187965),\n",
       " ('spoke', 0.05567000393187965),\n",
       " ('facing', 0.05441144486216789),\n",
       " ('witness', 0.0496987963584741)]"
      ]
     },
     "execution_count": 128,
     "metadata": {},
     "output_type": "execute_result"
    }
   ],
   "source": [
    "similar_topics, similarity=topic_model.find_topics(\"narrating\", top_n=5)\n",
    "topic_model.get_topic(similar_topics[0])"
   ]
  },
  {
   "cell_type": "code",
   "execution_count": 129,
   "id": "b4b555d0-d0c4-463a-a531-f2c234888560",
   "metadata": {},
   "outputs": [
    {
     "data": {
      "text/plain": [
       "[('fever', 0.06433092929650201),\n",
       " ('lungs', 0.06433092929650201),\n",
       " ('breathe', 0.06433092929650201),\n",
       " ('worried', 0.06002408844167042),\n",
       " ('sick', 0.05849887036007819),\n",
       " ('lips', 0.056699708845146225),\n",
       " ('feverish', 0.04695403871354589),\n",
       " ('aching', 0.04695403871354589),\n",
       " ('kiss', 0.042887286197668004),\n",
       " ('sickness', 0.042887286197668004)]"
      ]
     },
     "execution_count": 129,
     "metadata": {},
     "output_type": "execute_result"
    }
   ],
   "source": [
    "similar_topics, similarity=topic_model.find_topics(\"breath\", top_n=5)\n",
    "topic_model.get_topic(similar_topics[0])"
   ]
  },
  {
   "cell_type": "code",
   "execution_count": 131,
   "id": "f2d21fbe-c9c9-4979-b632-b55184bd6927",
   "metadata": {},
   "outputs": [
    {
     "data": {
      "text/plain": [
       "[('clang', 0.3249536684977153),\n",
       " ('devour', 0.2864062216024053),\n",
       " ('acorns', 0.23717809298893694),\n",
       " ('poisoned', 0.20213240039331745),\n",
       " ('acorn', 0.1362360507446612),\n",
       " ('retaliation', 0.1362360507446612),\n",
       " ('lovely', 0.1362360507446612),\n",
       " ('exploded', 0.1362360507446612),\n",
       " ('dropping', 0.1362360507446612),\n",
       " ('devourer', 0.1362360507446612)]"
      ]
     },
     "execution_count": 131,
     "metadata": {},
     "output_type": "execute_result"
    }
   ],
   "source": [
    "similar_topics, similarity=topic_model.find_topics(\"rhytm\", top_n=5)\n",
    "topic_model.get_topic(similar_topics[0])"
   ]
  },
  {
   "cell_type": "markdown",
   "id": "26294d32-4a54-45d0-8d8d-60c155709d7f",
   "metadata": {},
   "source": [
    "<h4 style=\"color:red;\"> 5b - Francis Turner</h4>\n",
    "<p>['boyhood', 'turner', 'francis', 'mary', 'garden', 'manhood', 'scarlet fever', 'soul', 'heart diseased']</p>"
   ]
  },
  {
   "cell_type": "code",
   "execution_count": 106,
   "id": "9c932a7a-6b42-4943-b74e-6229fe6a913d",
   "metadata": {},
   "outputs": [
    {
     "data": {
      "text/plain": [
       "[('boy', 0.2967989782399862),\n",
       " ('girls', 0.1997896531123234),\n",
       " ('boyhood', 0.13602861215541973),\n",
       " ('boys', 0.13073809821666418),\n",
       " ('wanton', 0.12424699089618525),\n",
       " ('sent', 0.0961078232069892),\n",
       " ('arbor', 0.07813538204473217),\n",
       " ('ann', 0.07813538204473217),\n",
       " ('balloons', 0.07813538204473217),\n",
       " ('reckless', 0.07813538204473217)]"
      ]
     },
     "execution_count": 106,
     "metadata": {},
     "output_type": "execute_result"
    }
   ],
   "source": [
    "similar_topics, similarity=topic_model.find_topics(\"boyhood\", top_n=5)\n",
    "topic_model.get_topic(similar_topics[0])"
   ]
  },
  {
   "cell_type": "code",
   "execution_count": 107,
   "id": "8f94a35f-0faf-4e76-b9cb-be454804ab8d",
   "metadata": {},
   "outputs": [
    {
     "data": {
      "text/plain": [
       "[('bouquet', 0.1006292129954397),\n",
       " ('clover', 0.1006292129954397),\n",
       " ('blossoms', 0.08522339043610141),\n",
       " ('flowers', 0.08050337039635176),\n",
       " ('flower', 0.06850374633195079),\n",
       " ('weed', 0.06391754282707607),\n",
       " ('petals', 0.049999706089559684),\n",
       " ('fragrant', 0.049999706089559684),\n",
       " ('roses', 0.045669164221300525),\n",
       " ('flowering', 0.045669164221300525)]"
      ]
     },
     "execution_count": 107,
     "metadata": {},
     "output_type": "execute_result"
    }
   ],
   "source": [
    "similar_topics, similarity=topic_model.find_topics(\"garden\", top_n=5)\n",
    "topic_model.get_topic(similar_topics[0])"
   ]
  },
  {
   "cell_type": "code",
   "execution_count": 108,
   "id": "5c2f0444-dc31-46ee-be1b-0033b90901db",
   "metadata": {},
   "outputs": [
    {
     "data": {
      "text/plain": [
       "[('men', 0.252704975849759),\n",
       " ('women', 0.18965740114630747),\n",
       " ('woman', 0.09450597334946784),\n",
       " ('other', 0.08010418523059828),\n",
       " ('neither', 0.04741435028657687),\n",
       " ('are', 0.04649931072982677),\n",
       " ('white', 0.0437795372491025),\n",
       " ('jokes', 0.0425056478323343),\n",
       " ('babylon', 0.0425056478323343),\n",
       " ('endowed', 0.0425056478323343)]"
      ]
     },
     "execution_count": 108,
     "metadata": {},
     "output_type": "execute_result"
    }
   ],
   "source": [
    "similar_topics, similarity=topic_model.find_topics(\"manhood\", top_n=5)\n",
    "topic_model.get_topic(similar_topics[0])"
   ]
  },
  {
   "cell_type": "code",
   "execution_count": 109,
   "id": "dbf373ce-77c9-4b61-b5e1-30c73df1a377",
   "metadata": {},
   "outputs": [
    {
     "data": {
      "text/plain": [
       "[('fever', 0.06433092929650201),\n",
       " ('lungs', 0.06433092929650201),\n",
       " ('breathe', 0.06433092929650201),\n",
       " ('worried', 0.06002408844167042),\n",
       " ('sick', 0.05849887036007819),\n",
       " ('lips', 0.056699708845146225),\n",
       " ('feverish', 0.04695403871354589),\n",
       " ('aching', 0.04695403871354589),\n",
       " ('kiss', 0.042887286197668004),\n",
       " ('sickness', 0.042887286197668004)]"
      ]
     },
     "execution_count": 109,
     "metadata": {},
     "output_type": "execute_result"
    }
   ],
   "source": [
    "similar_topics, similarity=topic_model.find_topics(\"scarlet fever\", top_n=5)\n",
    "topic_model.get_topic(similar_topics[0])"
   ]
  },
  {
   "cell_type": "code",
   "execution_count": 110,
   "id": "7a02e269-34b1-4c0c-b27f-db886da84849",
   "metadata": {},
   "outputs": [
    {
     "data": {
      "text/plain": [
       "[('soul', 0.21204952130363175),\n",
       " ('souls', 0.09655057373443228),\n",
       " ('your', 0.042519229082855665),\n",
       " ('body', 0.02936539597767276),\n",
       " ('cured', 0.02842486880531027),\n",
       " ('snared', 0.02223544621771284),\n",
       " ('miles', 0.01632896203321874),\n",
       " ('beloved', 0.01632896203321874),\n",
       " ('truth', 0.016171739198973606),\n",
       " ('makes', 0.01468269798883638)]"
      ]
     },
     "execution_count": 110,
     "metadata": {},
     "output_type": "execute_result"
    }
   ],
   "source": [
    "similar_topics, similarity=topic_model.find_topics(\"soul\", top_n=5)\n",
    "topic_model.get_topic(similar_topics[0])"
   ]
  },
  {
   "cell_type": "code",
   "execution_count": 113,
   "id": "83d95b85-fd77-4518-a546-52b5af11d3a7",
   "metadata": {},
   "outputs": [
    {
     "data": {
      "text/plain": [
       "[('fever', 0.06433092929650201),\n",
       " ('lungs', 0.06433092929650201),\n",
       " ('breathe', 0.06433092929650201),\n",
       " ('worried', 0.06002408844167042),\n",
       " ('sick', 0.05849887036007819),\n",
       " ('lips', 0.056699708845146225),\n",
       " ('feverish', 0.04695403871354589),\n",
       " ('aching', 0.04695403871354589),\n",
       " ('kiss', 0.042887286197668004),\n",
       " ('sickness', 0.042887286197668004)]"
      ]
     },
     "execution_count": 113,
     "metadata": {},
     "output_type": "execute_result"
    }
   ],
   "source": [
    "similar_topics, similarity=topic_model.find_topics(\"heart diseased\", top_n=5)\n",
    "topic_model.get_topic(similar_topics[1])"
   ]
  },
  {
   "cell_type": "markdown",
   "id": "67b77824-643c-4e83-8fdc-3cd74e7f8d11",
   "metadata": {},
   "source": [
    "<h4 style=\"color:red;\"> 6a - Un dottore</h4>\n",
    "<p>['doctor', 'flowers', 'cherries', 'illness', 'cure', 'diagnosis', 'health', 'children', 'child']</p>"
   ]
  },
  {
   "cell_type": "code",
   "execution_count": 201,
   "id": "752bad2a-c2c6-46ef-bb35-c91c6c99950e",
   "metadata": {},
   "outputs": [
    {
     "data": {
      "text/plain": [
       "[('fever', 0.06433092929650201),\n",
       " ('lungs', 0.06433092929650201),\n",
       " ('breathe', 0.06433092929650201),\n",
       " ('worried', 0.06002408844167042),\n",
       " ('sick', 0.05849887036007819),\n",
       " ('lips', 0.056699708845146225),\n",
       " ('feverish', 0.04695403871354589),\n",
       " ('aching', 0.04695403871354589),\n",
       " ('kiss', 0.042887286197668004),\n",
       " ('sickness', 0.042887286197668004)]"
      ]
     },
     "execution_count": 201,
     "metadata": {},
     "output_type": "execute_result"
    }
   ],
   "source": [
    "similar_topics, similarity=topic_model.find_topics(\"doctor, cure, diagnosis, illness, health\", top_n=5)\n",
    "topic_model.get_topic(similar_topics[0])"
   ]
  },
  {
   "cell_type": "code",
   "execution_count": 202,
   "id": "770cd945-71e7-4e49-9cca-70b3d87e0093",
   "metadata": {},
   "outputs": [
    {
     "data": {
      "text/plain": [
       "[('bouquet', 0.1006292129954397),\n",
       " ('clover', 0.1006292129954397),\n",
       " ('blossoms', 0.08522339043610141),\n",
       " ('flowers', 0.08050337039635176),\n",
       " ('flower', 0.06850374633195079),\n",
       " ('weed', 0.06391754282707607),\n",
       " ('petals', 0.049999706089559684),\n",
       " ('fragrant', 0.049999706089559684),\n",
       " ('roses', 0.045669164221300525),\n",
       " ('flowering', 0.045669164221300525)]"
      ]
     },
     "execution_count": 202,
     "metadata": {},
     "output_type": "execute_result"
    }
   ],
   "source": [
    "similar_topics, similarity=topic_model.find_topics(\"flowers, cherries\", top_n=5)\n",
    "topic_model.get_topic(similar_topics[0])"
   ]
  },
  {
   "cell_type": "code",
   "execution_count": 203,
   "id": "7f06f3d6-56a3-4d42-a2ec-275f9d1344eb",
   "metadata": {},
   "outputs": [
    {
     "data": {
      "text/plain": [
       "[('children', 0.1672762760185405),\n",
       " ('child', 0.12045455209200372),\n",
       " ('birth', 0.07101227308674984),\n",
       " ('generation', 0.06555071973294488),\n",
       " ('daughters', 0.05979619899488553),\n",
       " ('two', 0.04085569715663247),\n",
       " ('born', 0.038538325043224034),\n",
       " ('sons', 0.03332359390288571),\n",
       " ('working', 0.032570231079466695),\n",
       " ('generations', 0.032570231079466695)]"
      ]
     },
     "execution_count": 203,
     "metadata": {},
     "output_type": "execute_result"
    }
   ],
   "source": [
    "similar_topics, similarity=topic_model.find_topics(\"children, child\", top_n=5)\n",
    "topic_model.get_topic(similar_topics[0])"
   ]
  },
  {
   "cell_type": "markdown",
   "id": "36be18c0-52fd-4a66-81f8-d851eda20860",
   "metadata": {},
   "source": [
    "<h4 style=\"color:red;\"> 6b - Dr Siegfried Iseman</h4>\n",
    "<p>['doctor', 'dr', 'doctors', 'medicine', 'iseman', 'swindler and crook', 'diploma', 'christian', 'youth', 'siegfried']</p>"
   ]
  },
  {
   "cell_type": "code",
   "execution_count": 173,
   "id": "3f1d4f97-56f4-4828-9d92-ac5ef6eef60f",
   "metadata": {},
   "outputs": [
    {
     "data": {
      "text/plain": [
       "[('write', 0.0932537483783199),\n",
       " ('read', 0.08752642616979708),\n",
       " ('letter', 0.07997783889252948),\n",
       " ('books', 0.07721131081461165),\n",
       " ('elected', 0.05512701828908658),\n",
       " ('legislature', 0.044311863886052086),\n",
       " ('letters', 0.044311863886052086),\n",
       " ('wrote', 0.042713303240251285),\n",
       " ('studied', 0.041345263716814934),\n",
       " ('newspapers', 0.041345263716814934)]"
      ]
     },
     "execution_count": 173,
     "metadata": {},
     "output_type": "execute_result"
    }
   ],
   "source": [
    "similar_topics, similarity=topic_model.find_topics(\" doctor, doctors, medicine, diploma\", top_n=5)\n",
    "topic_model.get_topic(similar_topics[0])"
   ]
  },
  {
   "cell_type": "code",
   "execution_count": 165,
   "id": "7216c5f4-5ea9-45a4-ae8c-1b5d846f63a8",
   "metadata": {},
   "outputs": [
    {
     "data": {
      "text/plain": [
       "[('thief', 0.28749556301134566),\n",
       " ('stole', 0.15979385706769017),\n",
       " ('theft', 0.12499926522389922),\n",
       " ('steal', 0.11417291055325132),\n",
       " ('apple', 0.10652923804512678),\n",
       " ('stealing', 0.1006292129954397),\n",
       " ('proctor', 0.07180008079786199),\n",
       " ('husbands', 0.07180008079786199),\n",
       " ('regard', 0.07180008079786199),\n",
       " ('prestige', 0.07180008079786199)]"
      ]
     },
     "execution_count": 165,
     "metadata": {},
     "output_type": "execute_result"
    }
   ],
   "source": [
    "similar_topics, similarity=topic_model.find_topics(\"swindler and crook\", top_n=5)\n",
    "topic_model.get_topic(similar_topics[1])"
   ]
  },
  {
   "cell_type": "code",
   "execution_count": 166,
   "id": "6e06692b-0e21-47a7-babc-32f6ee84e16f",
   "metadata": {},
   "outputs": [
    {
     "data": {
      "text/plain": [
       "[('church', 0.16904783085158634),\n",
       " ('faith', 0.0543414346432684),\n",
       " ('christian', 0.05007917224578747),\n",
       " ('presbyterian', 0.04855629529276205),\n",
       " ('congregation', 0.04855629529276205),\n",
       " ('bell', 0.04530553801919184),\n",
       " ('sunday', 0.0427963319635778),\n",
       " ('preached', 0.035440404699496324),\n",
       " ('matheny', 0.035440404699496324),\n",
       " ('prayer', 0.035440404699496324)]"
      ]
     },
     "execution_count": 166,
     "metadata": {},
     "output_type": "execute_result"
    }
   ],
   "source": [
    "similar_topics, similarity=topic_model.find_topics(\"christian\", top_n=5)\n",
    "topic_model.get_topic(similar_topics[0])"
   ]
  },
  {
   "cell_type": "code",
   "execution_count": 179,
   "id": "a495b011-831a-4677-a994-73841c2435a5",
   "metadata": {},
   "outputs": [
    {
     "data": {
      "text/plain": [
       "[('children', 0.1672762760185405),\n",
       " ('child', 0.12045455209200372),\n",
       " ('birth', 0.07101227308674984),\n",
       " ('generation', 0.06555071973294488),\n",
       " ('daughters', 0.05979619899488553),\n",
       " ('two', 0.04085569715663247),\n",
       " ('born', 0.038538325043224034),\n",
       " ('sons', 0.03332359390288571),\n",
       " ('working', 0.032570231079466695),\n",
       " ('generations', 0.032570231079466695)]"
      ]
     },
     "execution_count": 179,
     "metadata": {},
     "output_type": "execute_result"
    }
   ],
   "source": [
    "similar_topics, similarity=topic_model.find_topics(\"youth\", top_n=5)\n",
    "topic_model.get_topic(similar_topics[0])"
   ]
  },
  {
   "cell_type": "markdown",
   "id": "4c06d820-b39e-417a-90be-980db1af3fd9",
   "metadata": {},
   "source": [
    "<h4 style=\"color:red;\"> 7a - Un chimico</h4>\n",
    "<p>['chemist', 'death', 'oxygen', 'phosphorous', 'hydrogen', 'ashes', 'corpse', 'dying', 'die', 'suffering']</p>"
   ]
  },
  {
   "cell_type": "code",
   "execution_count": 220,
   "id": "350536b0-65f5-478c-8ca1-71eeb79095f2",
   "metadata": {},
   "outputs": [
    {
     "data": {
      "text/plain": [
       "[('water', 0.4376263833305979),\n",
       " ('waters', 0.14015069131164457),\n",
       " ('fluids', 0.08050312089457254),\n",
       " ('pour', 0.08050312089457254),\n",
       " ('pool', 0.08050312089457254),\n",
       " ('pent', 0.08050312089457254),\n",
       " ('dozen', 0.08050312089457254),\n",
       " ('deeply', 0.08050312089457254),\n",
       " ('cleaned', 0.08050312089457254),\n",
       " ('sandy', 0.08050312089457254)]"
      ]
     },
     "execution_count": 220,
     "metadata": {},
     "output_type": "execute_result"
    }
   ],
   "source": [
    "similar_topics, similarity=topic_model.find_topics(\"chemist, oxygen, hydrogen, phosphorous\", top_n=5)\n",
    "topic_model.get_topic(similar_topics[0])"
   ]
  },
  {
   "cell_type": "code",
   "execution_count": 223,
   "id": "46436b15-8435-4352-8f20-5d76075245fa",
   "metadata": {},
   "outputs": [
    {
     "data": {
      "text/plain": [
       "[('grave', 0.15679348639741028),\n",
       " ('dead', 0.13750869138150082),\n",
       " ('died', 0.06139162958986042),\n",
       " ('alive', 0.053911493696976155),\n",
       " ('cemetery', 0.0489415112516854),\n",
       " ('graven', 0.0489415112516854),\n",
       " ('funeral', 0.0489415112516854),\n",
       " ('buried', 0.04470262106317776),\n",
       " ('bring', 0.035940995797984106),\n",
       " ('shame', 0.035940995797984106)]"
      ]
     },
     "execution_count": 223,
     "metadata": {},
     "output_type": "execute_result"
    }
   ],
   "source": [
    "similar_topics, similarity=topic_model.find_topics(\"corpse, ashes\", top_n=5)\n",
    "topic_model.get_topic(similar_topics[0])"
   ]
  },
  {
   "cell_type": "code",
   "execution_count": 227,
   "id": "78efdfca-4852-4512-b281-2c736d526319",
   "metadata": {},
   "outputs": [
    {
     "data": {
      "text/plain": [
       "[('grave', 0.15679348639741028),\n",
       " ('dead', 0.13750869138150082),\n",
       " ('died', 0.06139162958986042),\n",
       " ('alive', 0.053911493696976155),\n",
       " ('cemetery', 0.0489415112516854),\n",
       " ('graven', 0.0489415112516854),\n",
       " ('funeral', 0.0489415112516854),\n",
       " ('buried', 0.04470262106317776),\n",
       " ('bring', 0.035940995797984106),\n",
       " ('shame', 0.035940995797984106)]"
      ]
     },
     "execution_count": 227,
     "metadata": {},
     "output_type": "execute_result"
    }
   ],
   "source": [
    "similar_topics, similarity=topic_model.find_topics(\"dying, die\", top_n=5)\n",
    "topic_model.get_topic(similar_topics[0])"
   ]
  },
  {
   "cell_type": "code",
   "execution_count": 228,
   "id": "59b6f32f-23d6-4e76-8611-8463a4a8dfdb",
   "metadata": {},
   "outputs": [
    {
     "data": {
      "text/plain": [
       "[('sorrow', 0.3377408603472646),\n",
       " ('despair', 0.08864954478169687),\n",
       " ('divine', 0.053911493696976155),\n",
       " ('hear', 0.043432080604268355),\n",
       " ('supremer', 0.042168301420966565),\n",
       " ('serene', 0.042168301420966565),\n",
       " ('sad', 0.042168301420966565),\n",
       " ('ours', 0.042168301420966565),\n",
       " ('ovid', 0.042168301420966565),\n",
       " ('itys', 0.042168301420966565)]"
      ]
     },
     "execution_count": 228,
     "metadata": {},
     "output_type": "execute_result"
    }
   ],
   "source": [
    "similar_topics, similarity=topic_model.find_topics(\"suffering\", top_n=5)\n",
    "topic_model.get_topic(similar_topics[0])"
   ]
  },
  {
   "cell_type": "markdown",
   "id": "f4948a82-e429-45e0-82da-38ee75b5991f",
   "metadata": {},
   "source": [
    "<h4 style=\"color:red;\"> 7b - Trainor the druggist</h4>\n",
    "<p>['chemist', 'druggist',  'trainor', 'compounding', 'hydrogen', 'experiment', 'mixer of chemicals', 'pantier', 'fluids']</p>"
   ]
  },
  {
   "cell_type": "code",
   "execution_count": 212,
   "id": "c3a0acac-295b-47e2-ae4d-8e7add01bb79",
   "metadata": {},
   "outputs": [
    {
     "data": {
      "text/plain": [
       "[('water', 0.4376263833305979),\n",
       " ('waters', 0.14015069131164457),\n",
       " ('fluids', 0.08050312089457254),\n",
       " ('pour', 0.08050312089457254),\n",
       " ('pool', 0.08050312089457254),\n",
       " ('pent', 0.08050312089457254),\n",
       " ('dozen', 0.08050312089457254),\n",
       " ('deeply', 0.08050312089457254),\n",
       " ('cleaned', 0.08050312089457254),\n",
       " ('sandy', 0.08050312089457254)]"
      ]
     },
     "execution_count": 212,
     "metadata": {},
     "output_type": "execute_result"
    }
   ],
   "source": [
    "similar_topics, similarity=topic_model.find_topics(\"chemist, druggist, compoundig fluids, hydrogen, mixer of chemicals, experiment\", top_n=5)\n",
    "topic_model.get_topic(similar_topics[0])"
   ]
  },
  {
   "cell_type": "markdown",
   "id": "a65a5aa2-8d62-4dd0-9e27-f8669410eb89",
   "metadata": {},
   "source": [
    "<h4 style=\"color:red;\"> 8a - Un ottico</h4>\n",
    "<p>['optician', 'glasses', 'sight', 'eyes', 'sighted', 'lens', 'pupils', 'light', 'blind', 'glance']</p>"
   ]
  },
  {
   "cell_type": "code",
   "execution_count": 256,
   "id": "327ee0b7-d5e9-4b33-8138-d1473c2714f1",
   "metadata": {},
   "outputs": [
    {
     "data": {
      "text/plain": [
       "[('eyes', 0.1344257247519203),\n",
       " ('eye', 0.1196434702965231),\n",
       " ('vision', 0.06587515232779464),\n",
       " ('wide', 0.031103321144502306),\n",
       " ('look', 0.0286985230684364),\n",
       " ('haggard', 0.0270466246390893),\n",
       " ('downcast', 0.0270466246390893),\n",
       " ('lashes', 0.0270466246390893),\n",
       " ('his', 0.025636494175516722),\n",
       " ('staring', 0.024704080061229813)]"
      ]
     },
     "execution_count": 256,
     "metadata": {},
     "output_type": "execute_result"
    }
   ],
   "source": [
    "similar_topics, similarity=topic_model.find_topics(\"optician, glasses, sight, eyes, sighted, lens, pupils, blind, glance \", top_n=5)\n",
    "topic_model.get_topic(similar_topics[0])"
   ]
  },
  {
   "cell_type": "code",
   "execution_count": 253,
   "id": "d6a3c0a5-ee0e-4e35-bb7c-905ca1fddca1",
   "metadata": {},
   "outputs": [
    {
     "data": {
      "text/plain": [
       "[('darkness', 0.3087658275372271),\n",
       " ('light', 0.15720620307085756),\n",
       " ('bellowing', 0.1280120512263727),\n",
       " ('spear', 0.08050312089457254),\n",
       " ('staggered', 0.08050312089457254),\n",
       " ('lantern', 0.08050312089457254),\n",
       " ('plate', 0.08050312089457254),\n",
       " ('fantastic', 0.08050312089457254),\n",
       " ('skipping', 0.08050312089457254),\n",
       " ('splinters', 0.08050312089457254)]"
      ]
     },
     "execution_count": 253,
     "metadata": {},
     "output_type": "execute_result"
    }
   ],
   "source": [
    "similar_topics, similarity=topic_model.find_topics(\"light\", top_n=5)\n",
    "topic_model.get_topic(similar_topics[0])"
   ]
  },
  {
   "cell_type": "markdown",
   "id": "7e821b61-82b7-492c-959e-12295f065559",
   "metadata": {},
   "source": [
    "<h4 style=\"color:red;\"> 8b - Dippold the optician</h4>\n",
    "<p>['dippold', 'optician', 'glasses', 'lens', 'eyes', 'globes', 'light', 'angels bending', 'depths of air']</p>"
   ]
  },
  {
   "cell_type": "code",
   "execution_count": 234,
   "id": "5c95e2c1-ec40-4114-b05d-f606a3de3188",
   "metadata": {},
   "outputs": [
    {
     "data": {
      "text/plain": [
       "[('eyes', 0.1344257247519203),\n",
       " ('eye', 0.1196434702965231),\n",
       " ('vision', 0.06587515232779464),\n",
       " ('wide', 0.031103321144502306),\n",
       " ('look', 0.0286985230684364),\n",
       " ('haggard', 0.0270466246390893),\n",
       " ('downcast', 0.0270466246390893),\n",
       " ('lashes', 0.0270466246390893),\n",
       " ('his', 0.025636494175516722),\n",
       " ('staring', 0.024704080061229813)]"
      ]
     },
     "execution_count": 234,
     "metadata": {},
     "output_type": "execute_result"
    }
   ],
   "source": [
    "similar_topics, similarity=topic_model.find_topics(\"optician, glasses, lens, eyes \", top_n=5)\n",
    "topic_model.get_topic(similar_topics[0])"
   ]
  },
  {
   "cell_type": "code",
   "execution_count": 233,
   "id": "aa4389b4-185c-4c9b-88e2-207d92683571",
   "metadata": {},
   "outputs": [
    {
     "data": {
      "text/plain": [
       "[('heaven', 0.20895250724394462),\n",
       " ('earth', 0.17017759722309309),\n",
       " ('kingdom', 0.10510884820452508),\n",
       " ('gold', 0.10180003938926556),\n",
       " ('sphere', 0.08448795380940598),\n",
       " ('worlds', 0.07446561761662537),\n",
       " ('bidding', 0.06166630417712361),\n",
       " ('realms', 0.06166630417712361),\n",
       " ('losers', 0.06166630417712361),\n",
       " ('silver', 0.05255442410226254)]"
      ]
     },
     "execution_count": 233,
     "metadata": {},
     "output_type": "execute_result"
    }
   ],
   "source": [
    "similar_topics, similarity=topic_model.find_topics(\"globes\", top_n=5)\n",
    "topic_model.get_topic(similar_topics[0])"
   ]
  },
  {
   "cell_type": "code",
   "execution_count": 235,
   "id": "3a386d44-c50e-43e7-a2e7-477aa3307bf5",
   "metadata": {},
   "outputs": [
    {
     "data": {
      "text/plain": [
       "[('darkness', 0.3087658275372271),\n",
       " ('light', 0.15720620307085756),\n",
       " ('bellowing', 0.1280120512263727),\n",
       " ('spear', 0.08050312089457254),\n",
       " ('staggered', 0.08050312089457254),\n",
       " ('lantern', 0.08050312089457254),\n",
       " ('plate', 0.08050312089457254),\n",
       " ('fantastic', 0.08050312089457254),\n",
       " ('skipping', 0.08050312089457254),\n",
       " ('splinters', 0.08050312089457254)]"
      ]
     },
     "execution_count": 235,
     "metadata": {},
     "output_type": "execute_result"
    }
   ],
   "source": [
    "similar_topics, similarity=topic_model.find_topics(\"light\", top_n=5)\n",
    "topic_model.get_topic(similar_topics[0])"
   ]
  },
  {
   "cell_type": "code",
   "execution_count": 240,
   "id": "6ed162d3-da57-4503-83f6-2c38d592c047",
   "metadata": {},
   "outputs": [
    {
     "data": {
      "text/plain": [
       "[('spirit', 0.37312947722132966),\n",
       " ('spirits', 0.2628861296783206),\n",
       " ('aflame', 0.06325245213144984),\n",
       " ('gilt', 0.06325245213144984),\n",
       " ('spiritus', 0.06325245213144984),\n",
       " ('swarmed', 0.06325245213144984),\n",
       " ('frumenti', 0.06325245213144984),\n",
       " ('audacity', 0.06325245213144984),\n",
       " ('girded', 0.06325245213144984),\n",
       " ('vanquished', 0.06325245213144984)]"
      ]
     },
     "execution_count": 240,
     "metadata": {},
     "output_type": "execute_result"
    }
   ],
   "source": [
    "similar_topics, similarity=topic_model.find_topics(\"angels bending\", top_n=5)\n",
    "topic_model.get_topic(similar_topics[1])"
   ]
  },
  {
   "cell_type": "code",
   "execution_count": 242,
   "id": "f7ea5240-f263-4c00-9be2-bd645c5b0387",
   "metadata": {},
   "outputs": [
    {
     "data": {
      "text/plain": [
       "[('wind', 0.3040245642298785),\n",
       " ('winds', 0.1877510084653466),\n",
       " ('blew', 0.1877510084653466),\n",
       " ('kite', 0.17518141367420847),\n",
       " ('tumbling', 0.11807124397870639),\n",
       " ('blown', 0.11807124397870639),\n",
       " ('pockets', 0.11807124397870639),\n",
       " ('pasture', 0.11807124397870639),\n",
       " ('pane', 0.11807124397870639),\n",
       " ('northwest', 0.11807124397870639)]"
      ]
     },
     "execution_count": 242,
     "metadata": {},
     "output_type": "execute_result"
    }
   ],
   "source": [
    "similar_topics, similarity=topic_model.find_topics(\"depths of air\", top_n=5)\n",
    "topic_model.get_topic(similar_topics[0])"
   ]
  },
  {
   "cell_type": "markdown",
   "id": "dff5fe0e-7063-49dc-99c8-c39b5979d7a0",
   "metadata": {},
   "source": [
    "<h4 style=\"color:red;\"> 9a - Il suonatore Jones</h4>\n",
    "<p>['jones', 'flute', 'play', 'playing', 'player', 'dust', 'played', 'drought', 'vibrate with sounds', 'listened']</p>"
   ]
  },
  {
   "cell_type": "code",
   "execution_count": 286,
   "id": "7aa5247d-0f99-4a25-83de-c0d1a702ce22",
   "metadata": {},
   "outputs": [
    {
     "data": {
      "text/plain": [
       "[('voice', 0.08733661231645529),\n",
       " ('song', 0.0689840196590129),\n",
       " ('music', 0.0660782899398735),\n",
       " ('ear', 0.05794989697791858),\n",
       " ('singing', 0.0528626319518988),\n",
       " ('sound', 0.050858614615371715),\n",
       " ('ears', 0.04931203529731866),\n",
       " ('rhythm', 0.04931203529731866),\n",
       " ('trumpets', 0.04931203529731866),\n",
       " ('round', 0.0396469739639241)]"
      ]
     },
     "execution_count": 286,
     "metadata": {},
     "output_type": "execute_result"
    }
   ],
   "source": [
    "similar_topics, similarity=topic_model.find_topics(\"play, playing, player, played, flute, listened\", top_n=5)\n",
    "topic_model.get_topic(similar_topics[0])"
   ]
  },
  {
   "cell_type": "code",
   "execution_count": 280,
   "id": "fa7376a3-9540-4757-925f-88db62d2d639",
   "metadata": {},
   "outputs": [
    {
     "data": {
      "text/plain": [
       "[('dust', 0.5518111987076002),\n",
       " ('mud', 0.13028092431786678),\n",
       " ('howls', 0.07483388702875757),\n",
       " ('protest', 0.07483388702875757),\n",
       " ('portals', 0.07483388702875757),\n",
       " ('triumphant', 0.07483388702875757),\n",
       " ('brings', 0.07483388702875757),\n",
       " ('box', 0.07483388702875757),\n",
       " ('career', 0.07483388702875757),\n",
       " ('hazed', 0.07483388702875757)]"
      ]
     },
     "execution_count": 280,
     "metadata": {},
     "output_type": "execute_result"
    }
   ],
   "source": [
    "similar_topics, similarity=topic_model.find_topics(\"dust\", top_n=5)\n",
    "topic_model.get_topic(similar_topics[0])"
   ]
  },
  {
   "cell_type": "code",
   "execution_count": 281,
   "id": "468f2245-6d44-498a-9f24-c98245d1b8df",
   "metadata": {},
   "outputs": [
    {
     "data": {
      "text/plain": [
       "[('water', 0.4376263833305979),\n",
       " ('waters', 0.14015069131164457),\n",
       " ('fluids', 0.08050312089457254),\n",
       " ('pour', 0.08050312089457254),\n",
       " ('pool', 0.08050312089457254),\n",
       " ('pent', 0.08050312089457254),\n",
       " ('dozen', 0.08050312089457254),\n",
       " ('deeply', 0.08050312089457254),\n",
       " ('cleaned', 0.08050312089457254),\n",
       " ('sandy', 0.08050312089457254)]"
      ]
     },
     "execution_count": 281,
     "metadata": {},
     "output_type": "execute_result"
    }
   ],
   "source": [
    "similar_topics, similarity=topic_model.find_topics(\"drought\", top_n=5)\n",
    "topic_model.get_topic(similar_topics[0])"
   ]
  },
  {
   "cell_type": "code",
   "execution_count": 284,
   "id": "4a94e6dc-7cf0-40c8-93c8-c226a67c4006",
   "metadata": {},
   "outputs": [
    {
     "data": {
      "text/plain": [
       "[('dance', 0.34474822970659896),\n",
       " ('danced', 0.2919690227903474),\n",
       " ('rigadoon', 0.09839270331558865),\n",
       " ('viols', 0.09839270331558865),\n",
       " ('picnic', 0.09839270331558865),\n",
       " ('chandlerville', 0.09839270331558865),\n",
       " ('platter', 0.09839270331558865),\n",
       " ('dances', 0.09839270331558865),\n",
       " ('merrily', 0.09839270331558865),\n",
       " ('jocund', 0.09839270331558865)]"
      ]
     },
     "execution_count": 284,
     "metadata": {},
     "output_type": "execute_result"
    }
   ],
   "source": [
    "similar_topics, similarity=topic_model.find_topics(\"vibrate with sounds\", top_n=5)\n",
    "topic_model.get_topic(similar_topics[1])"
   ]
  },
  {
   "cell_type": "markdown",
   "id": "9bf751dd-7c32-4a89-bcb8-58e09478c32b",
   "metadata": {},
   "source": [
    "<h4 style=\"color:red;\"> 9b - Fiddler Jones</h4>\n",
    "<p>['fiddler', 'fiddle', 'jones', 'whirling', 'potter', 'bassoons', 'meadow', 'acres', 'rustle', 'cooney']</p>"
   ]
  },
  {
   "cell_type": "code",
   "execution_count": 261,
   "id": "8e3cdb24-7765-4c20-86c0-0ce6317b9723",
   "metadata": {},
   "outputs": [
    {
     "data": {
      "text/plain": [
       "[('fiddle', 0.41715042476156033),\n",
       " ('fiddler', 0.34762535396796695),\n",
       " ('jones', 0.22596622472422362),\n",
       " ('fiddlers', 0.10418050939297621),\n",
       " ('lowest', 0.10418050939297621),\n",
       " ('fiddled', 0.10418050939297621),\n",
       " ('fair', 0.09068574143694648),\n",
       " ('lack', 0.09068574143694648),\n",
       " ('roaring', 0.09068574143694648),\n",
       " ('mr', 0.0828313272641235)]"
      ]
     },
     "execution_count": 261,
     "metadata": {},
     "output_type": "execute_result"
    }
   ],
   "source": [
    "similar_topics, similarity=topic_model.find_topics(\"fiddle, fiddler\", top_n=5)\n",
    "topic_model.get_topic(similar_topics[0])"
   ]
  },
  {
   "cell_type": "code",
   "execution_count": 275,
   "id": "db23d1db-960c-460f-b2ff-ec1a9bc59b84",
   "metadata": {},
   "outputs": [
    {
     "data": {
      "text/plain": [
       "[('wind', 0.3040245642298785),\n",
       " ('winds', 0.1877510084653466),\n",
       " ('blew', 0.1877510084653466),\n",
       " ('kite', 0.17518141367420847),\n",
       " ('tumbling', 0.11807124397870639),\n",
       " ('blown', 0.11807124397870639),\n",
       " ('pockets', 0.11807124397870639),\n",
       " ('pasture', 0.11807124397870639),\n",
       " ('pane', 0.11807124397870639),\n",
       " ('northwest', 0.11807124397870639)]"
      ]
     },
     "execution_count": 275,
     "metadata": {},
     "output_type": "execute_result"
    }
   ],
   "source": [
    "similar_topics, similarity=topic_model.find_topics(\"whirling, rustle\", top_n=5)\n",
    "topic_model.get_topic(similar_topics[0])"
   ]
  },
  {
   "cell_type": "code",
   "execution_count": 264,
   "id": "56105668-58aa-479a-94b6-b4410a547793",
   "metadata": {},
   "outputs": [
    {
     "data": {
      "text/plain": [
       "[('hill', 0.09884535193548062),\n",
       " ('mountains', 0.08710678027999316),\n",
       " ('hills', 0.08186179262185232),\n",
       " ('mountain', 0.06533008520999486),\n",
       " ('meadow', 0.06171183780383318),\n",
       " ('golden', 0.05228674402441735),\n",
       " ('slopes', 0.05110467196999194),\n",
       " ('valleys', 0.05110467196999194),\n",
       " ('plow', 0.046678427519008824),\n",
       " ('lawn', 0.04355339013999658)]"
      ]
     },
     "execution_count": 264,
     "metadata": {},
     "output_type": "execute_result"
    }
   ],
   "source": [
    "similar_topics, similarity=topic_model.find_topics(\"meadow\", top_n=5)\n",
    "topic_model.get_topic(similar_topics[0])"
   ]
  },
  {
   "cell_type": "code",
   "execution_count": 265,
   "id": "ad4b4310-379f-4d31-8fa2-9c2f03d5b7e3",
   "metadata": {},
   "outputs": [
    {
     "data": {
      "text/plain": [
       "[('voice', 0.08733661231645529),\n",
       " ('song', 0.0689840196590129),\n",
       " ('music', 0.0660782899398735),\n",
       " ('ear', 0.05794989697791858),\n",
       " ('singing', 0.0528626319518988),\n",
       " ('sound', 0.050858614615371715),\n",
       " ('ears', 0.04931203529731866),\n",
       " ('rhythm', 0.04931203529731866),\n",
       " ('trumpets', 0.04931203529731866),\n",
       " ('round', 0.0396469739639241)]"
      ]
     },
     "execution_count": 265,
     "metadata": {},
     "output_type": "execute_result"
    }
   ],
   "source": [
    "similar_topics, similarity=topic_model.find_topics(\"bassoons\", top_n=5)\n",
    "topic_model.get_topic(similar_topics[0])"
   ]
  },
  {
   "cell_type": "code",
   "execution_count": 266,
   "id": "b4fb7031-a84f-4c9f-b44a-0d49abf3f1c3",
   "metadata": {},
   "outputs": [
    {
     "data": {
      "text/plain": [
       "[('farm', 0.3505148395710941),\n",
       " ('mortgaged', 0.11734438029084161),\n",
       " ('fretting', 0.07379452748669148),\n",
       " ('frosts', 0.07379452748669148),\n",
       " ('toothless', 0.07379452748669148),\n",
       " ('juan', 0.07379452748669148),\n",
       " ('rural', 0.07379452748669148),\n",
       " ('corporation', 0.07379452748669148),\n",
       " ('crops', 0.07379452748669148),\n",
       " ('goats', 0.07379452748669148)]"
      ]
     },
     "execution_count": 266,
     "metadata": {},
     "output_type": "execute_result"
    }
   ],
   "source": [
    "similar_topics, similarity=topic_model.find_topics(\"acres\", top_n=5)\n",
    "topic_model.get_topic(similar_topics[0])"
   ]
  }
 ],
 "metadata": {
  "kernelspec": {
   "display_name": "Python 3 (ipykernel)",
   "language": "python",
   "name": "python3"
  },
  "language_info": {
   "codemirror_mode": {
    "name": "ipython",
    "version": 3
   },
   "file_extension": ".py",
   "mimetype": "text/x-python",
   "name": "python",
   "nbconvert_exporter": "python",
   "pygments_lexer": "ipython3",
   "version": "3.9.1"
  },
  "toc-autonumbering": false,
  "toc-showmarkdowntxt": false,
  "toc-showtags": false,
  "vscode": {
   "interpreter": {
    "hash": "d9c34dadccdc9a8ad5632a11cc6acc00cf8d7ca3eded45a8302fd245d1e98056"
   }
  }
 },
 "nbformat": 4,
 "nbformat_minor": 5
}
